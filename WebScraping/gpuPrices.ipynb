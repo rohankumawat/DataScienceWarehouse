{
 "cells": [
  {
   "cell_type": "code",
   "execution_count": 1,
   "id": "376dbe8a",
   "metadata": {},
   "outputs": [],
   "source": [
    "from bs4 import BeautifulSoup\n",
    "import requests\n",
    "import re"
   ]
  },
  {
   "cell_type": "code",
   "execution_count": 2,
   "id": "11ebc51f",
   "metadata": {},
   "outputs": [
    {
     "name": "stdout",
     "output_type": "stream",
     "text": [
      "What product do you want to look for?3080\n"
     ]
    }
   ],
   "source": [
    "gpu = input(\"What product do you want to look for?\")\n",
    "\n",
    "url = f\"https://www.newegg.ca/p/pl?d={gpu}&N=4131\"\n",
    "page = requests.get(url).text\n",
    "doc = BeautifulSoup(page, \"html.parser\")\n",
    "\n",
    "# figure out how many pages are there!"
   ]
  },
  {
   "cell_type": "code",
   "execution_count": 3,
   "id": "578a5ffd",
   "metadata": {},
   "outputs": [
    {
     "name": "stdout",
     "output_type": "stream",
     "text": [
      "<span class=\"list-tool-pagination-text\">Page<!-- --> <strong>1<!-- -->/<!-- -->7</strong></span>\n"
     ]
    }
   ],
   "source": [
    "page_text = doc.find(class_ = \"list-tool-pagination-text\")\n",
    "print(page_text)"
   ]
  },
  {
   "cell_type": "code",
   "execution_count": 5,
   "id": "dfa0e00b",
   "metadata": {},
   "outputs": [],
   "source": [
    "# <strong>1<!-- -->/<!-- -->7</strong></span>\n",
    "# we'll split this up \n",
    "\n",
    "pages = str(page_text).split(\"/\")[-2].split(\">\")[-1][:-1]"
   ]
  },
  {
   "cell_type": "code",
   "execution_count": 6,
   "id": "62bf0ff8",
   "metadata": {},
   "outputs": [
    {
     "data": {
      "text/plain": [
       "''"
      ]
     },
     "execution_count": 6,
     "metadata": {},
     "output_type": "execute_result"
    }
   ],
   "source": [
    "pages"
   ]
  },
  {
   "cell_type": "code",
   "execution_count": null,
   "id": "052b120c",
   "metadata": {},
   "outputs": [],
   "source": []
  }
 ],
 "metadata": {
  "kernelspec": {
   "display_name": "Python 3 (ipykernel)",
   "language": "python",
   "name": "python3"
  },
  "language_info": {
   "codemirror_mode": {
    "name": "ipython",
    "version": 3
   },
   "file_extension": ".py",
   "mimetype": "text/x-python",
   "name": "python",
   "nbconvert_exporter": "python",
   "pygments_lexer": "ipython3",
   "version": "3.9.7"
  }
 },
 "nbformat": 4,
 "nbformat_minor": 5
}
