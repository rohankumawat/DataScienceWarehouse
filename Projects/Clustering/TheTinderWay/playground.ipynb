{
  "cells": [
    {
      "cell_type": "markdown",
      "metadata": {
        "id": "SLHobqFrPED5"
      },
      "source": [
        "# Importing data"
      ]
    },
    {
      "cell_type": "code",
      "execution_count": 1,
      "metadata": {
        "colab": {
          "base_uri": "https://localhost:8080/",
          "height": 322
        },
        "id": "K8vr9RerPED-",
        "outputId": "a0ba9cc2-ce6b-41ff-c59b-ef059e580965"
      },
      "outputs": [
        {
          "output_type": "execute_result",
          "data": {
            "text/plain": [
              "   age       body_type        diet    drinks      drugs  education  \\\n",
              "0   22  a little extra    anything  socially      never   studying   \n",
              "1   36         average       other     often  sometimes   studying   \n",
              "2   37            thin    anything  socially        NaN  graduated   \n",
              "3   22            thin  vegetarian  socially        NaN   studying   \n",
              "4   30        athletic         NaN  socially      never  graduated   \n",
              "\n",
              "             ethnicity  height  income             job orientation likes_dog  \\\n",
              "0         asian, white    75.0      -1  transportation    straight       yes   \n",
              "1                white    70.0   80000     hospitality    straight       yes   \n",
              "2                  NaN    68.0      -1             NaN    straight        no   \n",
              "3                white    71.0   20000         student    straight        no   \n",
              "4  asian, black, other    66.0      -1          artist    straight       yes   \n",
              "\n",
              "  likes_cat     religion sex      sign     smokes sign_matters  \\\n",
              "0       yes  agnosticism   m    gemini  sometimes          NaN   \n",
              "1       yes  agnosticism   m    cancer         no          NaN   \n",
              "2       yes          NaN   m    pisces         no           no   \n",
              "3       yes          NaN   m    pisces         no          NaN   \n",
              "4       yes          NaN   m  aquarius         no          NaN   \n",
              "\n",
              "                     speaks     status  \n",
              "0                   english     single  \n",
              "1  english, spanish, french     single  \n",
              "2                       NaN  available  \n",
              "3                       NaN     single  \n",
              "4                   english     single  "
            ],
            "text/html": [
              "\n",
              "  <div id=\"df-c008f88d-3b95-4660-a3d0-177388212c77\">\n",
              "    <div class=\"colab-df-container\">\n",
              "      <div>\n",
              "<style scoped>\n",
              "    .dataframe tbody tr th:only-of-type {\n",
              "        vertical-align: middle;\n",
              "    }\n",
              "\n",
              "    .dataframe tbody tr th {\n",
              "        vertical-align: top;\n",
              "    }\n",
              "\n",
              "    .dataframe thead th {\n",
              "        text-align: right;\n",
              "    }\n",
              "</style>\n",
              "<table border=\"1\" class=\"dataframe\">\n",
              "  <thead>\n",
              "    <tr style=\"text-align: right;\">\n",
              "      <th></th>\n",
              "      <th>age</th>\n",
              "      <th>body_type</th>\n",
              "      <th>diet</th>\n",
              "      <th>drinks</th>\n",
              "      <th>drugs</th>\n",
              "      <th>education</th>\n",
              "      <th>ethnicity</th>\n",
              "      <th>height</th>\n",
              "      <th>income</th>\n",
              "      <th>job</th>\n",
              "      <th>orientation</th>\n",
              "      <th>likes_dog</th>\n",
              "      <th>likes_cat</th>\n",
              "      <th>religion</th>\n",
              "      <th>sex</th>\n",
              "      <th>sign</th>\n",
              "      <th>smokes</th>\n",
              "      <th>sign_matters</th>\n",
              "      <th>speaks</th>\n",
              "      <th>status</th>\n",
              "    </tr>\n",
              "  </thead>\n",
              "  <tbody>\n",
              "    <tr>\n",
              "      <th>0</th>\n",
              "      <td>22</td>\n",
              "      <td>a little extra</td>\n",
              "      <td>anything</td>\n",
              "      <td>socially</td>\n",
              "      <td>never</td>\n",
              "      <td>studying</td>\n",
              "      <td>asian, white</td>\n",
              "      <td>75.0</td>\n",
              "      <td>-1</td>\n",
              "      <td>transportation</td>\n",
              "      <td>straight</td>\n",
              "      <td>yes</td>\n",
              "      <td>yes</td>\n",
              "      <td>agnosticism</td>\n",
              "      <td>m</td>\n",
              "      <td>gemini</td>\n",
              "      <td>sometimes</td>\n",
              "      <td>NaN</td>\n",
              "      <td>english</td>\n",
              "      <td>single</td>\n",
              "    </tr>\n",
              "    <tr>\n",
              "      <th>1</th>\n",
              "      <td>36</td>\n",
              "      <td>average</td>\n",
              "      <td>other</td>\n",
              "      <td>often</td>\n",
              "      <td>sometimes</td>\n",
              "      <td>studying</td>\n",
              "      <td>white</td>\n",
              "      <td>70.0</td>\n",
              "      <td>80000</td>\n",
              "      <td>hospitality</td>\n",
              "      <td>straight</td>\n",
              "      <td>yes</td>\n",
              "      <td>yes</td>\n",
              "      <td>agnosticism</td>\n",
              "      <td>m</td>\n",
              "      <td>cancer</td>\n",
              "      <td>no</td>\n",
              "      <td>NaN</td>\n",
              "      <td>english, spanish, french</td>\n",
              "      <td>single</td>\n",
              "    </tr>\n",
              "    <tr>\n",
              "      <th>2</th>\n",
              "      <td>37</td>\n",
              "      <td>thin</td>\n",
              "      <td>anything</td>\n",
              "      <td>socially</td>\n",
              "      <td>NaN</td>\n",
              "      <td>graduated</td>\n",
              "      <td>NaN</td>\n",
              "      <td>68.0</td>\n",
              "      <td>-1</td>\n",
              "      <td>NaN</td>\n",
              "      <td>straight</td>\n",
              "      <td>no</td>\n",
              "      <td>yes</td>\n",
              "      <td>NaN</td>\n",
              "      <td>m</td>\n",
              "      <td>pisces</td>\n",
              "      <td>no</td>\n",
              "      <td>no</td>\n",
              "      <td>NaN</td>\n",
              "      <td>available</td>\n",
              "    </tr>\n",
              "    <tr>\n",
              "      <th>3</th>\n",
              "      <td>22</td>\n",
              "      <td>thin</td>\n",
              "      <td>vegetarian</td>\n",
              "      <td>socially</td>\n",
              "      <td>NaN</td>\n",
              "      <td>studying</td>\n",
              "      <td>white</td>\n",
              "      <td>71.0</td>\n",
              "      <td>20000</td>\n",
              "      <td>student</td>\n",
              "      <td>straight</td>\n",
              "      <td>no</td>\n",
              "      <td>yes</td>\n",
              "      <td>NaN</td>\n",
              "      <td>m</td>\n",
              "      <td>pisces</td>\n",
              "      <td>no</td>\n",
              "      <td>NaN</td>\n",
              "      <td>NaN</td>\n",
              "      <td>single</td>\n",
              "    </tr>\n",
              "    <tr>\n",
              "      <th>4</th>\n",
              "      <td>30</td>\n",
              "      <td>athletic</td>\n",
              "      <td>NaN</td>\n",
              "      <td>socially</td>\n",
              "      <td>never</td>\n",
              "      <td>graduated</td>\n",
              "      <td>asian, black, other</td>\n",
              "      <td>66.0</td>\n",
              "      <td>-1</td>\n",
              "      <td>artist</td>\n",
              "      <td>straight</td>\n",
              "      <td>yes</td>\n",
              "      <td>yes</td>\n",
              "      <td>NaN</td>\n",
              "      <td>m</td>\n",
              "      <td>aquarius</td>\n",
              "      <td>no</td>\n",
              "      <td>NaN</td>\n",
              "      <td>english</td>\n",
              "      <td>single</td>\n",
              "    </tr>\n",
              "  </tbody>\n",
              "</table>\n",
              "</div>\n",
              "      <button class=\"colab-df-convert\" onclick=\"convertToInteractive('df-c008f88d-3b95-4660-a3d0-177388212c77')\"\n",
              "              title=\"Convert this dataframe to an interactive table.\"\n",
              "              style=\"display:none;\">\n",
              "        \n",
              "  <svg xmlns=\"http://www.w3.org/2000/svg\" height=\"24px\"viewBox=\"0 0 24 24\"\n",
              "       width=\"24px\">\n",
              "    <path d=\"M0 0h24v24H0V0z\" fill=\"none\"/>\n",
              "    <path d=\"M18.56 5.44l.94 2.06.94-2.06 2.06-.94-2.06-.94-.94-2.06-.94 2.06-2.06.94zm-11 1L8.5 8.5l.94-2.06 2.06-.94-2.06-.94L8.5 2.5l-.94 2.06-2.06.94zm10 10l.94 2.06.94-2.06 2.06-.94-2.06-.94-.94-2.06-.94 2.06-2.06.94z\"/><path d=\"M17.41 7.96l-1.37-1.37c-.4-.4-.92-.59-1.43-.59-.52 0-1.04.2-1.43.59L10.3 9.45l-7.72 7.72c-.78.78-.78 2.05 0 2.83L4 21.41c.39.39.9.59 1.41.59.51 0 1.02-.2 1.41-.59l7.78-7.78 2.81-2.81c.8-.78.8-2.07 0-2.86zM5.41 20L4 18.59l7.72-7.72 1.47 1.35L5.41 20z\"/>\n",
              "  </svg>\n",
              "      </button>\n",
              "      \n",
              "  <style>\n",
              "    .colab-df-container {\n",
              "      display:flex;\n",
              "      flex-wrap:wrap;\n",
              "      gap: 12px;\n",
              "    }\n",
              "\n",
              "    .colab-df-convert {\n",
              "      background-color: #E8F0FE;\n",
              "      border: none;\n",
              "      border-radius: 50%;\n",
              "      cursor: pointer;\n",
              "      display: none;\n",
              "      fill: #1967D2;\n",
              "      height: 32px;\n",
              "      padding: 0 0 0 0;\n",
              "      width: 32px;\n",
              "    }\n",
              "\n",
              "    .colab-df-convert:hover {\n",
              "      background-color: #E2EBFA;\n",
              "      box-shadow: 0px 1px 2px rgba(60, 64, 67, 0.3), 0px 1px 3px 1px rgba(60, 64, 67, 0.15);\n",
              "      fill: #174EA6;\n",
              "    }\n",
              "\n",
              "    [theme=dark] .colab-df-convert {\n",
              "      background-color: #3B4455;\n",
              "      fill: #D2E3FC;\n",
              "    }\n",
              "\n",
              "    [theme=dark] .colab-df-convert:hover {\n",
              "      background-color: #434B5C;\n",
              "      box-shadow: 0px 1px 3px 1px rgba(0, 0, 0, 0.15);\n",
              "      filter: drop-shadow(0px 1px 2px rgba(0, 0, 0, 0.3));\n",
              "      fill: #FFFFFF;\n",
              "    }\n",
              "  </style>\n",
              "\n",
              "      <script>\n",
              "        const buttonEl =\n",
              "          document.querySelector('#df-c008f88d-3b95-4660-a3d0-177388212c77 button.colab-df-convert');\n",
              "        buttonEl.style.display =\n",
              "          google.colab.kernel.accessAllowed ? 'block' : 'none';\n",
              "\n",
              "        async function convertToInteractive(key) {\n",
              "          const element = document.querySelector('#df-c008f88d-3b95-4660-a3d0-177388212c77');\n",
              "          const dataTable =\n",
              "            await google.colab.kernel.invokeFunction('convertToInteractive',\n",
              "                                                     [key], {});\n",
              "          if (!dataTable) return;\n",
              "\n",
              "          const docLinkHtml = 'Like what you see? Visit the ' +\n",
              "            '<a target=\"_blank\" href=https://colab.research.google.com/notebooks/data_table.ipynb>data table notebook</a>'\n",
              "            + ' to learn more about interactive tables.';\n",
              "          element.innerHTML = '';\n",
              "          dataTable['output_type'] = 'display_data';\n",
              "          await google.colab.output.renderOutput(dataTable, element);\n",
              "          const docLink = document.createElement('div');\n",
              "          docLink.innerHTML = docLinkHtml;\n",
              "          element.appendChild(docLink);\n",
              "        }\n",
              "      </script>\n",
              "    </div>\n",
              "  </div>\n",
              "  "
            ]
          },
          "metadata": {},
          "execution_count": 1
        }
      ],
      "source": [
        "import numpy as np\n",
        "import pandas as pd\n",
        "data = pd.read_csv('https://techlearn-cdn.s3.amazonaws.com/bs_tinder_clustering/profiles.csv')\n",
        "data.head()"
      ]
    },
    {
      "cell_type": "markdown",
      "metadata": {
        "id": "uiJNfaS8PEED"
      },
      "source": [
        "# Data Analysis"
      ]
    },
    {
      "cell_type": "code",
      "execution_count": 2,
      "metadata": {
        "id": "aJPpe2-UPEEE"
      },
      "outputs": [],
      "source": [
        "import matplotlib.pyplot as plt\n",
        "import seaborn as sns"
      ]
    },
    {
      "cell_type": "markdown",
      "metadata": {
        "id": "U9FadKnjPEEE"
      },
      "source": [
        "## Gender ratio"
      ]
    },
    {
      "cell_type": "code",
      "execution_count": 3,
      "metadata": {
        "colab": {
          "base_uri": "https://localhost:8080/",
          "height": 297
        },
        "id": "2jbm4bnoPEEE",
        "outputId": "98edf7ae-d90b-4398-a6d2-3d944c2e9827"
      },
      "outputs": [
        {
          "output_type": "execute_result",
          "data": {
            "text/plain": [
              "<matplotlib.axes._subplots.AxesSubplot at 0x7ff80b150190>"
            ]
          },
          "metadata": {},
          "execution_count": 3
        },
        {
          "output_type": "display_data",
          "data": {
            "text/plain": [
              "<Figure size 432x288 with 1 Axes>"
            ],
            "image/png": "[encoded data removed]"
          },
          "metadata": {
            "needs_background": "light"
          }
        }
      ],
      "source": [
        "sns.countplot(data=data, y='sex')"
      ]
    },
    {
      "cell_type": "markdown",
      "metadata": {
        "id": "CvUKjQBrPEEF"
      },
      "source": [
        "## Age distribution of users"
      ]
    },
    {
      "cell_type": "code",
      "execution_count": 4,
      "metadata": {
        "colab": {
          "base_uri": "https://localhost:8080/",
          "height": 258
        },
        "id": "_FpQQ8dYPEEG",
        "outputId": "de9c271c-e749-4853-9c51-947aeea20611"
      },
      "outputs": [
        {
          "output_type": "stream",
          "name": "stderr",
          "text": [
            "/usr/local/lib/python3.7/dist-packages/seaborn/distributions.py:2619: FutureWarning: `distplot` is a deprecated function and will be removed in a future version. Please adapt your code to use either `displot` (a figure-level function with similar flexibility) or `histplot` (an axes-level function for histograms).\n",
            "  warnings.warn(msg, FutureWarning)\n"
          ]
        },
        {
          "output_type": "execute_result",
          "data": {
            "text/plain": [
              "<matplotlib.axes._subplots.AxesSubplot at 0x7ff7ef8fb210>"
            ]
          },
          "metadata": {},
          "execution_count": 4
        },
        {
          "output_type": "display_data",
          "data": {
            "text/plain": [
              "<Figure size 2160x360 with 1 Axes>"
            ],
            "image/png": "[encoded data removed]"
          },
          "metadata": {
            "needs_background": "light"
          }
        }
      ],
      "source": [
        "plt.figure(figsize=(30,5))\n",
        "sns.distplot(data['age'])"
      ]
    },
    {
      "cell_type": "code",
      "execution_count": 5,
      "metadata": {
        "colab": {
          "base_uri": "https://localhost:8080/",
          "height": 199
        },
        "id": "pqcyNmqIPEEI",
        "outputId": "c980c672-0b13-43f4-b9e5-2f9b3ec2b752"
      },
      "outputs": [
        {
          "output_type": "execute_result",
          "data": {
            "text/plain": [
              "<matplotlib.axes._subplots.AxesSubplot at 0x7ff7eab18f50>"
            ]
          },
          "metadata": {},
          "execution_count": 5
        },
        {
          "output_type": "display_data",
          "data": {
            "text/plain": [
              "<Figure size 2160x360 with 1 Axes>"
            ],
            "image/png": "[encoded data removed]"
          },
          "metadata": {
            "needs_background": "light"
          }
        }
      ],
      "source": [
        "plt.figure(figsize=(30,5))\n",
        "sns.kdeplot(data=data, x='age', hue='sex')"
      ]
    },
    {
      "cell_type": "markdown",
      "metadata": {
        "id": "w7BxOY2qPEEJ"
      },
      "source": [
        "## Height distribuition of users"
      ]
    },
    {
      "cell_type": "code",
      "execution_count": 6,
      "metadata": {
        "colab": {
          "base_uri": "https://localhost:8080/",
          "height": 201
        },
        "id": "zD_Q3gccPEEK",
        "outputId": "42117f24-4a27-4816-eba5-09d2521b861e"
      },
      "outputs": [
        {
          "output_type": "execute_result",
          "data": {
            "text/plain": [
              "<matplotlib.axes._subplots.AxesSubplot at 0x7ff7eaa3d8d0>"
            ]
          },
          "metadata": {},
          "execution_count": 6
        },
        {
          "output_type": "display_data",
          "data": {
            "text/plain": [
              "<Figure size 2160x360 with 1 Axes>"
            ],
            "image/png": "[encoded data removed]"
          },
          "metadata": {
            "needs_background": "light"
          }
        }
      ],
      "source": [
        "plt.figure(figsize=(30,5))\n",
        "sns.kdeplot(data=data, x='height', hue='sex')"
      ]
    },
    {
      "cell_type": "markdown",
      "metadata": {
        "id": "3Xi18KdBPEEL"
      },
      "source": [
        "## Count of drugs, drinks, smokes"
      ]
    },
    {
      "cell_type": "code",
      "execution_count": 7,
      "metadata": {
        "colab": {
          "base_uri": "https://localhost:8080/",
          "height": 198
        },
        "id": "k96x6PuPPEEL",
        "outputId": "1484545a-d56c-4ccc-e65d-0678638850ce"
      },
      "outputs": [
        {
          "output_type": "execute_result",
          "data": {
            "text/plain": [
              "<matplotlib.axes._subplots.AxesSubplot at 0x7ff7ea9a1090>"
            ]
          },
          "metadata": {},
          "execution_count": 7
        },
        {
          "output_type": "display_data",
          "data": {
            "text/plain": [
              "<Figure size 2160x360 with 3 Axes>"
            ],
            "image/png": "[encoded data removed]"
          },
          "metadata": {
            "needs_background": "light"
          }
        }
      ],
      "source": [
        "fig, axs = plt.subplots(1,3, figsize=(30,5))\n",
        "sns.countplot(data=data, y='drugs', ax=axs[0])\n",
        "sns.countplot(data=data, y='drinks', ax=axs[1])\n",
        "sns.countplot(data=data, y='smokes', ax=axs[2])"
      ]
    },
    {
      "cell_type": "markdown",
      "metadata": {
        "id": "upZHKvBAPEEM"
      },
      "source": [
        "## Relationship status of users "
      ]
    },
    {
      "cell_type": "code",
      "execution_count": 8,
      "metadata": {
        "colab": {
          "base_uri": "https://localhost:8080/",
          "height": 297
        },
        "id": "niXkLg8rPEEM",
        "outputId": "76f3ad60-b2da-4c9f-a17a-37e12a6b9ca8"
      },
      "outputs": [
        {
          "output_type": "execute_result",
          "data": {
            "text/plain": [
              "<matplotlib.axes._subplots.AxesSubplot at 0x7ff7ea87dbd0>"
            ]
          },
          "metadata": {},
          "execution_count": 8
        },
        {
          "output_type": "display_data",
          "data": {
            "text/plain": [
              "<Figure size 432x288 with 1 Axes>"
            ],
            "image/png": "[encoded data removed]"
          },
          "metadata": {
            "needs_background": "light"
          }
        }
      ],
      "source": [
        "sns.countplot(data=data, y='status')"
      ]
    },
    {
      "cell_type": "markdown",
      "metadata": {
        "id": "OqIKie_ePEEM"
      },
      "source": [
        "## Analyzing jobs"
      ]
    },
    {
      "cell_type": "code",
      "execution_count": 9,
      "metadata": {
        "colab": {
          "base_uri": "https://localhost:8080/",
          "height": 423
        },
        "id": "o_D3iZjPPEEN",
        "outputId": "91bf2e3e-3ab6-4b69-935a-9dd1df74f7bc"
      },
      "outputs": [
        {
          "output_type": "display_data",
          "data": {
            "text/plain": [
              "<Figure size 1080x504 with 1 Axes>"
            ],
            "image/png": "[encoded data removed]"
          },
          "metadata": {
            "needs_background": "light"
          }
        }
      ],
      "source": [
        "plt.figure(figsize=(15,7))\n",
        "sns.countplot(data=data, y='job', order=data.job.value_counts().index)\n",
        "plt.show()"
      ]
    },
    {
      "cell_type": "markdown",
      "metadata": {
        "id": "036JkSMIPEEN"
      },
      "source": [
        "## Analyzing ethnicities"
      ]
    },
    {
      "cell_type": "code",
      "execution_count": 10,
      "metadata": {
        "colab": {
          "base_uri": "https://localhost:8080/"
        },
        "id": "l7K39TqaPEEN",
        "outputId": "74c1a747-0836-4e4d-d6a5-1b105727e35d"
      },
      "outputs": [
        {
          "output_type": "execute_result",
          "data": {
            "text/plain": [
              "array(['asian, white', 'white', nan, 'asian, black, other',\n",
              "       'white, other', 'hispanic / latin, white', 'hispanic / latin',\n",
              "       'pacific islander, white', 'asian', 'black, white',\n",
              "       'pacific islander', 'asian, native american',\n",
              "       'asian, pacific islander', 'black, native american, white',\n",
              "       'middle eastern, other', 'native american, white', 'indian',\n",
              "       'black', 'black, native american, hispanic / latin, other',\n",
              "       'black, native american, hispanic / latin',\n",
              "       'asian, black, pacific islander',\n",
              "       'asian, middle eastern, black, native american, indian, pacific islander, hispanic / latin, white, other',\n",
              "       'other', 'hispanic / latin, other', 'asian, black',\n",
              "       'middle eastern, white', 'native american, white, other',\n",
              "       'black, native american', 'black, white, other',\n",
              "       'hispanic / latin, white, other', 'middle eastern', 'black, other',\n",
              "       'native american, hispanic / latin, white', 'black, indian',\n",
              "       'indian, white, other', 'middle eastern, indian, other',\n",
              "       'black, native american, hispanic / latin, white, other',\n",
              "       'pacific islander, hispanic / latin',\n",
              "       'black, hispanic / latin, white', 'native american',\n",
              "       'indian, white', 'asian, white, other', 'black, hispanic / latin',\n",
              "       'asian, hispanic / latin, white',\n",
              "       'middle eastern, hispanic / latin',\n",
              "       'asian, black, native american, pacific islander, white',\n",
              "       'middle eastern, indian', 'asian, indian',\n",
              "       'pacific islander, other', 'black, native american, white, other',\n",
              "       'black, pacific islander',\n",
              "       'middle eastern, native american, white',\n",
              "       'asian, native american, white, other',\n",
              "       'pacific islander, hispanic / latin, white', 'indian, other',\n",
              "       'asian, pacific islander, other', 'black, hispanic / latin, other',\n",
              "       'asian, black, native american',\n",
              "       'black, native american, hispanic / latin, white',\n",
              "       'native american, hispanic / latin', 'indian, hispanic / latin',\n",
              "       'native american, pacific islander',\n",
              "       'asian, black, native american, hispanic / latin, white',\n",
              "       'asian, black, white',\n",
              "       'asian, black, native american, pacific islander, other',\n",
              "       'middle eastern, hispanic / latin, white',\n",
              "       'asian, pacific islander, white',\n",
              "       'asian, native american, hispanic / latin, white, other',\n",
              "       'asian, hispanic / latin', 'asian, pacific islander, white, other',\n",
              "       'middle eastern, white, other',\n",
              "       'asian, pacific islander, hispanic / latin',\n",
              "       'black, native american, indian, other',\n",
              "       'native american, hispanic / latin, white, other',\n",
              "       'black, native american, other', 'asian, other',\n",
              "       'middle eastern, hispanic / latin, other',\n",
              "       'pacific islander, hispanic / latin, white, other',\n",
              "       'asian, black, hispanic / latin',\n",
              "       'asian, pacific islander, hispanic / latin, white',\n",
              "       'asian, black, native american, white',\n",
              "       'asian, middle eastern, white, other',\n",
              "       'native american, pacific islander, hispanic / latin',\n",
              "       'asian, native american, white',\n",
              "       'native american, pacific islander, hispanic / latin, white, other',\n",
              "       'indian, pacific islander', 'asian, middle eastern, black',\n",
              "       'asian, middle eastern, indian', 'asian, middle eastern, white',\n",
              "       'pacific islander, white, other',\n",
              "       'black, pacific islander, hispanic / latin',\n",
              "       'asian, middle eastern', 'asian, hispanic / latin, other',\n",
              "       'middle eastern, black, native american, indian, white, other',\n",
              "       'middle eastern, pacific islander, other', 'middle eastern, black',\n",
              "       'asian, indian, pacific islander',\n",
              "       'black, native american, pacific islander',\n",
              "       'native american, indian',\n",
              "       'asian, middle eastern, black, native american, indian, pacific islander, hispanic / latin, white',\n",
              "       'black, indian, other',\n",
              "       'asian, middle eastern, indian, hispanic / latin, white, other',\n",
              "       'middle eastern, black, white',\n",
              "       'asian, hispanic / latin, white, other',\n",
              "       'native american, hispanic / latin, other',\n",
              "       'middle eastern, black, pacific islander, white',\n",
              "       'asian, black, native american, hispanic / latin',\n",
              "       'native american, other', 'black, indian, white',\n",
              "       'asian, native american, hispanic / latin, white',\n",
              "       'black, native american, indian, white',\n",
              "       'middle eastern, black, indian, pacific islander, hispanic / latin, white',\n",
              "       'middle eastern, hispanic / latin, white, other',\n",
              "       'asian, black, native american, other',\n",
              "       'native american, pacific islander, hispanic / latin, white',\n",
              "       'asian, indian, other',\n",
              "       'middle eastern, native american, hispanic / latin, white, other',\n",
              "       'asian, middle eastern, black, pacific islander, hispanic / latin, white',\n",
              "       'black, native american, pacific islander, hispanic / latin, white, other',\n",
              "       'asian, middle eastern, native american, hispanic / latin, white',\n",
              "       'asian, middle eastern, black, native american, pacific islander, hispanic / latin, white, other',\n",
              "       'asian, indian, white',\n",
              "       'native american, pacific islander, white, other',\n",
              "       'middle eastern, black, native american, indian, pacific islander, hispanic / latin, white',\n",
              "       'asian, middle eastern, other', 'middle eastern, pacific islander',\n",
              "       'asian, black, hispanic / latin, other',\n",
              "       'asian, middle eastern, black, native american, hispanic / latin, white',\n",
              "       'middle eastern, black, hispanic / latin',\n",
              "       'black, pacific islander, white',\n",
              "       'asian, middle eastern, black, native american, indian, pacific islander, hispanic / latin, other',\n",
              "       'middle eastern, black, native american, indian, hispanic / latin, white',\n",
              "       'asian, pacific islander, hispanic / latin, white, other',\n",
              "       'middle eastern, indian, white', 'asian, indian, white, other',\n",
              "       'middle eastern, black, native american, white, other',\n",
              "       'black, native american, pacific islander, other',\n",
              "       'middle eastern, black, native american, white',\n",
              "       'asian, indian, pacific islander, other',\n",
              "       'asian, black, native american, white, other',\n",
              "       'black, indian, hispanic / latin, white',\n",
              "       'asian, middle eastern, black, native american, indian, pacific islander, white',\n",
              "       'asian, black, pacific islander, hispanic / latin',\n",
              "       'middle eastern, black, native american, indian, pacific islander, hispanic / latin, white, other',\n",
              "       'asian, black, native american, indian',\n",
              "       'asian, black, indian, hispanic / latin, other',\n",
              "       'indian, hispanic / latin, other',\n",
              "       'asian, indian, hispanic / latin',\n",
              "       'asian, native american, pacific islander, white, other',\n",
              "       'asian, black, native american, indian, hispanic / latin, white, other',\n",
              "       'asian, indian, hispanic / latin, white',\n",
              "       'pacific islander, hispanic / latin, other',\n",
              "       'asian, indian, pacific islander, hispanic / latin, white, other',\n",
              "       'indian, hispanic / latin, white',\n",
              "       'asian, native american, pacific islander, hispanic / latin, white, other',\n",
              "       'asian, pacific islander, hispanic / latin, other',\n",
              "       'asian, black, hispanic / latin, white, other',\n",
              "       'black, indian, hispanic / latin',\n",
              "       'middle eastern, black, native american, hispanic / latin, white',\n",
              "       'black, pacific islander, other',\n",
              "       'black, native american, pacific islander, white',\n",
              "       'asian, black, native american, pacific islander',\n",
              "       'asian, indian, hispanic / latin, other',\n",
              "       'middle eastern, native american',\n",
              "       'middle eastern, native american, hispanic / latin',\n",
              "       'black, hispanic / latin, white, other',\n",
              "       'asian, native american, pacific islander, hispanic / latin, white',\n",
              "       'asian, native american, hispanic / latin',\n",
              "       'black, native american, indian, hispanic / latin, white, other',\n",
              "       'asian, middle eastern, hispanic / latin, white',\n",
              "       'black, native american, pacific islander, white, other',\n",
              "       'native american, indian, pacific islander, hispanic / latin',\n",
              "       'black, indian, white, other',\n",
              "       'asian, middle eastern, native american, pacific islander, hispanic / latin, white, other',\n",
              "       'native american, pacific islander, white',\n",
              "       'middle eastern, indian, white, other',\n",
              "       'asian, black, white, other',\n",
              "       'middle eastern, native american, hispanic / latin, white',\n",
              "       'indian, hispanic / latin, white, other',\n",
              "       'asian, middle eastern, black, pacific islander',\n",
              "       'asian, middle eastern, black, indian, pacific islander, hispanic / latin, white',\n",
              "       'asian, middle eastern, indian, other',\n",
              "       'asian, middle eastern, black, white, other',\n",
              "       'black, native american, pacific islander, hispanic / latin, white',\n",
              "       'black, native american, indian, pacific islander, hispanic / latin',\n",
              "       'asian, black, pacific islander, white',\n",
              "       'middle eastern, pacific islander, hispanic / latin',\n",
              "       'black, native american, indian, white, other',\n",
              "       'asian, black, hispanic / latin, white',\n",
              "       'asian, black, native american, indian, pacific islander, white',\n",
              "       'asian, black, native american, indian, pacific islander, hispanic / latin',\n",
              "       'asian, middle eastern, hispanic / latin, white, other',\n",
              "       'middle eastern, black, native american, indian',\n",
              "       'asian, native american, pacific islander',\n",
              "       'asian, black, native american, pacific islander, white, other',\n",
              "       'asian, middle eastern, hispanic / latin',\n",
              "       'asian, black, pacific islander, other',\n",
              "       'asian, native american, indian, pacific islander, hispanic / latin, white',\n",
              "       'middle eastern, native american, white, other',\n",
              "       'asian, native american, hispanic / latin, other',\n",
              "       'native american, indian, white',\n",
              "       'black, native american, pacific islander, hispanic / latin',\n",
              "       'asian, native american, pacific islander, white',\n",
              "       'black, native american, indian',\n",
              "       'indian, pacific islander, hispanic / latin, white',\n",
              "       'asian, middle eastern, black, native american, indian, pacific islander, hispanic / latin',\n",
              "       'asian, middle eastern, indian, hispanic / latin',\n",
              "       'asian, middle eastern, native american, pacific islander, other',\n",
              "       'black, native american, indian, pacific islander',\n",
              "       'asian, middle eastern, native american, pacific islander, white, other',\n",
              "       'asian, native american, other', 'middle eastern, black, other',\n",
              "       'asian, black, pacific islander, hispanic / latin, white',\n",
              "       'asian, middle eastern, native american, indian, pacific islander, hispanic / latin, white',\n",
              "       'asian, native american, indian, pacific islander, hispanic / latin, white, other',\n",
              "       'asian, middle eastern, black, pacific islander, hispanic / latin',\n",
              "       'asian, black, pacific islander, white, other',\n",
              "       'asian, black, indian'], dtype=object)"
            ]
          },
          "metadata": {},
          "execution_count": 10
        }
      ],
      "source": [
        "data.ethnicity.unique()"
      ]
    },
    {
      "cell_type": "code",
      "execution_count": 11,
      "metadata": {
        "id": "z-mZUmQuPEEO"
      },
      "outputs": [],
      "source": [
        "ethnicities = {}\n",
        "\n",
        "def update_ethnicities(list_of_ethnicities):\n",
        "    for ethnicity in list_of_ethnicities:\n",
        "        if ethnicity.strip() in ethnicities:\n",
        "            ethnicities[ethnicity.strip()] += 1 \n",
        "        else:\n",
        "            ethnicities[ethnicity.strip()] = 0\n",
        "\n",
        "_ = data.ethnicity.apply(lambda x:  update_ethnicities(x.split(',')) if pd.notna(x) else [] ) "
      ]
    },
    {
      "cell_type": "code",
      "execution_count": 12,
      "metadata": {
        "colab": {
          "base_uri": "https://localhost:8080/"
        },
        "id": "FRze1xtoPEEP",
        "outputId": "2634dff3-aa4d-477f-cb9b-f0dbf34dce34"
      },
      "outputs": [
        {
          "output_type": "stream",
          "name": "stdout",
          "text": [
            "Found 9 ethnicities\n"
          ]
        }
      ],
      "source": [
        "print(f'Found {len(ethnicities)} ethnicities')"
      ]
    },
    {
      "cell_type": "code",
      "execution_count": 13,
      "metadata": {
        "colab": {
          "base_uri": "https://localhost:8080/",
          "height": 226
        },
        "id": "juvEkwi7PEEP",
        "outputId": "a298d958-5a39-4f3b-a568-1da72978eb45"
      },
      "outputs": [
        {
          "output_type": "display_data",
          "data": {
            "text/plain": [
              "<Figure size 2160x504 with 1 Axes>"
            ],
            "image/png": "[encoded data removed]"
          },
          "metadata": {
            "needs_background": "light"
          }
        }
      ],
      "source": [
        "plt.figure(figsize=(30,7))\n",
        "plt.barh(range(len(ethnicities)), ethnicities.values(), align='center')\n",
        "plt.yticks(range(len(ethnicities)), ethnicities.keys())\n",
        "plt.show()"
      ]
    },
    {
      "cell_type": "markdown",
      "metadata": {
        "id": "0pm8Ehn_PEEQ"
      },
      "source": [
        "## Analyzing languages"
      ]
    },
    {
      "cell_type": "code",
      "execution_count": 14,
      "metadata": {
        "colab": {
          "base_uri": "https://localhost:8080/"
        },
        "id": "2qr38ta6PEEQ",
        "outputId": "46e1e6db-0f2b-4814-a85a-d13d5e7ce64b"
      },
      "outputs": [
        {
          "output_type": "execute_result",
          "data": {
            "text/plain": [
              "array(['english', 'english, spanish, french', nan, ...,\n",
              "       'english, german, russian, hindi',\n",
              "       'english, spanish, german, tagalog, other',\n",
              "       'english, spanish, c++, japanese, russian'], dtype=object)"
            ]
          },
          "metadata": {},
          "execution_count": 14
        }
      ],
      "source": [
        "data.speaks.unique()"
      ]
    },
    {
      "cell_type": "code",
      "execution_count": 15,
      "metadata": {
        "id": "ozxfVuOOPEEQ"
      },
      "outputs": [],
      "source": [
        "languages = {}\n",
        "\n",
        "def update_languages(list_of_languages):\n",
        "    for language in list_of_languages:\n",
        "        if language.strip() in languages:\n",
        "            languages[language.strip()] += 1\n",
        "        else:\n",
        "            languages[language.strip()] = 0\n",
        "\n",
        "_ = data.speaks.apply(lambda x:  update_languages(x.split(',')) if pd.notna(x) else [] ) "
      ]
    },
    {
      "cell_type": "code",
      "execution_count": 16,
      "metadata": {
        "colab": {
          "base_uri": "https://localhost:8080/"
        },
        "id": "haC7GUlUPEER",
        "outputId": "2baa1ca3-ec51-499f-a709-3e4471c748c1"
      },
      "outputs": [
        {
          "output_type": "stream",
          "name": "stdout",
          "text": [
            "Found 26 languages\n"
          ]
        }
      ],
      "source": [
        "print(f'Found {len(languages)} languages')"
      ]
    },
    {
      "cell_type": "code",
      "execution_count": 17,
      "metadata": {
        "colab": {
          "base_uri": "https://localhost:8080/",
          "height": 227
        },
        "id": "YQyVmxKBPEER",
        "outputId": "83a2bfdd-3057-446d-d120-64a948e10747"
      },
      "outputs": [
        {
          "output_type": "display_data",
          "data": {
            "text/plain": [
              "<Figure size 2160x504 with 1 Axes>"
            ],
            "image/png": "[encoded data removed]"
          },
          "metadata": {
            "needs_background": "light"
          }
        }
      ],
      "source": [
        "plt.figure(figsize=(30,7))\n",
        "plt.barh(range(len(languages)), languages.values(), align='center')\n",
        "plt.yticks(range(len(languages)), languages.keys())\n",
        "plt.show()"
      ]
    },
    {
      "cell_type": "markdown",
      "metadata": {
        "id": "_mEHxpEePEER"
      },
      "source": [
        "# Data Cleaning"
      ]
    },
    {
      "cell_type": "code",
      "execution_count": 18,
      "metadata": {
        "colab": {
          "base_uri": "https://localhost:8080/"
        },
        "id": "_MOftCl_PEER",
        "outputId": "748617f6-c149-4174-9fe2-e1e6cd57ff91"
      },
      "outputs": [
        {
          "output_type": "execute_result",
          "data": {
            "text/plain": [
              "age                 0\n",
              "body_type        5296\n",
              "diet            24395\n",
              "drinks           2985\n",
              "drugs           14080\n",
              "education        6628\n",
              "ethnicity        5680\n",
              "height              3\n",
              "income              0\n",
              "job              8198\n",
              "orientation         0\n",
              "likes_dog       19921\n",
              "likes_cat       19921\n",
              "religion        20226\n",
              "sex                 0\n",
              "sign            11056\n",
              "smokes           5512\n",
              "sign_matters    23180\n",
              "speaks           6417\n",
              "status              0\n",
              "dtype: int64"
            ]
          },
          "metadata": {},
          "execution_count": 18
        }
      ],
      "source": [
        "data.isna().sum()"
      ]
    },
    {
      "cell_type": "code",
      "execution_count": 19,
      "metadata": {
        "colab": {
          "base_uri": "https://localhost:8080/"
        },
        "id": "oXF5gH6dPEES",
        "outputId": "3c5d2f13-09c4-4e7f-daa8-d2b1de61fa2e"
      },
      "outputs": [
        {
          "output_type": "execute_result",
          "data": {
            "text/plain": [
              "age               int64\n",
              "body_type        object\n",
              "diet             object\n",
              "drinks           object\n",
              "drugs            object\n",
              "education        object\n",
              "ethnicity        object\n",
              "height          float64\n",
              "income            int64\n",
              "job              object\n",
              "orientation      object\n",
              "likes_dog        object\n",
              "likes_cat        object\n",
              "religion         object\n",
              "sex              object\n",
              "sign             object\n",
              "smokes           object\n",
              "sign_matters     object\n",
              "speaks           object\n",
              "status           object\n",
              "dtype: object"
            ]
          },
          "metadata": {},
          "execution_count": 19
        }
      ],
      "source": [
        "data.dtypes"
      ]
    },
    {
      "cell_type": "code",
      "execution_count": 20,
      "metadata": {
        "colab": {
          "base_uri": "https://localhost:8080/",
          "height": 676
        },
        "id": "dCZuDkEVPEES",
        "outputId": "30d8da9b-f72a-4133-e64a-aaec1dbdc428"
      },
      "outputs": [
        {
          "output_type": "execute_result",
          "data": {
            "text/plain": [
              "                        0\n",
              "age                    27\n",
              "body_type         average\n",
              "diet             anything\n",
              "drinks           socially\n",
              "drugs               never\n",
              "education       graduated\n",
              "ethnicity           white\n",
              "height               70.0\n",
              "income                 -1\n",
              "job                 other\n",
              "orientation      straight\n",
              "likes_dog             yes\n",
              "likes_cat             yes\n",
              "religion      agnosticism\n",
              "sex                     m\n",
              "sign                  leo\n",
              "smokes                 no\n",
              "sign_matters    can't say\n",
              "speaks            english\n",
              "status             single"
            ],
            "text/html": [
              "\n",
              "  <div id=\"df-b361c1cf-acb5-49e1-8f42-9a19337e746f\">\n",
              "    <div class=\"colab-df-container\">\n",
              "      <div>\n",
              "<style scoped>\n",
              "    .dataframe tbody tr th:only-of-type {\n",
              "        vertical-align: middle;\n",
              "    }\n",
              "\n",
              "    .dataframe tbody tr th {\n",
              "        vertical-align: top;\n",
              "    }\n",
              "\n",
              "    .dataframe thead th {\n",
              "        text-align: right;\n",
              "    }\n",
              "</style>\n",
              "<table border=\"1\" class=\"dataframe\">\n",
              "  <thead>\n",
              "    <tr style=\"text-align: right;\">\n",
              "      <th></th>\n",
              "      <th>0</th>\n",
              "    </tr>\n",
              "  </thead>\n",
              "  <tbody>\n",
              "    <tr>\n",
              "      <th>age</th>\n",
              "      <td>27</td>\n",
              "    </tr>\n",
              "    <tr>\n",
              "      <th>body_type</th>\n",
              "      <td>average</td>\n",
              "    </tr>\n",
              "    <tr>\n",
              "      <th>diet</th>\n",
              "      <td>anything</td>\n",
              "    </tr>\n",
              "    <tr>\n",
              "      <th>drinks</th>\n",
              "      <td>socially</td>\n",
              "    </tr>\n",
              "    <tr>\n",
              "      <th>drugs</th>\n",
              "      <td>never</td>\n",
              "    </tr>\n",
              "    <tr>\n",
              "      <th>education</th>\n",
              "      <td>graduated</td>\n",
              "    </tr>\n",
              "    <tr>\n",
              "      <th>ethnicity</th>\n",
              "      <td>white</td>\n",
              "    </tr>\n",
              "    <tr>\n",
              "      <th>height</th>\n",
              "      <td>70.0</td>\n",
              "    </tr>\n",
              "    <tr>\n",
              "      <th>income</th>\n",
              "      <td>-1</td>\n",
              "    </tr>\n",
              "    <tr>\n",
              "      <th>job</th>\n",
              "      <td>other</td>\n",
              "    </tr>\n",
              "    <tr>\n",
              "      <th>orientation</th>\n",
              "      <td>straight</td>\n",
              "    </tr>\n",
              "    <tr>\n",
              "      <th>likes_dog</th>\n",
              "      <td>yes</td>\n",
              "    </tr>\n",
              "    <tr>\n",
              "      <th>likes_cat</th>\n",
              "      <td>yes</td>\n",
              "    </tr>\n",
              "    <tr>\n",
              "      <th>religion</th>\n",
              "      <td>agnosticism</td>\n",
              "    </tr>\n",
              "    <tr>\n",
              "      <th>sex</th>\n",
              "      <td>m</td>\n",
              "    </tr>\n",
              "    <tr>\n",
              "      <th>sign</th>\n",
              "      <td>leo</td>\n",
              "    </tr>\n",
              "    <tr>\n",
              "      <th>smokes</th>\n",
              "      <td>no</td>\n",
              "    </tr>\n",
              "    <tr>\n",
              "      <th>sign_matters</th>\n",
              "      <td>can't say</td>\n",
              "    </tr>\n",
              "    <tr>\n",
              "      <th>speaks</th>\n",
              "      <td>english</td>\n",
              "    </tr>\n",
              "    <tr>\n",
              "      <th>status</th>\n",
              "      <td>single</td>\n",
              "    </tr>\n",
              "  </tbody>\n",
              "</table>\n",
              "</div>\n",
              "      <button class=\"colab-df-convert\" onclick=\"convertToInteractive('df-b361c1cf-acb5-49e1-8f42-9a19337e746f')\"\n",
              "              title=\"Convert this dataframe to an interactive table.\"\n",
              "              style=\"display:none;\">\n",
              "        \n",
              "  <svg xmlns=\"http://www.w3.org/2000/svg\" height=\"24px\"viewBox=\"0 0 24 24\"\n",
              "       width=\"24px\">\n",
              "    <path d=\"M0 0h24v24H0V0z\" fill=\"none\"/>\n",
              "    <path d=\"M18.56 5.44l.94 2.06.94-2.06 2.06-.94-2.06-.94-.94-2.06-.94 2.06-2.06.94zm-11 1L8.5 8.5l.94-2.06 2.06-.94-2.06-.94L8.5 2.5l-.94 2.06-2.06.94zm10 10l.94 2.06.94-2.06 2.06-.94-2.06-.94-.94-2.06-.94 2.06-2.06.94z\"/><path d=\"M17.41 7.96l-1.37-1.37c-.4-.4-.92-.59-1.43-.59-.52 0-1.04.2-1.43.59L10.3 9.45l-7.72 7.72c-.78.78-.78 2.05 0 2.83L4 21.41c.39.39.9.59 1.41.59.51 0 1.02-.2 1.41-.59l7.78-7.78 2.81-2.81c.8-.78.8-2.07 0-2.86zM5.41 20L4 18.59l7.72-7.72 1.47 1.35L5.41 20z\"/>\n",
              "  </svg>\n",
              "      </button>\n",
              "      \n",
              "  <style>\n",
              "    .colab-df-container {\n",
              "      display:flex;\n",
              "      flex-wrap:wrap;\n",
              "      gap: 12px;\n",
              "    }\n",
              "\n",
              "    .colab-df-convert {\n",
              "      background-color: #E8F0FE;\n",
              "      border: none;\n",
              "      border-radius: 50%;\n",
              "      cursor: pointer;\n",
              "      display: none;\n",
              "      fill: #1967D2;\n",
              "      height: 32px;\n",
              "      padding: 0 0 0 0;\n",
              "      width: 32px;\n",
              "    }\n",
              "\n",
              "    .colab-df-convert:hover {\n",
              "      background-color: #E2EBFA;\n",
              "      box-shadow: 0px 1px 2px rgba(60, 64, 67, 0.3), 0px 1px 3px 1px rgba(60, 64, 67, 0.15);\n",
              "      fill: #174EA6;\n",
              "    }\n",
              "\n",
              "    [theme=dark] .colab-df-convert {\n",
              "      background-color: #3B4455;\n",
              "      fill: #D2E3FC;\n",
              "    }\n",
              "\n",
              "    [theme=dark] .colab-df-convert:hover {\n",
              "      background-color: #434B5C;\n",
              "      box-shadow: 0px 1px 3px 1px rgba(0, 0, 0, 0.15);\n",
              "      filter: drop-shadow(0px 1px 2px rgba(0, 0, 0, 0.3));\n",
              "      fill: #FFFFFF;\n",
              "    }\n",
              "  </style>\n",
              "\n",
              "      <script>\n",
              "        const buttonEl =\n",
              "          document.querySelector('#df-b361c1cf-acb5-49e1-8f42-9a19337e746f button.colab-df-convert');\n",
              "        buttonEl.style.display =\n",
              "          google.colab.kernel.accessAllowed ? 'block' : 'none';\n",
              "\n",
              "        async function convertToInteractive(key) {\n",
              "          const element = document.querySelector('#df-b361c1cf-acb5-49e1-8f42-9a19337e746f');\n",
              "          const dataTable =\n",
              "            await google.colab.kernel.invokeFunction('convertToInteractive',\n",
              "                                                     [key], {});\n",
              "          if (!dataTable) return;\n",
              "\n",
              "          const docLinkHtml = 'Like what you see? Visit the ' +\n",
              "            '<a target=\"_blank\" href=https://colab.research.google.com/notebooks/data_table.ipynb>data table notebook</a>'\n",
              "            + ' to learn more about interactive tables.';\n",
              "          element.innerHTML = '';\n",
              "          dataTable['output_type'] = 'display_data';\n",
              "          await google.colab.output.renderOutput(dataTable, element);\n",
              "          const docLink = document.createElement('div');\n",
              "          docLink.innerHTML = docLinkHtml;\n",
              "          element.appendChild(docLink);\n",
              "        }\n",
              "      </script>\n",
              "    </div>\n",
              "  </div>\n",
              "  "
            ]
          },
          "metadata": {},
          "execution_count": 20
        }
      ],
      "source": [
        "data.mode().T"
      ]
    },
    {
      "cell_type": "code",
      "execution_count": 21,
      "metadata": {
        "id": "2vpH_LcXPEES"
      },
      "outputs": [],
      "source": [
        "data.fillna(data.mode().T.to_dict()[0], inplace=True)"
      ]
    },
    {
      "cell_type": "code",
      "execution_count": 22,
      "metadata": {
        "colab": {
          "base_uri": "https://localhost:8080/",
          "height": 626
        },
        "id": "ZP5wNyXWPEES",
        "outputId": "778d9535-372c-4746-e04d-4e4ef66dd9cf"
      },
      "outputs": [
        {
          "output_type": "execute_result",
          "data": {
            "text/plain": [
              "       age       body_type        diet      drinks      drugs  education  \\\n",
              "0       22  a little extra    anything    socially      never   studying   \n",
              "1       36         average       other       often  sometimes   studying   \n",
              "2       37            thin    anything    socially      never  graduated   \n",
              "3       22            thin  vegetarian    socially      never   studying   \n",
              "4       30        athletic    anything    socially      never  graduated   \n",
              "...    ...             ...         ...         ...        ...        ...   \n",
              "59941   60         average    anything    socially      never  graduated   \n",
              "59942   24             fit    anything       often  sometimes   studying   \n",
              "59943   41         average    anything  not at all      never  graduated   \n",
              "59944   26        athletic    anything    socially      often   studying   \n",
              "59945   40         average    anything    socially      never  graduated   \n",
              "\n",
              "                 ethnicity  height  income             job orientation  \\\n",
              "0             asian, white    75.0      -1  transportation    straight   \n",
              "1                    white    70.0   80000     hospitality    straight   \n",
              "2                    white    68.0      -1           other    straight   \n",
              "3                    white    71.0   20000         student    straight   \n",
              "4      asian, black, other    66.0      -1          artist    straight   \n",
              "...                    ...     ...     ...             ...         ...   \n",
              "59941                white    62.0      -1       marketing    straight   \n",
              "59942         white, other    72.0      -1           media    straight   \n",
              "59943                asian    71.0  100000    construction    straight   \n",
              "59944         asian, black    73.0      -1        medicine    straight   \n",
              "59945                white    68.0      -1        medicine         gay   \n",
              "\n",
              "      likes_dog likes_cat      religion sex         sign          smokes  \\\n",
              "0           yes       yes   agnosticism   m       gemini       sometimes   \n",
              "1           yes       yes   agnosticism   m       cancer              no   \n",
              "2            no       yes   agnosticism   m       pisces              no   \n",
              "3            no       yes   agnosticism   m       pisces              no   \n",
              "4           yes       yes   agnosticism   m     aquarius              no   \n",
              "...         ...       ...           ...  ..          ...             ...   \n",
              "59941       yes        no   catholicism   f       cancer              no   \n",
              "59942       yes       yes   agnosticism   m          leo              no   \n",
              "59943       yes       yes  christianity   m  sagittarius              no   \n",
              "59944       yes       yes   agnosticism   m          leo  trying to quit   \n",
              "59945       yes       yes   catholicism   m       gemini       sometimes   \n",
              "\n",
              "      sign_matters                                       speaks     status  \n",
              "0        can't say                                      english     single  \n",
              "1        can't say                     english, spanish, french     single  \n",
              "2               no                                      english  available  \n",
              "3        can't say                                      english     single  \n",
              "4        can't say                                      english     single  \n",
              "...            ...                                          ...        ...  \n",
              "59941    can't say                                      english     single  \n",
              "59942           no                                      english     single  \n",
              "59943           no                                      english     single  \n",
              "59944    can't say  english, spanish, chinese, japanese, korean     single  \n",
              "59945    can't say                                      english     single  \n",
              "\n",
              "[59946 rows x 20 columns]"
            ],
            "text/html": [
              "\n",
              "  <div id=\"df-d60ee38d-24f1-4def-a0fc-129d3bb782fe\">\n",
              "    <div class=\"colab-df-container\">\n",
              "      <div>\n",
              "<style scoped>\n",
              "    .dataframe tbody tr th:only-of-type {\n",
              "        vertical-align: middle;\n",
              "    }\n",
              "\n",
              "    .dataframe tbody tr th {\n",
              "        vertical-align: top;\n",
              "    }\n",
              "\n",
              "    .dataframe thead th {\n",
              "        text-align: right;\n",
              "    }\n",
              "</style>\n",
              "<table border=\"1\" class=\"dataframe\">\n",
              "  <thead>\n",
              "    <tr style=\"text-align: right;\">\n",
              "      <th></th>\n",
              "      <th>age</th>\n",
              "      <th>body_type</th>\n",
              "      <th>diet</th>\n",
              "      <th>drinks</th>\n",
              "      <th>drugs</th>\n",
              "      <th>education</th>\n",
              "      <th>ethnicity</th>\n",
              "      <th>height</th>\n",
              "      <th>income</th>\n",
              "      <th>job</th>\n",
              "      <th>orientation</th>\n",
              "      <th>likes_dog</th>\n",
              "      <th>likes_cat</th>\n",
              "      <th>religion</th>\n",
              "      <th>sex</th>\n",
              "      <th>sign</th>\n",
              "      <th>smokes</th>\n",
              "      <th>sign_matters</th>\n",
              "      <th>speaks</th>\n",
              "      <th>status</th>\n",
              "    </tr>\n",
              "  </thead>\n",
              "  <tbody>\n",
              "    <tr>\n",
              "      <th>0</th>\n",
              "      <td>22</td>\n",
              "      <td>a little extra</td>\n",
              "      <td>anything</td>\n",
              "      <td>socially</td>\n",
              "      <td>never</td>\n",
              "      <td>studying</td>\n",
              "      <td>asian, white</td>\n",
              "      <td>75.0</td>\n",
              "      <td>-1</td>\n",
              "      <td>transportation</td>\n",
              "      <td>straight</td>\n",
              "      <td>yes</td>\n",
              "      <td>yes</td>\n",
              "      <td>agnosticism</td>\n",
              "      <td>m</td>\n",
              "      <td>gemini</td>\n",
              "      <td>sometimes</td>\n",
              "      <td>can't say</td>\n",
              "      <td>english</td>\n",
              "      <td>single</td>\n",
              "    </tr>\n",
              "    <tr>\n",
              "      <th>1</th>\n",
              "      <td>36</td>\n",
              "      <td>average</td>\n",
              "      <td>other</td>\n",
              "      <td>often</td>\n",
              "      <td>sometimes</td>\n",
              "      <td>studying</td>\n",
              "      <td>white</td>\n",
              "      <td>70.0</td>\n",
              "      <td>80000</td>\n",
              "      <td>hospitality</td>\n",
              "      <td>straight</td>\n",
              "      <td>yes</td>\n",
              "      <td>yes</td>\n",
              "      <td>agnosticism</td>\n",
              "      <td>m</td>\n",
              "      <td>cancer</td>\n",
              "      <td>no</td>\n",
              "      <td>can't say</td>\n",
              "      <td>english, spanish, french</td>\n",
              "      <td>single</td>\n",
              "    </tr>\n",
              "    <tr>\n",
              "      <th>2</th>\n",
              "      <td>37</td>\n",
              "      <td>thin</td>\n",
              "      <td>anything</td>\n",
              "      <td>socially</td>\n",
              "      <td>never</td>\n",
              "      <td>graduated</td>\n",
              "      <td>white</td>\n",
              "      <td>68.0</td>\n",
              "      <td>-1</td>\n",
              "      <td>other</td>\n",
              "      <td>straight</td>\n",
              "      <td>no</td>\n",
              "      <td>yes</td>\n",
              "      <td>agnosticism</td>\n",
              "      <td>m</td>\n",
              "      <td>pisces</td>\n",
              "      <td>no</td>\n",
              "      <td>no</td>\n",
              "      <td>english</td>\n",
              "      <td>available</td>\n",
              "    </tr>\n",
              "    <tr>\n",
              "      <th>3</th>\n",
              "      <td>22</td>\n",
              "      <td>thin</td>\n",
              "      <td>vegetarian</td>\n",
              "      <td>socially</td>\n",
              "      <td>never</td>\n",
              "      <td>studying</td>\n",
              "      <td>white</td>\n",
              "      <td>71.0</td>\n",
              "      <td>20000</td>\n",
              "      <td>student</td>\n",
              "      <td>straight</td>\n",
              "      <td>no</td>\n",
              "      <td>yes</td>\n",
              "      <td>agnosticism</td>\n",
              "      <td>m</td>\n",
              "      <td>pisces</td>\n",
              "      <td>no</td>\n",
              "      <td>can't say</td>\n",
              "      <td>english</td>\n",
              "      <td>single</td>\n",
              "    </tr>\n",
              "    <tr>\n",
              "      <th>4</th>\n",
              "      <td>30</td>\n",
              "      <td>athletic</td>\n",
              "      <td>anything</td>\n",
              "      <td>socially</td>\n",
              "      <td>never</td>\n",
              "      <td>graduated</td>\n",
              "      <td>asian, black, other</td>\n",
              "      <td>66.0</td>\n",
              "      <td>-1</td>\n",
              "      <td>artist</td>\n",
              "      <td>straight</td>\n",
              "      <td>yes</td>\n",
              "      <td>yes</td>\n",
              "      <td>agnosticism</td>\n",
              "      <td>m</td>\n",
              "      <td>aquarius</td>\n",
              "      <td>no</td>\n",
              "      <td>can't say</td>\n",
              "      <td>english</td>\n",
              "      <td>single</td>\n",
              "    </tr>\n",
              "    <tr>\n",
              "      <th>...</th>\n",
              "      <td>...</td>\n",
              "      <td>...</td>\n",
              "      <td>...</td>\n",
              "      <td>...</td>\n",
              "      <td>...</td>\n",
              "      <td>...</td>\n",
              "      <td>...</td>\n",
              "      <td>...</td>\n",
              "      <td>...</td>\n",
              "      <td>...</td>\n",
              "      <td>...</td>\n",
              "      <td>...</td>\n",
              "      <td>...</td>\n",
              "      <td>...</td>\n",
              "      <td>...</td>\n",
              "      <td>...</td>\n",
              "      <td>...</td>\n",
              "      <td>...</td>\n",
              "      <td>...</td>\n",
              "      <td>...</td>\n",
              "    </tr>\n",
              "    <tr>\n",
              "      <th>59941</th>\n",
              "      <td>60</td>\n",
              "      <td>average</td>\n",
              "      <td>anything</td>\n",
              "      <td>socially</td>\n",
              "      <td>never</td>\n",
              "      <td>graduated</td>\n",
              "      <td>white</td>\n",
              "      <td>62.0</td>\n",
              "      <td>-1</td>\n",
              "      <td>marketing</td>\n",
              "      <td>straight</td>\n",
              "      <td>yes</td>\n",
              "      <td>no</td>\n",
              "      <td>catholicism</td>\n",
              "      <td>f</td>\n",
              "      <td>cancer</td>\n",
              "      <td>no</td>\n",
              "      <td>can't say</td>\n",
              "      <td>english</td>\n",
              "      <td>single</td>\n",
              "    </tr>\n",
              "    <tr>\n",
              "      <th>59942</th>\n",
              "      <td>24</td>\n",
              "      <td>fit</td>\n",
              "      <td>anything</td>\n",
              "      <td>often</td>\n",
              "      <td>sometimes</td>\n",
              "      <td>studying</td>\n",
              "      <td>white, other</td>\n",
              "      <td>72.0</td>\n",
              "      <td>-1</td>\n",
              "      <td>media</td>\n",
              "      <td>straight</td>\n",
              "      <td>yes</td>\n",
              "      <td>yes</td>\n",
              "      <td>agnosticism</td>\n",
              "      <td>m</td>\n",
              "      <td>leo</td>\n",
              "      <td>no</td>\n",
              "      <td>no</td>\n",
              "      <td>english</td>\n",
              "      <td>single</td>\n",
              "    </tr>\n",
              "    <tr>\n",
              "      <th>59943</th>\n",
              "      <td>41</td>\n",
              "      <td>average</td>\n",
              "      <td>anything</td>\n",
              "      <td>not at all</td>\n",
              "      <td>never</td>\n",
              "      <td>graduated</td>\n",
              "      <td>asian</td>\n",
              "      <td>71.0</td>\n",
              "      <td>100000</td>\n",
              "      <td>construction</td>\n",
              "      <td>straight</td>\n",
              "      <td>yes</td>\n",
              "      <td>yes</td>\n",
              "      <td>christianity</td>\n",
              "      <td>m</td>\n",
              "      <td>sagittarius</td>\n",
              "      <td>no</td>\n",
              "      <td>no</td>\n",
              "      <td>english</td>\n",
              "      <td>single</td>\n",
              "    </tr>\n",
              "    <tr>\n",
              "      <th>59944</th>\n",
              "      <td>26</td>\n",
              "      <td>athletic</td>\n",
              "      <td>anything</td>\n",
              "      <td>socially</td>\n",
              "      <td>often</td>\n",
              "      <td>studying</td>\n",
              "      <td>asian, black</td>\n",
              "      <td>73.0</td>\n",
              "      <td>-1</td>\n",
              "      <td>medicine</td>\n",
              "      <td>straight</td>\n",
              "      <td>yes</td>\n",
              "      <td>yes</td>\n",
              "      <td>agnosticism</td>\n",
              "      <td>m</td>\n",
              "      <td>leo</td>\n",
              "      <td>trying to quit</td>\n",
              "      <td>can't say</td>\n",
              "      <td>english, spanish, chinese, japanese, korean</td>\n",
              "      <td>single</td>\n",
              "    </tr>\n",
              "    <tr>\n",
              "      <th>59945</th>\n",
              "      <td>40</td>\n",
              "      <td>average</td>\n",
              "      <td>anything</td>\n",
              "      <td>socially</td>\n",
              "      <td>never</td>\n",
              "      <td>graduated</td>\n",
              "      <td>white</td>\n",
              "      <td>68.0</td>\n",
              "      <td>-1</td>\n",
              "      <td>medicine</td>\n",
              "      <td>gay</td>\n",
              "      <td>yes</td>\n",
              "      <td>yes</td>\n",
              "      <td>catholicism</td>\n",
              "      <td>m</td>\n",
              "      <td>gemini</td>\n",
              "      <td>sometimes</td>\n",
              "      <td>can't say</td>\n",
              "      <td>english</td>\n",
              "      <td>single</td>\n",
              "    </tr>\n",
              "  </tbody>\n",
              "</table>\n",
              "<p>59946 rows × 20 columns</p>\n",
              "</div>\n",
              "      <button class=\"colab-df-convert\" onclick=\"convertToInteractive('df-d60ee38d-24f1-4def-a0fc-129d3bb782fe')\"\n",
              "              title=\"Convert this dataframe to an interactive table.\"\n",
              "              style=\"display:none;\">\n",
              "        \n",
              "  <svg xmlns=\"http://www.w3.org/2000/svg\" height=\"24px\"viewBox=\"0 0 24 24\"\n",
              "       width=\"24px\">\n",
              "    <path d=\"M0 0h24v24H0V0z\" fill=\"none\"/>\n",
              "    <path d=\"M18.56 5.44l.94 2.06.94-2.06 2.06-.94-2.06-.94-.94-2.06-.94 2.06-2.06.94zm-11 1L8.5 8.5l.94-2.06 2.06-.94-2.06-.94L8.5 2.5l-.94 2.06-2.06.94zm10 10l.94 2.06.94-2.06 2.06-.94-2.06-.94-.94-2.06-.94 2.06-2.06.94z\"/><path d=\"M17.41 7.96l-1.37-1.37c-.4-.4-.92-.59-1.43-.59-.52 0-1.04.2-1.43.59L10.3 9.45l-7.72 7.72c-.78.78-.78 2.05 0 2.83L4 21.41c.39.39.9.59 1.41.59.51 0 1.02-.2 1.41-.59l7.78-7.78 2.81-2.81c.8-.78.8-2.07 0-2.86zM5.41 20L4 18.59l7.72-7.72 1.47 1.35L5.41 20z\"/>\n",
              "  </svg>\n",
              "      </button>\n",
              "      \n",
              "  <style>\n",
              "    .colab-df-container {\n",
              "      display:flex;\n",
              "      flex-wrap:wrap;\n",
              "      gap: 12px;\n",
              "    }\n",
              "\n",
              "    .colab-df-convert {\n",
              "      background-color: #E8F0FE;\n",
              "      border: none;\n",
              "      border-radius: 50%;\n",
              "      cursor: pointer;\n",
              "      display: none;\n",
              "      fill: #1967D2;\n",
              "      height: 32px;\n",
              "      padding: 0 0 0 0;\n",
              "      width: 32px;\n",
              "    }\n",
              "\n",
              "    .colab-df-convert:hover {\n",
              "      background-color: #E2EBFA;\n",
              "      box-shadow: 0px 1px 2px rgba(60, 64, 67, 0.3), 0px 1px 3px 1px rgba(60, 64, 67, 0.15);\n",
              "      fill: #174EA6;\n",
              "    }\n",
              "\n",
              "    [theme=dark] .colab-df-convert {\n",
              "      background-color: #3B4455;\n",
              "      fill: #D2E3FC;\n",
              "    }\n",
              "\n",
              "    [theme=dark] .colab-df-convert:hover {\n",
              "      background-color: #434B5C;\n",
              "      box-shadow: 0px 1px 3px 1px rgba(0, 0, 0, 0.15);\n",
              "      filter: drop-shadow(0px 1px 2px rgba(0, 0, 0, 0.3));\n",
              "      fill: #FFFFFF;\n",
              "    }\n",
              "  </style>\n",
              "\n",
              "      <script>\n",
              "        const buttonEl =\n",
              "          document.querySelector('#df-d60ee38d-24f1-4def-a0fc-129d3bb782fe button.colab-df-convert');\n",
              "        buttonEl.style.display =\n",
              "          google.colab.kernel.accessAllowed ? 'block' : 'none';\n",
              "\n",
              "        async function convertToInteractive(key) {\n",
              "          const element = document.querySelector('#df-d60ee38d-24f1-4def-a0fc-129d3bb782fe');\n",
              "          const dataTable =\n",
              "            await google.colab.kernel.invokeFunction('convertToInteractive',\n",
              "                                                     [key], {});\n",
              "          if (!dataTable) return;\n",
              "\n",
              "          const docLinkHtml = 'Like what you see? Visit the ' +\n",
              "            '<a target=\"_blank\" href=https://colab.research.google.com/notebooks/data_table.ipynb>data table notebook</a>'\n",
              "            + ' to learn more about interactive tables.';\n",
              "          element.innerHTML = '';\n",
              "          dataTable['output_type'] = 'display_data';\n",
              "          await google.colab.output.renderOutput(dataTable, element);\n",
              "          const docLink = document.createElement('div');\n",
              "          docLink.innerHTML = docLinkHtml;\n",
              "          element.appendChild(docLink);\n",
              "        }\n",
              "      </script>\n",
              "    </div>\n",
              "  </div>\n",
              "  "
            ]
          },
          "metadata": {},
          "execution_count": 22
        }
      ],
      "source": [
        "data"
      ]
    },
    {
      "cell_type": "markdown",
      "metadata": {
        "id": "4D45EsJnPEET"
      },
      "source": [
        "# Feature Engineering"
      ]
    },
    {
      "cell_type": "code",
      "execution_count": 23,
      "metadata": {
        "colab": {
          "base_uri": "https://localhost:8080/"
        },
        "id": "n1_xqMZSPEET",
        "outputId": "bee4825c-2ebe-48bc-80ba-d121c96a3725"
      },
      "outputs": [
        {
          "output_type": "stream",
          "name": "stdout",
          "text": [
            "age have 56 values\n",
            "body_type have 12 values\n",
            "diet have 6 values\n",
            "drinks have 6 values\n",
            "drugs have 3 values\n",
            "education have 3 values\n",
            "ethnicity have 217 values\n",
            "height have 60 values\n",
            "income have 13 values\n",
            "job have 21 values\n",
            "orientation have 3 values\n",
            "likes_dog have 2 values\n",
            "likes_cat have 2 values\n",
            "religion have 9 values\n",
            "sex have 2 values\n",
            "sign have 12 values\n",
            "smokes have 5 values\n",
            "sign_matters have 3 values\n",
            "speaks have 1318 values\n",
            "status have 5 values\n"
          ]
        }
      ],
      "source": [
        "for col in data.columns:\n",
        "    print(f'{col} have {data[col].nunique()} values')\n",
        "    #print(col+\"have\"+data[col].nunique()+\"values\")"
      ]
    },
    {
      "cell_type": "markdown",
      "metadata": {
        "id": "PqBnuFiXPEET"
      },
      "source": [
        "## Label Encoding"
      ]
    },
    {
      "cell_type": "code",
      "execution_count": 24,
      "metadata": {
        "id": "mr1lmolJPEET"
      },
      "outputs": [],
      "source": [
        "from sklearn.preprocessing import LabelEncoder\n",
        "\n",
        "label_encoded_columns = ['body_type', 'diet', 'drinks', 'drugs', 'education', 'income', 'job', 'orientation', 'likes_dog', 'likes_cat', 'religion', 'sex', 'sign', 'sign_matters', 'smokes', 'status']\n",
        "label_encoders = {}\n",
        "for col in label_encoded_columns:\n",
        "    label_encoders[col] = LabelEncoder()\n",
        "    data[col] = label_encoders[col].fit_transform(data[col])"
      ]
    },
    {
      "cell_type": "code",
      "execution_count": 25,
      "metadata": {
        "colab": {
          "base_uri": "https://localhost:8080/",
          "height": 609
        },
        "id": "t9tuKsHvPEEU",
        "outputId": "0562509c-bdb5-4421-e6f3-d549c9f60871"
      },
      "outputs": [
        {
          "output_type": "execute_result",
          "data": {
            "text/plain": [
              "       age  body_type  diet  drinks  drugs  education            ethnicity  \\\n",
              "0       22          0     0       4      0          2         asian, white   \n",
              "1       36          2     3       2      2          2                white   \n",
              "2       37         10     0       4      0          1                white   \n",
              "3       22         10     5       4      0          2                white   \n",
              "4       30          1     0       4      0          1  asian, black, other   \n",
              "...    ...        ...   ...     ...    ...        ...                  ...   \n",
              "59941   60          2     0       4      0          1                white   \n",
              "59942   24          4     0       2      2          2         white, other   \n",
              "59943   41          2     0       1      0          1                asian   \n",
              "59944   26          1     0       4      1          2         asian, black   \n",
              "59945   40          2     0       4      0          1                white   \n",
              "\n",
              "       height  income  job  orientation  likes_dog  likes_cat  religion  sex  \\\n",
              "0        75.0       0   19            2          1          1         0    1   \n",
              "1        70.0       7    7            2          1          1         0    1   \n",
              "2        68.0       0   14            2          0          1         0    1   \n",
              "3        71.0       1   18            2          0          1         0    1   \n",
              "4        66.0       0    2            2          1          1         0    1   \n",
              "...       ...     ...  ...          ...        ...        ...       ...  ...   \n",
              "59941    62.0       0   10            2          1          0         3    0   \n",
              "59942    72.0       0   11            2          1          1         0    1   \n",
              "59943    71.0       8    4            2          1          1         4    1   \n",
              "59944    73.0       0   12            2          1          1         0    1   \n",
              "59945    68.0       0   12            1          1          1         3    1   \n",
              "\n",
              "       sign  smokes  sign_matters  \\\n",
              "0         4       1             0   \n",
              "1         2       0             0   \n",
              "2         7       0             1   \n",
              "3         7       0             0   \n",
              "4         0       0             0   \n",
              "...     ...     ...           ...   \n",
              "59941     2       0             0   \n",
              "59942     5       0             1   \n",
              "59943     8       0             1   \n",
              "59944     5       2             0   \n",
              "59945     4       1             0   \n",
              "\n",
              "                                            speaks  status  \n",
              "0                                          english       3  \n",
              "1                         english, spanish, french       3  \n",
              "2                                          english       0  \n",
              "3                                          english       3  \n",
              "4                                          english       3  \n",
              "...                                            ...     ...  \n",
              "59941                                      english       3  \n",
              "59942                                      english       3  \n",
              "59943                                      english       3  \n",
              "59944  english, spanish, chinese, japanese, korean       3  \n",
              "59945                                      english       3  \n",
              "\n",
              "[59946 rows x 20 columns]"
            ],
            "text/html": [
              "\n",
              "  <div id=\"df-52275e49-8f26-47c8-b952-4ae191588c26\">\n",
              "    <div class=\"colab-df-container\">\n",
              "      <div>\n",
              "<style scoped>\n",
              "    .dataframe tbody tr th:only-of-type {\n",
              "        vertical-align: middle;\n",
              "    }\n",
              "\n",
              "    .dataframe tbody tr th {\n",
              "        vertical-align: top;\n",
              "    }\n",
              "\n",
              "    .dataframe thead th {\n",
              "        text-align: right;\n",
              "    }\n",
              "</style>\n",
              "<table border=\"1\" class=\"dataframe\">\n",
              "  <thead>\n",
              "    <tr style=\"text-align: right;\">\n",
              "      <th></th>\n",
              "      <th>age</th>\n",
              "      <th>body_type</th>\n",
              "      <th>diet</th>\n",
              "      <th>drinks</th>\n",
              "      <th>drugs</th>\n",
              "      <th>education</th>\n",
              "      <th>ethnicity</th>\n",
              "      <th>height</th>\n",
              "      <th>income</th>\n",
              "      <th>job</th>\n",
              "      <th>orientation</th>\n",
              "      <th>likes_dog</th>\n",
              "      <th>likes_cat</th>\n",
              "      <th>religion</th>\n",
              "      <th>sex</th>\n",
              "      <th>sign</th>\n",
              "      <th>smokes</th>\n",
              "      <th>sign_matters</th>\n",
              "      <th>speaks</th>\n",
              "      <th>status</th>\n",
              "    </tr>\n",
              "  </thead>\n",
              "  <tbody>\n",
              "    <tr>\n",
              "      <th>0</th>\n",
              "      <td>22</td>\n",
              "      <td>0</td>\n",
              "      <td>0</td>\n",
              "      <td>4</td>\n",
              "      <td>0</td>\n",
              "      <td>2</td>\n",
              "      <td>asian, white</td>\n",
              "      <td>75.0</td>\n",
              "      <td>0</td>\n",
              "      <td>19</td>\n",
              "      <td>2</td>\n",
              "      <td>1</td>\n",
              "      <td>1</td>\n",
              "      <td>0</td>\n",
              "      <td>1</td>\n",
              "      <td>4</td>\n",
              "      <td>1</td>\n",
              "      <td>0</td>\n",
              "      <td>english</td>\n",
              "      <td>3</td>\n",
              "    </tr>\n",
              "    <tr>\n",
              "      <th>1</th>\n",
              "      <td>36</td>\n",
              "      <td>2</td>\n",
              "      <td>3</td>\n",
              "      <td>2</td>\n",
              "      <td>2</td>\n",
              "      <td>2</td>\n",
              "      <td>white</td>\n",
              "      <td>70.0</td>\n",
              "      <td>7</td>\n",
              "      <td>7</td>\n",
              "      <td>2</td>\n",
              "      <td>1</td>\n",
              "      <td>1</td>\n",
              "      <td>0</td>\n",
              "      <td>1</td>\n",
              "      <td>2</td>\n",
              "      <td>0</td>\n",
              "      <td>0</td>\n",
              "      <td>english, spanish, french</td>\n",
              "      <td>3</td>\n",
              "    </tr>\n",
              "    <tr>\n",
              "      <th>2</th>\n",
              "      <td>37</td>\n",
              "      <td>10</td>\n",
              "      <td>0</td>\n",
              "      <td>4</td>\n",
              "      <td>0</td>\n",
              "      <td>1</td>\n",
              "      <td>white</td>\n",
              "      <td>68.0</td>\n",
              "      <td>0</td>\n",
              "      <td>14</td>\n",
              "      <td>2</td>\n",
              "      <td>0</td>\n",
              "      <td>1</td>\n",
              "      <td>0</td>\n",
              "      <td>1</td>\n",
              "      <td>7</td>\n",
              "      <td>0</td>\n",
              "      <td>1</td>\n",
              "      <td>english</td>\n",
              "      <td>0</td>\n",
              "    </tr>\n",
              "    <tr>\n",
              "      <th>3</th>\n",
              "      <td>22</td>\n",
              "      <td>10</td>\n",
              "      <td>5</td>\n",
              "      <td>4</td>\n",
              "      <td>0</td>\n",
              "      <td>2</td>\n",
              "      <td>white</td>\n",
              "      <td>71.0</td>\n",
              "      <td>1</td>\n",
              "      <td>18</td>\n",
              "      <td>2</td>\n",
              "      <td>0</td>\n",
              "      <td>1</td>\n",
              "      <td>0</td>\n",
              "      <td>1</td>\n",
              "      <td>7</td>\n",
              "      <td>0</td>\n",
              "      <td>0</td>\n",
              "      <td>english</td>\n",
              "      <td>3</td>\n",
              "    </tr>\n",
              "    <tr>\n",
              "      <th>4</th>\n",
              "      <td>30</td>\n",
              "      <td>1</td>\n",
              "      <td>0</td>\n",
              "      <td>4</td>\n",
              "      <td>0</td>\n",
              "      <td>1</td>\n",
              "      <td>asian, black, other</td>\n",
              "      <td>66.0</td>\n",
              "      <td>0</td>\n",
              "      <td>2</td>\n",
              "      <td>2</td>\n",
              "      <td>1</td>\n",
              "      <td>1</td>\n",
              "      <td>0</td>\n",
              "      <td>1</td>\n",
              "      <td>0</td>\n",
              "      <td>0</td>\n",
              "      <td>0</td>\n",
              "      <td>english</td>\n",
              "      <td>3</td>\n",
              "    </tr>\n",
              "    <tr>\n",
              "      <th>...</th>\n",
              "      <td>...</td>\n",
              "      <td>...</td>\n",
              "      <td>...</td>\n",
              "      <td>...</td>\n",
              "      <td>...</td>\n",
              "      <td>...</td>\n",
              "      <td>...</td>\n",
              "      <td>...</td>\n",
              "      <td>...</td>\n",
              "      <td>...</td>\n",
              "      <td>...</td>\n",
              "      <td>...</td>\n",
              "      <td>...</td>\n",
              "      <td>...</td>\n",
              "      <td>...</td>\n",
              "      <td>...</td>\n",
              "      <td>...</td>\n",
              "      <td>...</td>\n",
              "      <td>...</td>\n",
              "      <td>...</td>\n",
              "    </tr>\n",
              "    <tr>\n",
              "      <th>59941</th>\n",
              "      <td>60</td>\n",
              "      <td>2</td>\n",
              "      <td>0</td>\n",
              "      <td>4</td>\n",
              "      <td>0</td>\n",
              "      <td>1</td>\n",
              "      <td>white</td>\n",
              "      <td>62.0</td>\n",
              "      <td>0</td>\n",
              "      <td>10</td>\n",
              "      <td>2</td>\n",
              "      <td>1</td>\n",
              "      <td>0</td>\n",
              "      <td>3</td>\n",
              "      <td>0</td>\n",
              "      <td>2</td>\n",
              "      <td>0</td>\n",
              "      <td>0</td>\n",
              "      <td>english</td>\n",
              "      <td>3</td>\n",
              "    </tr>\n",
              "    <tr>\n",
              "      <th>59942</th>\n",
              "      <td>24</td>\n",
              "      <td>4</td>\n",
              "      <td>0</td>\n",
              "      <td>2</td>\n",
              "      <td>2</td>\n",
              "      <td>2</td>\n",
              "      <td>white, other</td>\n",
              "      <td>72.0</td>\n",
              "      <td>0</td>\n",
              "      <td>11</td>\n",
              "      <td>2</td>\n",
              "      <td>1</td>\n",
              "      <td>1</td>\n",
              "      <td>0</td>\n",
              "      <td>1</td>\n",
              "      <td>5</td>\n",
              "      <td>0</td>\n",
              "      <td>1</td>\n",
              "      <td>english</td>\n",
              "      <td>3</td>\n",
              "    </tr>\n",
              "    <tr>\n",
              "      <th>59943</th>\n",
              "      <td>41</td>\n",
              "      <td>2</td>\n",
              "      <td>0</td>\n",
              "      <td>1</td>\n",
              "      <td>0</td>\n",
              "      <td>1</td>\n",
              "      <td>asian</td>\n",
              "      <td>71.0</td>\n",
              "      <td>8</td>\n",
              "      <td>4</td>\n",
              "      <td>2</td>\n",
              "      <td>1</td>\n",
              "      <td>1</td>\n",
              "      <td>4</td>\n",
              "      <td>1</td>\n",
              "      <td>8</td>\n",
              "      <td>0</td>\n",
              "      <td>1</td>\n",
              "      <td>english</td>\n",
              "      <td>3</td>\n",
              "    </tr>\n",
              "    <tr>\n",
              "      <th>59944</th>\n",
              "      <td>26</td>\n",
              "      <td>1</td>\n",
              "      <td>0</td>\n",
              "      <td>4</td>\n",
              "      <td>1</td>\n",
              "      <td>2</td>\n",
              "      <td>asian, black</td>\n",
              "      <td>73.0</td>\n",
              "      <td>0</td>\n",
              "      <td>12</td>\n",
              "      <td>2</td>\n",
              "      <td>1</td>\n",
              "      <td>1</td>\n",
              "      <td>0</td>\n",
              "      <td>1</td>\n",
              "      <td>5</td>\n",
              "      <td>2</td>\n",
              "      <td>0</td>\n",
              "      <td>english, spanish, chinese, japanese, korean</td>\n",
              "      <td>3</td>\n",
              "    </tr>\n",
              "    <tr>\n",
              "      <th>59945</th>\n",
              "      <td>40</td>\n",
              "      <td>2</td>\n",
              "      <td>0</td>\n",
              "      <td>4</td>\n",
              "      <td>0</td>\n",
              "      <td>1</td>\n",
              "      <td>white</td>\n",
              "      <td>68.0</td>\n",
              "      <td>0</td>\n",
              "      <td>12</td>\n",
              "      <td>1</td>\n",
              "      <td>1</td>\n",
              "      <td>1</td>\n",
              "      <td>3</td>\n",
              "      <td>1</td>\n",
              "      <td>4</td>\n",
              "      <td>1</td>\n",
              "      <td>0</td>\n",
              "      <td>english</td>\n",
              "      <td>3</td>\n",
              "    </tr>\n",
              "  </tbody>\n",
              "</table>\n",
              "<p>59946 rows × 20 columns</p>\n",
              "</div>\n",
              "      <button class=\"colab-df-convert\" onclick=\"convertToInteractive('df-52275e49-8f26-47c8-b952-4ae191588c26')\"\n",
              "              title=\"Convert this dataframe to an interactive table.\"\n",
              "              style=\"display:none;\">\n",
              "        \n",
              "  <svg xmlns=\"http://www.w3.org/2000/svg\" height=\"24px\"viewBox=\"0 0 24 24\"\n",
              "       width=\"24px\">\n",
              "    <path d=\"M0 0h24v24H0V0z\" fill=\"none\"/>\n",
              "    <path d=\"M18.56 5.44l.94 2.06.94-2.06 2.06-.94-2.06-.94-.94-2.06-.94 2.06-2.06.94zm-11 1L8.5 8.5l.94-2.06 2.06-.94-2.06-.94L8.5 2.5l-.94 2.06-2.06.94zm10 10l.94 2.06.94-2.06 2.06-.94-2.06-.94-.94-2.06-.94 2.06-2.06.94z\"/><path d=\"M17.41 7.96l-1.37-1.37c-.4-.4-.92-.59-1.43-.59-.52 0-1.04.2-1.43.59L10.3 9.45l-7.72 7.72c-.78.78-.78 2.05 0 2.83L4 21.41c.39.39.9.59 1.41.59.51 0 1.02-.2 1.41-.59l7.78-7.78 2.81-2.81c.8-.78.8-2.07 0-2.86zM5.41 20L4 18.59l7.72-7.72 1.47 1.35L5.41 20z\"/>\n",
              "  </svg>\n",
              "      </button>\n",
              "      \n",
              "  <style>\n",
              "    .colab-df-container {\n",
              "      display:flex;\n",
              "      flex-wrap:wrap;\n",
              "      gap: 12px;\n",
              "    }\n",
              "\n",
              "    .colab-df-convert {\n",
              "      background-color: #E8F0FE;\n",
              "      border: none;\n",
              "      border-radius: 50%;\n",
              "      cursor: pointer;\n",
              "      display: none;\n",
              "      fill: #1967D2;\n",
              "      height: 32px;\n",
              "      padding: 0 0 0 0;\n",
              "      width: 32px;\n",
              "    }\n",
              "\n",
              "    .colab-df-convert:hover {\n",
              "      background-color: #E2EBFA;\n",
              "      box-shadow: 0px 1px 2px rgba(60, 64, 67, 0.3), 0px 1px 3px 1px rgba(60, 64, 67, 0.15);\n",
              "      fill: #174EA6;\n",
              "    }\n",
              "\n",
              "    [theme=dark] .colab-df-convert {\n",
              "      background-color: #3B4455;\n",
              "      fill: #D2E3FC;\n",
              "    }\n",
              "\n",
              "    [theme=dark] .colab-df-convert:hover {\n",
              "      background-color: #434B5C;\n",
              "      box-shadow: 0px 1px 3px 1px rgba(0, 0, 0, 0.15);\n",
              "      filter: drop-shadow(0px 1px 2px rgba(0, 0, 0, 0.3));\n",
              "      fill: #FFFFFF;\n",
              "    }\n",
              "  </style>\n",
              "\n",
              "      <script>\n",
              "        const buttonEl =\n",
              "          document.querySelector('#df-52275e49-8f26-47c8-b952-4ae191588c26 button.colab-df-convert');\n",
              "        buttonEl.style.display =\n",
              "          google.colab.kernel.accessAllowed ? 'block' : 'none';\n",
              "\n",
              "        async function convertToInteractive(key) {\n",
              "          const element = document.querySelector('#df-52275e49-8f26-47c8-b952-4ae191588c26');\n",
              "          const dataTable =\n",
              "            await google.colab.kernel.invokeFunction('convertToInteractive',\n",
              "                                                     [key], {});\n",
              "          if (!dataTable) return;\n",
              "\n",
              "          const docLinkHtml = 'Like what you see? Visit the ' +\n",
              "            '<a target=\"_blank\" href=https://colab.research.google.com/notebooks/data_table.ipynb>data table notebook</a>'\n",
              "            + ' to learn more about interactive tables.';\n",
              "          element.innerHTML = '';\n",
              "          dataTable['output_type'] = 'display_data';\n",
              "          await google.colab.output.renderOutput(dataTable, element);\n",
              "          const docLink = document.createElement('div');\n",
              "          docLink.innerHTML = docLinkHtml;\n",
              "          element.appendChild(docLink);\n",
              "        }\n",
              "      </script>\n",
              "    </div>\n",
              "  </div>\n",
              "  "
            ]
          },
          "metadata": {},
          "execution_count": 25
        }
      ],
      "source": [
        "data"
      ]
    },
    {
      "cell_type": "markdown",
      "metadata": {
        "id": "2RMv3o8fPEEU"
      },
      "source": [
        "## Generating ethnicity columns"
      ]
    },
    {
      "cell_type": "code",
      "execution_count": 26,
      "metadata": {
        "id": "0Dkq6YHzPEEU"
      },
      "outputs": [],
      "source": [
        "def get_ethnicities_columns(x):\n",
        "    x = x.split(', ')\n",
        "    y = dict.fromkeys(ethnicities.keys(), 0)\n",
        "    for ethnicity in y.keys():\n",
        "        if ethnicity in x:\n",
        "            y[ethnicity] = 1\n",
        "    return pd.Series(y.values(), index=y.keys())"
      ]
    },
    {
      "cell_type": "code",
      "execution_count": 31,
      "metadata": {
        "id": "68sjJp8ZPEEV"
      },
      "outputs": [],
      "source": [
        "ethnicities_column_names = ['ethnicity_'+key for key in ethnicities.keys()] \n",
        "data[ethnicities_column_names] = data.ethnicity.apply(lambda x: get_ethnicities_columns(x) if pd.notna(x) else np.nan)"
      ]
    },
    {
      "cell_type": "code",
      "source": [
        "print(ethnicities_column_names)\n",
        "print(data[ethnicities_column_names])"
      ],
      "metadata": {
        "colab": {
          "base_uri": "https://localhost:8080/"
        },
        "id": "JenkWfm4S7Zr",
        "outputId": "3afefd24-e0c5-49f0-93c7-d48b6f83b07a"
      },
      "execution_count": 32,
      "outputs": [
        {
          "output_type": "stream",
          "name": "stdout",
          "text": [
            "['ethnicity_asian', 'ethnicity_white', 'ethnicity_black', 'ethnicity_other', 'ethnicity_hispanic / latin', 'ethnicity_pacific islander', 'ethnicity_native american', 'ethnicity_middle eastern', 'ethnicity_indian']\n",
            "       ethnicity_asian  ethnicity_white  ethnicity_black  ethnicity_other  \\\n",
            "0                    1                1                0                0   \n",
            "1                    0                1                0                0   \n",
            "2                    0                1                0                0   \n",
            "3                    0                1                0                0   \n",
            "4                    1                0                1                1   \n",
            "...                ...              ...              ...              ...   \n",
            "59941                0                1                0                0   \n",
            "59942                0                1                0                1   \n",
            "59943                1                0                0                0   \n",
            "59944                1                0                1                0   \n",
            "59945                0                1                0                0   \n",
            "\n",
            "       ethnicity_hispanic / latin  ethnicity_pacific islander  \\\n",
            "0                               0                           0   \n",
            "1                               0                           0   \n",
            "2                               0                           0   \n",
            "3                               0                           0   \n",
            "4                               0                           0   \n",
            "...                           ...                         ...   \n",
            "59941                           0                           0   \n",
            "59942                           0                           0   \n",
            "59943                           0                           0   \n",
            "59944                           0                           0   \n",
            "59945                           0                           0   \n",
            "\n",
            "       ethnicity_native american  ethnicity_middle eastern  ethnicity_indian  \n",
            "0                              0                         0                 0  \n",
            "1                              0                         0                 0  \n",
            "2                              0                         0                 0  \n",
            "3                              0                         0                 0  \n",
            "4                              0                         0                 0  \n",
            "...                          ...                       ...               ...  \n",
            "59941                          0                         0                 0  \n",
            "59942                          0                         0                 0  \n",
            "59943                          0                         0                 0  \n",
            "59944                          0                         0                 0  \n",
            "59945                          0                         0                 0  \n",
            "\n",
            "[59946 rows x 9 columns]\n"
          ]
        }
      ]
    },
    {
      "cell_type": "code",
      "execution_count": 34,
      "metadata": {
        "colab": {
          "base_uri": "https://localhost:8080/",
          "height": 522
        },
        "id": "olsmXhmBPEEV",
        "outputId": "b38d7fcb-3514-4a41-8a7d-a9080d997b1c"
      },
      "outputs": [
        {
          "output_type": "execute_result",
          "data": {
            "text/plain": [
              "       age  body_type  diet  drinks  drugs  education            ethnicity  \\\n",
              "0       22          0     0       4      0          2         asian, white   \n",
              "1       36          2     3       2      2          2                white   \n",
              "2       37         10     0       4      0          1                white   \n",
              "3       22         10     5       4      0          2                white   \n",
              "4       30          1     0       4      0          1  asian, black, other   \n",
              "...    ...        ...   ...     ...    ...        ...                  ...   \n",
              "59941   60          2     0       4      0          1                white   \n",
              "59942   24          4     0       2      2          2         white, other   \n",
              "59943   41          2     0       1      0          1                asian   \n",
              "59944   26          1     0       4      1          2         asian, black   \n",
              "59945   40          2     0       4      0          1                white   \n",
              "\n",
              "       height  income  job  ...  status  ethnicity_asian  ethnicity_white  \\\n",
              "0        75.0       0   19  ...       3                1                1   \n",
              "1        70.0       7    7  ...       3                0                1   \n",
              "2        68.0       0   14  ...       0                0                1   \n",
              "3        71.0       1   18  ...       3                0                1   \n",
              "4        66.0       0    2  ...       3                1                0   \n",
              "...       ...     ...  ...  ...     ...              ...              ...   \n",
              "59941    62.0       0   10  ...       3                0                1   \n",
              "59942    72.0       0   11  ...       3                0                1   \n",
              "59943    71.0       8    4  ...       3                1                0   \n",
              "59944    73.0       0   12  ...       3                1                0   \n",
              "59945    68.0       0   12  ...       3                0                1   \n",
              "\n",
              "       ethnicity_black  ethnicity_other  ethnicity_hispanic / latin  \\\n",
              "0                    0                0                           0   \n",
              "1                    0                0                           0   \n",
              "2                    0                0                           0   \n",
              "3                    0                0                           0   \n",
              "4                    1                1                           0   \n",
              "...                ...              ...                         ...   \n",
              "59941                0                0                           0   \n",
              "59942                0                1                           0   \n",
              "59943                0                0                           0   \n",
              "59944                1                0                           0   \n",
              "59945                0                0                           0   \n",
              "\n",
              "       ethnicity_pacific islander  ethnicity_native american  \\\n",
              "0                               0                          0   \n",
              "1                               0                          0   \n",
              "2                               0                          0   \n",
              "3                               0                          0   \n",
              "4                               0                          0   \n",
              "...                           ...                        ...   \n",
              "59941                           0                          0   \n",
              "59942                           0                          0   \n",
              "59943                           0                          0   \n",
              "59944                           0                          0   \n",
              "59945                           0                          0   \n",
              "\n",
              "      ethnicity_middle eastern  ethnicity_indian  \n",
              "0                            0                 0  \n",
              "1                            0                 0  \n",
              "2                            0                 0  \n",
              "3                            0                 0  \n",
              "4                            0                 0  \n",
              "...                        ...               ...  \n",
              "59941                        0                 0  \n",
              "59942                        0                 0  \n",
              "59943                        0                 0  \n",
              "59944                        0                 0  \n",
              "59945                        0                 0  \n",
              "\n",
              "[59946 rows x 29 columns]"
            ],
            "text/html": [
              "\n",
              "  <div id=\"df-c739072f-db19-4e16-8aff-097478879718\">\n",
              "    <div class=\"colab-df-container\">\n",
              "      <div>\n",
              "<style scoped>\n",
              "    .dataframe tbody tr th:only-of-type {\n",
              "        vertical-align: middle;\n",
              "    }\n",
              "\n",
              "    .dataframe tbody tr th {\n",
              "        vertical-align: top;\n",
              "    }\n",
              "\n",
              "    .dataframe thead th {\n",
              "        text-align: right;\n",
              "    }\n",
              "</style>\n",
              "<table border=\"1\" class=\"dataframe\">\n",
              "  <thead>\n",
              "    <tr style=\"text-align: right;\">\n",
              "      <th></th>\n",
              "      <th>age</th>\n",
              "      <th>body_type</th>\n",
              "      <th>diet</th>\n",
              "      <th>drinks</th>\n",
              "      <th>drugs</th>\n",
              "      <th>education</th>\n",
              "      <th>ethnicity</th>\n",
              "      <th>height</th>\n",
              "      <th>income</th>\n",
              "      <th>job</th>\n",
              "      <th>...</th>\n",
              "      <th>status</th>\n",
              "      <th>ethnicity_asian</th>\n",
              "      <th>ethnicity_white</th>\n",
              "      <th>ethnicity_black</th>\n",
              "      <th>ethnicity_other</th>\n",
              "      <th>ethnicity_hispanic / latin</th>\n",
              "      <th>ethnicity_pacific islander</th>\n",
              "      <th>ethnicity_native american</th>\n",
              "      <th>ethnicity_middle eastern</th>\n",
              "      <th>ethnicity_indian</th>\n",
              "    </tr>\n",
              "  </thead>\n",
              "  <tbody>\n",
              "    <tr>\n",
              "      <th>0</th>\n",
              "      <td>22</td>\n",
              "      <td>0</td>\n",
              "      <td>0</td>\n",
              "      <td>4</td>\n",
              "      <td>0</td>\n",
              "      <td>2</td>\n",
              "      <td>asian, white</td>\n",
              "      <td>75.0</td>\n",
              "      <td>0</td>\n",
              "      <td>19</td>\n",
              "      <td>...</td>\n",
              "      <td>3</td>\n",
              "      <td>1</td>\n",
              "      <td>1</td>\n",
              "      <td>0</td>\n",
              "      <td>0</td>\n",
              "      <td>0</td>\n",
              "      <td>0</td>\n",
              "      <td>0</td>\n",
              "      <td>0</td>\n",
              "      <td>0</td>\n",
              "    </tr>\n",
              "    <tr>\n",
              "      <th>1</th>\n",
              "      <td>36</td>\n",
              "      <td>2</td>\n",
              "      <td>3</td>\n",
              "      <td>2</td>\n",
              "      <td>2</td>\n",
              "      <td>2</td>\n",
              "      <td>white</td>\n",
              "      <td>70.0</td>\n",
              "      <td>7</td>\n",
              "      <td>7</td>\n",
              "      <td>...</td>\n",
              "      <td>3</td>\n",
              "      <td>0</td>\n",
              "      <td>1</td>\n",
              "      <td>0</td>\n",
              "      <td>0</td>\n",
              "      <td>0</td>\n",
              "      <td>0</td>\n",
              "      <td>0</td>\n",
              "      <td>0</td>\n",
              "      <td>0</td>\n",
              "    </tr>\n",
              "    <tr>\n",
              "      <th>2</th>\n",
              "      <td>37</td>\n",
              "      <td>10</td>\n",
              "      <td>0</td>\n",
              "      <td>4</td>\n",
              "      <td>0</td>\n",
              "      <td>1</td>\n",
              "      <td>white</td>\n",
              "      <td>68.0</td>\n",
              "      <td>0</td>\n",
              "      <td>14</td>\n",
              "      <td>...</td>\n",
              "      <td>0</td>\n",
              "      <td>0</td>\n",
              "      <td>1</td>\n",
              "      <td>0</td>\n",
              "      <td>0</td>\n",
              "      <td>0</td>\n",
              "      <td>0</td>\n",
              "      <td>0</td>\n",
              "      <td>0</td>\n",
              "      <td>0</td>\n",
              "    </tr>\n",
              "    <tr>\n",
              "      <th>3</th>\n",
              "      <td>22</td>\n",
              "      <td>10</td>\n",
              "      <td>5</td>\n",
              "      <td>4</td>\n",
              "      <td>0</td>\n",
              "      <td>2</td>\n",
              "      <td>white</td>\n",
              "      <td>71.0</td>\n",
              "      <td>1</td>\n",
              "      <td>18</td>\n",
              "      <td>...</td>\n",
              "      <td>3</td>\n",
              "      <td>0</td>\n",
              "      <td>1</td>\n",
              "      <td>0</td>\n",
              "      <td>0</td>\n",
              "      <td>0</td>\n",
              "      <td>0</td>\n",
              "      <td>0</td>\n",
              "      <td>0</td>\n",
              "      <td>0</td>\n",
              "    </tr>\n",
              "    <tr>\n",
              "      <th>4</th>\n",
              "      <td>30</td>\n",
              "      <td>1</td>\n",
              "      <td>0</td>\n",
              "      <td>4</td>\n",
              "      <td>0</td>\n",
              "      <td>1</td>\n",
              "      <td>asian, black, other</td>\n",
              "      <td>66.0</td>\n",
              "      <td>0</td>\n",
              "      <td>2</td>\n",
              "      <td>...</td>\n",
              "      <td>3</td>\n",
              "      <td>1</td>\n",
              "      <td>0</td>\n",
              "      <td>1</td>\n",
              "      <td>1</td>\n",
              "      <td>0</td>\n",
              "      <td>0</td>\n",
              "      <td>0</td>\n",
              "      <td>0</td>\n",
              "      <td>0</td>\n",
              "    </tr>\n",
              "    <tr>\n",
              "      <th>...</th>\n",
              "      <td>...</td>\n",
              "      <td>...</td>\n",
              "      <td>...</td>\n",
              "      <td>...</td>\n",
              "      <td>...</td>\n",
              "      <td>...</td>\n",
              "      <td>...</td>\n",
              "      <td>...</td>\n",
              "      <td>...</td>\n",
              "      <td>...</td>\n",
              "      <td>...</td>\n",
              "      <td>...</td>\n",
              "      <td>...</td>\n",
              "      <td>...</td>\n",
              "      <td>...</td>\n",
              "      <td>...</td>\n",
              "      <td>...</td>\n",
              "      <td>...</td>\n",
              "      <td>...</td>\n",
              "      <td>...</td>\n",
              "      <td>...</td>\n",
              "    </tr>\n",
              "    <tr>\n",
              "      <th>59941</th>\n",
              "      <td>60</td>\n",
              "      <td>2</td>\n",
              "      <td>0</td>\n",
              "      <td>4</td>\n",
              "      <td>0</td>\n",
              "      <td>1</td>\n",
              "      <td>white</td>\n",
              "      <td>62.0</td>\n",
              "      <td>0</td>\n",
              "      <td>10</td>\n",
              "      <td>...</td>\n",
              "      <td>3</td>\n",
              "      <td>0</td>\n",
              "      <td>1</td>\n",
              "      <td>0</td>\n",
              "      <td>0</td>\n",
              "      <td>0</td>\n",
              "      <td>0</td>\n",
              "      <td>0</td>\n",
              "      <td>0</td>\n",
              "      <td>0</td>\n",
              "    </tr>\n",
              "    <tr>\n",
              "      <th>59942</th>\n",
              "      <td>24</td>\n",
              "      <td>4</td>\n",
              "      <td>0</td>\n",
              "      <td>2</td>\n",
              "      <td>2</td>\n",
              "      <td>2</td>\n",
              "      <td>white, other</td>\n",
              "      <td>72.0</td>\n",
              "      <td>0</td>\n",
              "      <td>11</td>\n",
              "      <td>...</td>\n",
              "      <td>3</td>\n",
              "      <td>0</td>\n",
              "      <td>1</td>\n",
              "      <td>0</td>\n",
              "      <td>1</td>\n",
              "      <td>0</td>\n",
              "      <td>0</td>\n",
              "      <td>0</td>\n",
              "      <td>0</td>\n",
              "      <td>0</td>\n",
              "    </tr>\n",
              "    <tr>\n",
              "      <th>59943</th>\n",
              "      <td>41</td>\n",
              "      <td>2</td>\n",
              "      <td>0</td>\n",
              "      <td>1</td>\n",
              "      <td>0</td>\n",
              "      <td>1</td>\n",
              "      <td>asian</td>\n",
              "      <td>71.0</td>\n",
              "      <td>8</td>\n",
              "      <td>4</td>\n",
              "      <td>...</td>\n",
              "      <td>3</td>\n",
              "      <td>1</td>\n",
              "      <td>0</td>\n",
              "      <td>0</td>\n",
              "      <td>0</td>\n",
              "      <td>0</td>\n",
              "      <td>0</td>\n",
              "      <td>0</td>\n",
              "      <td>0</td>\n",
              "      <td>0</td>\n",
              "    </tr>\n",
              "    <tr>\n",
              "      <th>59944</th>\n",
              "      <td>26</td>\n",
              "      <td>1</td>\n",
              "      <td>0</td>\n",
              "      <td>4</td>\n",
              "      <td>1</td>\n",
              "      <td>2</td>\n",
              "      <td>asian, black</td>\n",
              "      <td>73.0</td>\n",
              "      <td>0</td>\n",
              "      <td>12</td>\n",
              "      <td>...</td>\n",
              "      <td>3</td>\n",
              "      <td>1</td>\n",
              "      <td>0</td>\n",
              "      <td>1</td>\n",
              "      <td>0</td>\n",
              "      <td>0</td>\n",
              "      <td>0</td>\n",
              "      <td>0</td>\n",
              "      <td>0</td>\n",
              "      <td>0</td>\n",
              "    </tr>\n",
              "    <tr>\n",
              "      <th>59945</th>\n",
              "      <td>40</td>\n",
              "      <td>2</td>\n",
              "      <td>0</td>\n",
              "      <td>4</td>\n",
              "      <td>0</td>\n",
              "      <td>1</td>\n",
              "      <td>white</td>\n",
              "      <td>68.0</td>\n",
              "      <td>0</td>\n",
              "      <td>12</td>\n",
              "      <td>...</td>\n",
              "      <td>3</td>\n",
              "      <td>0</td>\n",
              "      <td>1</td>\n",
              "      <td>0</td>\n",
              "      <td>0</td>\n",
              "      <td>0</td>\n",
              "      <td>0</td>\n",
              "      <td>0</td>\n",
              "      <td>0</td>\n",
              "      <td>0</td>\n",
              "    </tr>\n",
              "  </tbody>\n",
              "</table>\n",
              "<p>59946 rows × 29 columns</p>\n",
              "</div>\n",
              "      <button class=\"colab-df-convert\" onclick=\"convertToInteractive('df-c739072f-db19-4e16-8aff-097478879718')\"\n",
              "              title=\"Convert this dataframe to an interactive table.\"\n",
              "              style=\"display:none;\">\n",
              "        \n",
              "  <svg xmlns=\"http://www.w3.org/2000/svg\" height=\"24px\"viewBox=\"0 0 24 24\"\n",
              "       width=\"24px\">\n",
              "    <path d=\"M0 0h24v24H0V0z\" fill=\"none\"/>\n",
              "    <path d=\"M18.56 5.44l.94 2.06.94-2.06 2.06-.94-2.06-.94-.94-2.06-.94 2.06-2.06.94zm-11 1L8.5 8.5l.94-2.06 2.06-.94-2.06-.94L8.5 2.5l-.94 2.06-2.06.94zm10 10l.94 2.06.94-2.06 2.06-.94-2.06-.94-.94-2.06-.94 2.06-2.06.94z\"/><path d=\"M17.41 7.96l-1.37-1.37c-.4-.4-.92-.59-1.43-.59-.52 0-1.04.2-1.43.59L10.3 9.45l-7.72 7.72c-.78.78-.78 2.05 0 2.83L4 21.41c.39.39.9.59 1.41.59.51 0 1.02-.2 1.41-.59l7.78-7.78 2.81-2.81c.8-.78.8-2.07 0-2.86zM5.41 20L4 18.59l7.72-7.72 1.47 1.35L5.41 20z\"/>\n",
              "  </svg>\n",
              "      </button>\n",
              "      \n",
              "  <style>\n",
              "    .colab-df-container {\n",
              "      display:flex;\n",
              "      flex-wrap:wrap;\n",
              "      gap: 12px;\n",
              "    }\n",
              "\n",
              "    .colab-df-convert {\n",
              "      background-color: #E8F0FE;\n",
              "      border: none;\n",
              "      border-radius: 50%;\n",
              "      cursor: pointer;\n",
              "      display: none;\n",
              "      fill: #1967D2;\n",
              "      height: 32px;\n",
              "      padding: 0 0 0 0;\n",
              "      width: 32px;\n",
              "    }\n",
              "\n",
              "    .colab-df-convert:hover {\n",
              "      background-color: #E2EBFA;\n",
              "      box-shadow: 0px 1px 2px rgba(60, 64, 67, 0.3), 0px 1px 3px 1px rgba(60, 64, 67, 0.15);\n",
              "      fill: #174EA6;\n",
              "    }\n",
              "\n",
              "    [theme=dark] .colab-df-convert {\n",
              "      background-color: #3B4455;\n",
              "      fill: #D2E3FC;\n",
              "    }\n",
              "\n",
              "    [theme=dark] .colab-df-convert:hover {\n",
              "      background-color: #434B5C;\n",
              "      box-shadow: 0px 1px 3px 1px rgba(0, 0, 0, 0.15);\n",
              "      filter: drop-shadow(0px 1px 2px rgba(0, 0, 0, 0.3));\n",
              "      fill: #FFFFFF;\n",
              "    }\n",
              "  </style>\n",
              "\n",
              "      <script>\n",
              "        const buttonEl =\n",
              "          document.querySelector('#df-c739072f-db19-4e16-8aff-097478879718 button.colab-df-convert');\n",
              "        buttonEl.style.display =\n",
              "          google.colab.kernel.accessAllowed ? 'block' : 'none';\n",
              "\n",
              "        async function convertToInteractive(key) {\n",
              "          const element = document.querySelector('#df-c739072f-db19-4e16-8aff-097478879718');\n",
              "          const dataTable =\n",
              "            await google.colab.kernel.invokeFunction('convertToInteractive',\n",
              "                                                     [key], {});\n",
              "          if (!dataTable) return;\n",
              "\n",
              "          const docLinkHtml = 'Like what you see? Visit the ' +\n",
              "            '<a target=\"_blank\" href=https://colab.research.google.com/notebooks/data_table.ipynb>data table notebook</a>'\n",
              "            + ' to learn more about interactive tables.';\n",
              "          element.innerHTML = '';\n",
              "          dataTable['output_type'] = 'display_data';\n",
              "          await google.colab.output.renderOutput(dataTable, element);\n",
              "          const docLink = document.createElement('div');\n",
              "          docLink.innerHTML = docLinkHtml;\n",
              "          element.appendChild(docLink);\n",
              "        }\n",
              "      </script>\n",
              "    </div>\n",
              "  </div>\n",
              "  "
            ]
          },
          "metadata": {},
          "execution_count": 34
        }
      ],
      "source": [
        "data"
      ]
    },
    {
      "cell_type": "markdown",
      "metadata": {
        "id": "8ou1MzCVPEEV"
      },
      "source": [
        "## Generating language columns"
      ]
    },
    {
      "cell_type": "code",
      "execution_count": 35,
      "metadata": {
        "id": "XPQZDWcWPEEW"
      },
      "outputs": [],
      "source": [
        "def get_languages_columns(x):\n",
        "    x = x.split(', ')\n",
        "    y = dict.fromkeys(languages.keys(), 0)\n",
        "    for language in y.keys():\n",
        "        if language in x:\n",
        "            y[language] = 1\n",
        "    return pd.Series(y.values(), index=y.keys())"
      ]
    },
    {
      "cell_type": "code",
      "execution_count": 36,
      "metadata": {
        "id": "GpUUWJEDPEEW"
      },
      "outputs": [],
      "source": [
        "languages_column_names = ['speak_'+key for key in languages.keys()] \n",
        "data[languages_column_names] = data.speaks.apply(lambda x: get_languages_columns(x) if pd.notna(x) else np.nan)"
      ]
    },
    {
      "cell_type": "code",
      "execution_count": 37,
      "metadata": {
        "id": "RaYGFgKFPEEW"
      },
      "outputs": [],
      "source": [
        "data.drop(columns=['ethnicity','speaks'], inplace=True)"
      ]
    },
    {
      "cell_type": "code",
      "execution_count": 38,
      "metadata": {
        "colab": {
          "base_uri": "https://localhost:8080/"
        },
        "id": "58JaIFyrPEEX",
        "outputId": "8084942e-2199-4a56-e46b-12d7ac14268c"
      },
      "outputs": [
        {
          "output_type": "execute_result",
          "data": {
            "text/plain": [
              "(59946, 53)"
            ]
          },
          "metadata": {},
          "execution_count": 38
        }
      ],
      "source": [
        "data.shape"
      ]
    },
    {
      "cell_type": "markdown",
      "metadata": {
        "id": "Uh-Q3KlTPEEX"
      },
      "source": [
        "# Dimensionality Reduction"
      ]
    },
    {
      "cell_type": "code",
      "execution_count": 39,
      "metadata": {
        "id": "t2S18dLePEEZ"
      },
      "outputs": [],
      "source": [
        "from sklearn.preprocessing import StandardScaler\n",
        "X_std = StandardScaler().fit_transform(data)"
      ]
    },
    {
      "cell_type": "code",
      "execution_count": 40,
      "metadata": {
        "id": "Oexks2coPEEZ"
      },
      "outputs": [],
      "source": [
        "from sklearn.decomposition import PCA\n",
        "pca = PCA()\n",
        "principalComponents = pca.fit_transform(X_std)"
      ]
    },
    {
      "cell_type": "code",
      "execution_count": 41,
      "metadata": {
        "colab": {
          "base_uri": "https://localhost:8080/",
          "height": 238
        },
        "id": "txnlAMvkPEEZ",
        "outputId": "7ef22e5f-6de9-4285-e128-09b5b13b8abb"
      },
      "outputs": [
        {
          "output_type": "display_data",
          "data": {
            "text/plain": [
              "<Figure size 2160x504 with 1 Axes>"
            ],
            "image/png": "[encoded data removed]"
          },
          "metadata": {
            "needs_background": "light"
          }
        }
      ],
      "source": [
        "features = range(pca.n_components_)\n",
        "plt.figure(figsize=(30,7))\n",
        "plt.bar(features, pca.explained_variance_ratio_, color='black')\n",
        "plt.xlabel('PCA features')\n",
        "plt.ylabel('variance exlpained %')\n",
        "plt.xticks(features)\n",
        "plt.show()"
      ]
    },
    {
      "cell_type": "code",
      "execution_count": null,
      "metadata": {
        "colab": {
          "base_uri": "https://localhost:8080/"
        },
        "id": "1cbxfGryPEEa",
        "outputId": "58b26e83-1416-4b04-b85b-2c00d40a35c0"
      },
      "outputs": [
        {
          "output_type": "execute_result",
          "data": {
            "text/plain": [
              "(array([4.60702550e-02, 4.06407301e-02, 3.67307623e-02, 3.51639831e-02,\n",
              "        3.19257509e-02, 2.87225506e-02, 2.58909808e-02, 2.54381615e-02,\n",
              "        2.45062442e-02, 2.42277076e-02, 2.36021500e-02, 2.33426063e-02,\n",
              "        2.30879378e-02, 2.28918267e-02, 2.25890848e-02, 2.24639494e-02,\n",
              "        2.24496574e-02, 2.23455168e-02, 2.22170484e-02, 2.21340515e-02,\n",
              "        2.18616147e-02, 2.17182891e-02, 2.16729599e-02, 2.14389582e-02,\n",
              "        2.13736078e-02, 2.11811972e-02, 2.10130687e-02, 2.06596145e-02,\n",
              "        2.04433444e-02, 2.01639879e-02, 2.00234790e-02, 1.98365749e-02,\n",
              "        1.97182789e-02, 1.95354357e-02, 1.92367354e-02, 1.85210881e-02,\n",
              "        1.83934490e-02, 1.80297376e-02, 1.76903799e-02, 1.74191200e-02,\n",
              "        1.60365965e-02, 1.58509759e-02, 1.44207722e-02, 7.31977939e-03,\n",
              "        8.97614024e-33, 9.96908715e-34, 7.71268649e-34, 3.33668291e-34,\n",
              "        3.33668291e-34, 3.33668291e-34, 3.33668291e-34, 1.52025726e-34,\n",
              "        7.50287966e-35]),\n",
              " array([0.04607025, 0.08671099, 0.12344175, 0.15860573, 0.19053148,\n",
              "        0.21925403, 0.24514501, 0.27058317, 0.29508942, 0.31931713,\n",
              "        0.34291928, 0.36626188, 0.38934982, 0.41224165, 0.43483073,\n",
              "        0.45729468, 0.47974434, 0.50208986, 0.5243069 , 0.54644096,\n",
              "        0.56830257, 0.59002086, 0.61169382, 0.63313278, 0.65450638,\n",
              "        0.67568758, 0.69670065, 0.71736027, 0.73780361, 0.7579676 ,\n",
              "        0.77799108, 0.79782765, 0.81754593, 0.83708137, 0.8563181 ,\n",
              "        0.87483919, 0.89323264, 0.91126238, 0.92895276, 0.94637188,\n",
              "        0.96240847, 0.97825945, 0.99268022, 1.        , 1.        ,\n",
              "        1.        , 1.        , 1.        , 1.        , 1.        ,\n",
              "        1.        , 1.        , 1.        ]))"
            ]
          },
          "metadata": {},
          "execution_count": 36
        }
      ],
      "source": [
        "pca.explained_variance_ratio_, pca.explained_variance_ratio_.cumsum()"
      ]
    },
    {
      "cell_type": "code",
      "execution_count": null,
      "metadata": {
        "id": "hEsVDSY8PEEa"
      },
      "outputs": [],
      "source": [
        "PCA_components = pd.DataFrame(principalComponents)"
      ]
    },
    {
      "cell_type": "markdown",
      "metadata": {
        "id": "Q7-WZn81PEEa"
      },
      "source": [
        "# Clustering"
      ]
    },
    {
      "cell_type": "code",
      "execution_count": null,
      "metadata": {
        "id": "D2e8u08pPEEb"
      },
      "outputs": [],
      "source": [
        "from sklearn.cluster import KMeans"
      ]
    },
    {
      "cell_type": "code",
      "execution_count": null,
      "metadata": {
        "colab": {
          "base_uri": "https://localhost:8080/"
        },
        "id": "ohRy9S8lPEEb",
        "outputId": "7e1e0a29-8824-4e98-c4ef-4ca7c42328b7"
      },
      "outputs": [
        {
          "output_type": "stream",
          "name": "stdout",
          "text": [
            "Finding 2 clusters\n",
            "Finding 4 clusters\n",
            "Finding 6 clusters\n",
            "Finding 8 clusters\n",
            "Finding 10 clusters\n",
            "Finding 12 clusters\n",
            "Finding 14 clusters\n",
            "Finding 16 clusters\n",
            "Finding 18 clusters\n",
            "Finding 20 clusters\n",
            "Finding 22 clusters\n",
            "Finding 24 clusters\n",
            "Finding 26 clusters\n",
            "Finding 28 clusters\n",
            "Finding 30 clusters\n",
            "Finding 32 clusters\n",
            "Finding 34 clusters\n",
            "Finding 36 clusters\n",
            "Finding 38 clusters\n",
            "Finding 40 clusters\n",
            "Finding 42 clusters\n",
            "Finding 44 clusters\n",
            "Finding 46 clusters\n",
            "Finding 48 clusters\n",
            "Finding 50 clusters\n",
            "Finding 52 clusters\n",
            "Finding 54 clusters\n",
            "Finding 56 clusters\n",
            "Finding 58 clusters\n",
            "Finding 60 clusters\n",
            "Finding 62 clusters\n",
            "Finding 64 clusters\n",
            "Finding 66 clusters\n",
            "Finding 68 clusters\n",
            "Finding 70 clusters\n",
            "Finding 72 clusters\n",
            "Finding 74 clusters\n",
            "Finding 76 clusters\n",
            "Finding 78 clusters\n",
            "Finding 80 clusters\n",
            "Finding 82 clusters\n",
            "Finding 84 clusters\n",
            "Finding 86 clusters\n",
            "Finding 88 clusters\n",
            "Finding 90 clusters\n",
            "Finding 92 clusters\n",
            "Finding 94 clusters\n",
            "Finding 96 clusters\n",
            "Finding 98 clusters\n",
            "Finding 100 clusters\n"
          ]
        }
      ],
      "source": [
        "ks = range(2, 101, 2)\n",
        "inertias = []\n",
        "for k in ks:\n",
        "    print(f'Finding {k} clusters')\n",
        "    # Create a KMeans instance with k clusters: model\n",
        "    model = KMeans(n_clusters=k)\n",
        "    # Fit model to samples\n",
        "    model.fit(PCA_components.iloc[:,:42])\n",
        "    # Append the inertia to the list of inertias\n",
        "    inertias.append(model.inertia_)"
      ]
    },
    {
      "cell_type": "code",
      "execution_count": null,
      "metadata": {
        "colab": {
          "base_uri": "https://localhost:8080/",
          "height": 394
        },
        "id": "cJAlcQnyPEEc",
        "outputId": "9cc23f10-e667-48b0-90d2-a4f19da49df0"
      },
      "outputs": [
        {
          "output_type": "display_data",
          "data": {
            "image/png": "[encoded data removed]",
            "text/plain": [
              "<Figure size 2160x504 with 1 Axes>"
            ]
          },
          "metadata": {
            "needs_background": "light"
          }
        }
      ],
      "source": [
        "plt.figure(figsize=(30,7))\n",
        "plt.plot(ks, inertias, '-o', color='black')\n",
        "plt.xlabel('number of clusters, k')\n",
        "plt.ylabel('inertia')\n",
        "plt.xticks(ks)\n",
        "plt.show()"
      ]
    },
    {
      "cell_type": "code",
      "execution_count": null,
      "metadata": {
        "id": "fw2R3dtQPEEd"
      },
      "outputs": [],
      "source": [
        "model = KMeans(n_clusters=30)\n",
        "model.fit(PCA_components.iloc[:,:42])\n",
        "data['cluster'] = model.predict(PCA_components.iloc[:,:42])"
      ]
    },
    {
      "cell_type": "code",
      "execution_count": null,
      "metadata": {
        "colab": {
          "base_uri": "https://localhost:8080/",
          "height": 529
        },
        "id": "WuULSFaPPEEd",
        "outputId": "2b40470b-3091-4afb-c799-c7c692a9a9d9"
      },
      "outputs": [
        {
          "output_type": "display_data",
          "data": {
            "image/png": "[encoded data removed]",
            "text/plain": [
              "<Figure size 2160x720 with 1 Axes>"
            ]
          },
          "metadata": {
            "needs_background": "light"
          }
        }
      ],
      "source": [
        "plt.figure(figsize=(30,10))\n",
        "sns.countplot(data=data, y='cluster')\n",
        "plt.show()"
      ]
    },
    {
      "cell_type": "code",
      "execution_count": null,
      "metadata": {
        "colab": {
          "base_uri": "https://localhost:8080/",
          "height": 384
        },
        "id": "xAODcp0zPEEd",
        "outputId": "e0e25790-5e5c-4cee-a632-f2a3536230ab"
      },
      "outputs": [
        {
          "output_type": "display_data",
          "data": {
            "image/png": "[encoded data removed]",
            "text/plain": [
              "<Figure size 2160x504 with 1 Axes>"
            ]
          },
          "metadata": {
            "needs_background": "light"
          }
        }
      ],
      "source": [
        "plt.figure(figsize=(30,7))\n",
        "sns.scatterplot(x=PCA_components[0], y=PCA_components[1], hue=data['cluster'])\n",
        "plt.show()"
      ]
    },
    {
      "cell_type": "code",
      "source": [
        ""
      ],
      "metadata": {
        "id": "cwVI2Lvxbtif"
      },
      "execution_count": null,
      "outputs": []
    }
  ],
  "metadata": {
    "interpreter": {
      "hash": "190b7a25f3380794a0d496d016bb847d8f368bfbff45b4c0e0161975ef1296ca"
    },
    "kernelspec": {
      "display_name": "Python 3.7.12 64-bit ('env': venv)",
      "name": "python3"
    },
    "language_info": {
      "codemirror_mode": {
        "name": "ipython",
        "version": 3
      },
      "file_extension": ".py",
      "mimetype": "text/x-python",
      "name": "python",
      "nbconvert_exporter": "python",
      "pygments_lexer": "ipython3",
      "version": "3.7.12"
    },
    "orig_nbformat": 4,
    "colab": {
      "name": "playground.ipynb",
      "provenance": [],
      "collapsed_sections": []
    }
  },
  "nbformat": 4,
  "nbformat_minor": 0
}