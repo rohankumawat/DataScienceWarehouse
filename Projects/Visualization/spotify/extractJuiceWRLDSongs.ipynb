{
 "cells": [
  {
   "cell_type": "markdown",
   "id": "5c64e2a7",
   "metadata": {},
   "source": [
    "https://www.kaggle.com/code/pavansanagapati/spotify-music-api-data-extraction-part1/notebook"
   ]
  },
  {
   "cell_type": "code",
   "execution_count": 62,
   "id": "cbf061f9",
   "metadata": {},
   "outputs": [],
   "source": [
    "#To access Spotify authorised data we need to create our credentials like clientid and client_secret as well as spotify object to access the API\n",
    "\n",
    "import spotipy\n",
    "from spotipy.oauth2 import SpotifyClientCredentials\n",
    "# username = 'ray1d5u3xeb2e8c1nkpnwsnig'\n",
    "client_id = 'bbf8d106196049c7831e658b73eb7a72'\n",
    "client_secret = 'a249efe0cd3c411fa6182dfa2f4ce048'\n",
    "# redirect_url = 'http://localhost:7777/callback'\n",
    "# scope = 'user-read-recently-played'\n",
    "client_credentials_manager = SpotifyClientCredentials(client_id=client_id, client_secret=client_secret)\n",
    "sp = spotipy.Spotify(client_credentials_manager=client_credentials_manager)"
   ]
  },
  {
   "cell_type": "code",
   "execution_count": null,
   "id": "2e169f6c",
   "metadata": {},
   "outputs": [],
   "source": [
    "name = \"Juice WRLD\"\n",
    "result = sp.search(name) \n",
    "result['tracks']['items'][1]['artists']"
   ]
  },
  {
   "cell_type": "code",
   "execution_count": null,
   "id": "c2a43606",
   "metadata": {},
   "outputs": [],
   "source": [
    "type(result)"
   ]
  },
  {
   "cell_type": "markdown",
   "id": "1015a403",
   "metadata": {},
   "source": [
    "### Extract Spotify Albums\n",
    "\n",
    "We will store Spotify URIs and album names in separate lists for reference that we can use later on during data analysis"
   ]
  },
  {
   "cell_type": "code",
   "execution_count": null,
   "id": "29a0a8a6",
   "metadata": {},
   "outputs": [],
   "source": [
    "#Extract Artist's uri\n",
    "artists_uris = result['tracks']['items'][0]['artists'][0]['uri']"
   ]
  },
  {
   "cell_type": "code",
   "execution_count": null,
   "id": "e5efbc8d",
   "metadata": {},
   "outputs": [],
   "source": [
    "artists_uris"
   ]
  },
  {
   "cell_type": "code",
   "execution_count": null,
   "id": "9844dc66",
   "metadata": {},
   "outputs": [],
   "source": [
    "type(artists_uris)"
   ]
  },
  {
   "cell_type": "code",
   "execution_count": null,
   "id": "aad0c8f9",
   "metadata": {},
   "outputs": [],
   "source": [
    "#Pull all of the artist's albums\n",
    "artist_albums = sp.artist_albums(artists_uris, album_type='album')"
   ]
  },
  {
   "cell_type": "code",
   "execution_count": null,
   "id": "1e47858c",
   "metadata": {},
   "outputs": [],
   "source": [
    "artist_albums"
   ]
  },
  {
   "cell_type": "code",
   "execution_count": null,
   "id": "1cd90bdf",
   "metadata": {},
   "outputs": [],
   "source": [
    "#Store artist's albums' names' and uris in separate lists\n",
    "artist_album_names = []\n",
    "artist_album_uris = []\n",
    "for i in range(len(artist_albums['items'])):\n",
    "    artist_album_names.append(artist_albums['items'][i]['name'])\n",
    "    artist_album_uris.append(artist_albums['items'][i]['uri'])\n",
    "    \n",
    "artist_album_names\n",
    "#Keep names and uris in same order to keep track of duplicate albums"
   ]
  },
  {
   "cell_type": "code",
   "execution_count": null,
   "id": "fc70e071",
   "metadata": {},
   "outputs": [],
   "source": [
    "artist_album_uris"
   ]
  },
  {
   "cell_type": "code",
   "execution_count": null,
   "id": "f6120582",
   "metadata": {},
   "outputs": [],
   "source": [
    "artist_album_uris[0]"
   ]
  },
  {
   "cell_type": "code",
   "execution_count": null,
   "id": "204ef4db",
   "metadata": {},
   "outputs": [],
   "source": [
    "sp.album_tracks(artist_album_uris[0])"
   ]
  },
  {
   "cell_type": "code",
   "execution_count": null,
   "id": "8cc6384d",
   "metadata": {},
   "outputs": [],
   "source": []
  },
  {
   "cell_type": "markdown",
   "id": "0d6ed933",
   "metadata": {},
   "source": [
    "### Extract all the songs from every album\n",
    "\n",
    "Next would be to loop through each album to extract key album track data."
   ]
  },
  {
   "cell_type": "code",
   "execution_count": null,
   "id": "bfe3ccd2",
   "metadata": {},
   "outputs": [],
   "source": [
    "def album_songs(uri):\n",
    "    album = uri \n",
    "    spotify_albums[album] = {}\n",
    "    #Create keys-values of empty lists inside nested dictionary for album\n",
    "    spotify_albums[album]['album'] = [] \n",
    "    spotify_albums[album]['track_number'] = []\n",
    "    spotify_albums[album]['id'] = []\n",
    "    spotify_albums[album]['name'] = []\n",
    "    spotify_albums[album]['uri'] = []\n",
    "    #pull data on album tracks\n",
    "    tracks = sp.album_tracks(album) \n",
    "    for n in range(len(tracks['items'])): \n",
    "        spotify_albums[album]['album'].append(artist_album_names[album_count]) \n",
    "        spotify_albums[album]['track_number'].append(tracks['items'][n]['track_number'])\n",
    "        spotify_albums[album]['id'].append(tracks['items'][n]['id'])\n",
    "        spotify_albums[album]['name'].append(tracks['items'][n]['name'])\n",
    "        spotify_albums[album]['uri'].append(tracks['items'][n]['uri'])"
   ]
  },
  {
   "cell_type": "markdown",
   "id": "fe8b2cab",
   "metadata": {},
   "source": [
    "Now we can apply the function to each album URI in the list to pull the track data and create an empty dictionary called to store the spotify album data."
   ]
  },
  {
   "cell_type": "code",
   "execution_count": null,
   "id": "127d54f9",
   "metadata": {},
   "outputs": [],
   "source": [
    "spotify_albums = {}\n",
    "album_count = 0\n",
    "for i in artist_album_uris: #each album\n",
    "    album_songs(i)\n",
    "    print(str(artist_album_names[album_count]) + \" album songs has been added to spotify_albums dictionary\")\n",
    "    album_count+=1 #Updates album count once all tracks have been added"
   ]
  },
  {
   "cell_type": "markdown",
   "id": "8803b105",
   "metadata": {},
   "source": [
    "### Extract audio features for each song\n",
    "\n",
    "To store the audio features of each album track and append the data into lists representing all the music tracks for that album we add additional key-values."
   ]
  },
  {
   "cell_type": "code",
   "execution_count": null,
   "id": "3258240d",
   "metadata": {},
   "outputs": [],
   "source": [
    "def audio_features(album):\n",
    "    #Add new key-values to store audio features\n",
    "    spotify_albums[album]['acousticness'] = []\n",
    "    spotify_albums[album]['danceability'] = []\n",
    "    spotify_albums[album]['energy'] = []\n",
    "    spotify_albums[album]['instrumentalness'] = []\n",
    "    spotify_albums[album]['liveness'] = []\n",
    "    spotify_albums[album]['loudness'] = []\n",
    "    spotify_albums[album]['speechiness'] = []\n",
    "    spotify_albums[album]['tempo'] = []\n",
    "    spotify_albums[album]['valence'] = []\n",
    "    spotify_albums[album]['popularity'] = []\n",
    "    \n",
    "    track_count = 0\n",
    "    for track in spotify_albums[album]['uri']:\n",
    "        #pull audio features per track\n",
    "        features = sp.audio_features(track)\n",
    "        \n",
    "        #Append to relevant key-value\n",
    "        spotify_albums[album]['acousticness'].append(features[0]['acousticness'])\n",
    "        spotify_albums[album]['danceability'].append(features[0]['danceability'])\n",
    "        spotify_albums[album]['energy'].append(features[0]['energy'])\n",
    "        spotify_albums[album]['instrumentalness'].append(features[0]['instrumentalness'])\n",
    "        spotify_albums[album]['liveness'].append(features[0]['liveness'])\n",
    "        spotify_albums[album]['loudness'].append(features[0]['loudness'])\n",
    "        spotify_albums[album]['speechiness'].append(features[0]['speechiness'])\n",
    "        spotify_albums[album]['tempo'].append(features[0]['tempo'])\n",
    "        spotify_albums[album]['valence'].append(features[0]['valence'])\n",
    "        #popularity is stored elsewhere\n",
    "        pop = sp.track(track)\n",
    "        spotify_albums[album]['popularity'].append(pop['popularity'])\n",
    "        track_count+=1"
   ]
  },
  {
   "cell_type": "markdown",
   "id": "648c64a3",
   "metadata": {},
   "source": [
    "Now let loop through albums extracting the audio features.For this we will add a random delay every few albums to avoid sending too many requests at Spotify's API."
   ]
  },
  {
   "cell_type": "code",
   "execution_count": null,
   "id": "2d337d93",
   "metadata": {},
   "outputs": [],
   "source": [
    "import time\n",
    "import numpy as np\n",
    "sleep_min = 2\n",
    "sleep_max = 5\n",
    "start_time = time.time()\n",
    "request_count = 0\n",
    "for i in spotify_albums:\n",
    "    audio_features(i)\n",
    "    request_count+=1\n",
    "    if request_count % 5 == 0:\n",
    "        print(str(request_count) + \" playlists completed\")\n",
    "        time.sleep(np.random.uniform(sleep_min, sleep_max))\n",
    "        print('Loop #: {}'.format(request_count))\n",
    "        print('Elapsed Time: {} seconds'.format(time.time() - start_time))"
   ]
  },
  {
   "cell_type": "markdown",
   "id": "a1dbbfe4",
   "metadata": {},
   "source": [
    "Now its time to add the above spotify music data to a new dataframe but before we do so we need to first organise our data into a dictionary which can be converted into a dataframe."
   ]
  },
  {
   "cell_type": "code",
   "execution_count": null,
   "id": "ae0e9542",
   "metadata": {},
   "outputs": [],
   "source": [
    "dic_df = {}\n",
    "dic_df['album'] = []\n",
    "dic_df['track_number'] = []\n",
    "dic_df['id'] = []\n",
    "dic_df['name'] = []\n",
    "dic_df['uri'] = []\n",
    "dic_df['acousticness'] = []\n",
    "dic_df['danceability'] = []\n",
    "dic_df['energy'] = []\n",
    "dic_df['instrumentalness'] = []\n",
    "dic_df['liveness'] = []\n",
    "dic_df['loudness'] = []\n",
    "dic_df['speechiness'] = []\n",
    "dic_df['tempo'] = []\n",
    "dic_df['valence'] = []\n",
    "dic_df['popularity'] = []\n",
    "for album in spotify_albums: \n",
    "    for feature in spotify_albums[album]:\n",
    "        dic_df[feature].extend(spotify_albums[album][feature])\n",
    "        \n",
    "len(dic_df['album'])"
   ]
  },
  {
   "cell_type": "code",
   "execution_count": null,
   "id": "ed063246",
   "metadata": {},
   "outputs": [],
   "source": [
    "import pandas as pd\n",
    "df = pd.DataFrame.from_dict(dic_df)\n",
    "df[0:5]"
   ]
  },
  {
   "cell_type": "markdown",
   "id": "2bba2487",
   "metadata": {},
   "source": [
    "Spotify has a duplicate issue which can be addressed by removing all but the most popular songs."
   ]
  },
  {
   "cell_type": "code",
   "execution_count": null,
   "id": "da8ea044",
   "metadata": {},
   "outputs": [],
   "source": [
    "print(len(df))\n",
    "final_df = df.sort_values('popularity', ascending=False).drop_duplicates('name').sort_index()\n",
    "print(len(final_df))"
   ]
  },
  {
   "cell_type": "code",
   "execution_count": null,
   "id": "ccd67d35",
   "metadata": {},
   "outputs": [],
   "source": [
    "final_df.head(3)"
   ]
  },
  {
   "cell_type": "code",
   "execution_count": null,
   "id": "7cad5ecd",
   "metadata": {},
   "outputs": [],
   "source": [
    "final_df.to_csv(\"juiceWRLDmusic.csv\")"
   ]
  },
  {
   "cell_type": "markdown",
   "id": "b1944326",
   "metadata": {},
   "source": [
    "### Halsey"
   ]
  },
  {
   "cell_type": "code",
   "execution_count": null,
   "id": "ef293547",
   "metadata": {},
   "outputs": [],
   "source": [
    "name = \"Halsey\"\n",
    "result = sp.search(name) "
   ]
  },
  {
   "cell_type": "code",
   "execution_count": null,
   "id": "b3f6c882",
   "metadata": {},
   "outputs": [],
   "source": [
    "result['tracks']['items'][0]['artists']"
   ]
  },
  {
   "cell_type": "code",
   "execution_count": null,
   "id": "a56e02ca",
   "metadata": {},
   "outputs": [],
   "source": [
    "#Extract Artist's uri\n",
    "artists_uris = result['tracks']['items'][0]['artists'][0]['uri']"
   ]
  },
  {
   "cell_type": "code",
   "execution_count": null,
   "id": "8bb65336",
   "metadata": {},
   "outputs": [],
   "source": [
    "# this is of chainsmokers\n",
    "artists_uris"
   ]
  },
  {
   "cell_type": "code",
   "execution_count": null,
   "id": "1cc0afc2",
   "metadata": {},
   "outputs": [],
   "source": [
    "#Extract Artist's uri\n",
    "artists_uris = result['tracks']['items'][1]['artists'][0]['uri']"
   ]
  },
  {
   "cell_type": "code",
   "execution_count": null,
   "id": "1a90b9f9",
   "metadata": {},
   "outputs": [],
   "source": [
    "artists_uris"
   ]
  },
  {
   "cell_type": "code",
   "execution_count": null,
   "id": "7a29c83e",
   "metadata": {},
   "outputs": [],
   "source": [
    "#Pull all of the artist's albums\n",
    "artist_albums = sp.artist_albums(artists_uris, album_type='album')"
   ]
  },
  {
   "cell_type": "code",
   "execution_count": null,
   "id": "c8755786",
   "metadata": {},
   "outputs": [],
   "source": [
    "#Store artist's albums' names' and uris in separate lists\n",
    "artist_album_names = []\n",
    "artist_album_uris = []\n",
    "for i in range(len(artist_albums['items'])):\n",
    "    artist_album_names.append(artist_albums['items'][i]['name'])\n",
    "    artist_album_uris.append(artist_albums['items'][i]['uri'])\n",
    "    \n",
    "artist_album_names\n",
    "#Keep names and uris in same order to keep track of duplicate albums"
   ]
  },
  {
   "cell_type": "code",
   "execution_count": null,
   "id": "14990952",
   "metadata": {},
   "outputs": [],
   "source": [
    "def album_songs(uri):\n",
    "    album = uri \n",
    "    spotify_albums[album] = {}\n",
    "    #Create keys-values of empty lists inside nested dictionary for album\n",
    "    spotify_albums[album]['album'] = [] \n",
    "    spotify_albums[album]['track_number'] = []\n",
    "    spotify_albums[album]['id'] = []\n",
    "    spotify_albums[album]['name'] = []\n",
    "    spotify_albums[album]['uri'] = []\n",
    "    #pull data on album tracks\n",
    "    tracks = sp.album_tracks(album) \n",
    "    for n in range(len(tracks['items'])): \n",
    "        spotify_albums[album]['album'].append(artist_album_names[album_count]) \n",
    "        spotify_albums[album]['track_number'].append(tracks['items'][n]['track_number'])\n",
    "        spotify_albums[album]['id'].append(tracks['items'][n]['id'])\n",
    "        spotify_albums[album]['name'].append(tracks['items'][n]['name'])\n",
    "        spotify_albums[album]['uri'].append(tracks['items'][n]['uri'])"
   ]
  },
  {
   "cell_type": "code",
   "execution_count": null,
   "id": "0fe4a1d6",
   "metadata": {},
   "outputs": [],
   "source": [
    "spotify_albums = {}\n",
    "album_count = 0\n",
    "for i in artist_album_uris: #each album\n",
    "    album_songs(i)\n",
    "    print(str(artist_album_names[album_count]) + \" album songs has been added to spotify_albums dictionary\")\n",
    "    album_count+=1 #Updates album count once all tracks have been added"
   ]
  },
  {
   "cell_type": "code",
   "execution_count": null,
   "id": "d5c98442",
   "metadata": {},
   "outputs": [],
   "source": [
    "import time\n",
    "import numpy as np\n",
    "sleep_min = 2\n",
    "sleep_max = 5\n",
    "start_time = time.time()\n",
    "request_count = 0\n",
    "for i in spotify_albums:\n",
    "    audio_features(i)\n",
    "    request_count+=1\n",
    "    if request_count % 5 == 0:\n",
    "        print(str(request_count) + \" playlists completed\")\n",
    "        time.sleep(np.random.uniform(sleep_min, sleep_max))\n",
    "        print('Loop #: {}'.format(request_count))\n",
    "        print('Elapsed Time: {} seconds'.format(time.time() - start_time))"
   ]
  },
  {
   "cell_type": "code",
   "execution_count": null,
   "id": "40742935",
   "metadata": {},
   "outputs": [],
   "source": [
    "dic_df = {}\n",
    "dic_df['album'] = []\n",
    "dic_df['track_number'] = []\n",
    "dic_df['id'] = []\n",
    "dic_df['name'] = []\n",
    "dic_df['uri'] = []\n",
    "dic_df['acousticness'] = []\n",
    "dic_df['danceability'] = []\n",
    "dic_df['energy'] = []\n",
    "dic_df['instrumentalness'] = []\n",
    "dic_df['liveness'] = []\n",
    "dic_df['loudness'] = []\n",
    "dic_df['speechiness'] = []\n",
    "dic_df['tempo'] = []\n",
    "dic_df['valence'] = []\n",
    "dic_df['popularity'] = []\n",
    "for album in spotify_albums: \n",
    "    for feature in spotify_albums[album]:\n",
    "        dic_df[feature].extend(spotify_albums[album][feature])\n",
    "        \n",
    "len(dic_df['album'])"
   ]
  },
  {
   "cell_type": "code",
   "execution_count": null,
   "id": "6c268b77",
   "metadata": {},
   "outputs": [],
   "source": [
    "import pandas as pd\n",
    "df = pd.DataFrame.from_dict(dic_df)\n",
    "df[0:5]"
   ]
  },
  {
   "cell_type": "code",
   "execution_count": null,
   "id": "040cf09e",
   "metadata": {},
   "outputs": [],
   "source": [
    "print(len(df))\n",
    "final_df = df.sort_values('popularity', ascending=False).drop_duplicates('name').sort_index()\n",
    "print(len(final_df))"
   ]
  },
  {
   "cell_type": "code",
   "execution_count": null,
   "id": "d1a6ed37",
   "metadata": {},
   "outputs": [],
   "source": [
    "final_df.head(3)"
   ]
  },
  {
   "cell_type": "code",
   "execution_count": null,
   "id": "fdf38caf",
   "metadata": {},
   "outputs": [],
   "source": [
    "final_df.to_csv(\"halseyMusic.csv\")"
   ]
  },
  {
   "cell_type": "code",
   "execution_count": null,
   "id": "c59382f0",
   "metadata": {},
   "outputs": [],
   "source": []
  },
  {
   "cell_type": "markdown",
   "id": "e1790c48",
   "metadata": {},
   "source": [
    "### The Weeknd"
   ]
  },
  {
   "cell_type": "code",
   "execution_count": null,
   "id": "27ecb8b2",
   "metadata": {},
   "outputs": [],
   "source": [
    "name = \"The Weeknd\"\n",
    "result = sp.search(name) \n",
    "result['tracks']['items'][1]['artists']"
   ]
  },
  {
   "cell_type": "code",
   "execution_count": null,
   "id": "4ae5ab5e",
   "metadata": {},
   "outputs": [],
   "source": [
    "result['tracks']['items'][0]['artists']"
   ]
  },
  {
   "cell_type": "code",
   "execution_count": null,
   "id": "b7602ddc",
   "metadata": {},
   "outputs": [],
   "source": [
    "#Extract Artist's uri\n",
    "artists_uris = result['tracks']['items'][0]['artists'][1]['uri']\n",
    "artists_uris"
   ]
  },
  {
   "cell_type": "code",
   "execution_count": null,
   "id": "ba614652",
   "metadata": {},
   "outputs": [],
   "source": [
    "#Pull all of the artist's albums\n",
    "artist_albums = sp.artist_albums(artists_uris, album_type='album')\n",
    "\n",
    "#Store artist's albums' names' and uris in separate lists\n",
    "artist_album_names = []\n",
    "artist_album_uris = []\n",
    "for i in range(len(artist_albums['items'])):\n",
    "    artist_album_names.append(artist_albums['items'][i]['name'])\n",
    "    artist_album_uris.append(artist_albums['items'][i]['uri'])\n",
    "    \n",
    "artist_album_names\n",
    "#Keep names and uris in same order to keep track of duplicate albums"
   ]
  },
  {
   "cell_type": "code",
   "execution_count": null,
   "id": "4d21b316",
   "metadata": {},
   "outputs": [],
   "source": [
    "def album_songs(uri):\n",
    "    album = uri \n",
    "    spotify_albums[album] = {}\n",
    "    #Create keys-values of empty lists inside nested dictionary for album\n",
    "    spotify_albums[album]['album'] = [] \n",
    "    spotify_albums[album]['track_number'] = []\n",
    "    spotify_albums[album]['id'] = []\n",
    "    spotify_albums[album]['name'] = []\n",
    "    spotify_albums[album]['uri'] = []\n",
    "    #pull data on album tracks\n",
    "    tracks = sp.album_tracks(album) \n",
    "    for n in range(len(tracks['items'])): \n",
    "        spotify_albums[album]['album'].append(artist_album_names[album_count]) \n",
    "        spotify_albums[album]['track_number'].append(tracks['items'][n]['track_number'])\n",
    "        spotify_albums[album]['id'].append(tracks['items'][n]['id'])\n",
    "        spotify_albums[album]['name'].append(tracks['items'][n]['name'])\n",
    "        spotify_albums[album]['uri'].append(tracks['items'][n]['uri'])"
   ]
  },
  {
   "cell_type": "code",
   "execution_count": null,
   "id": "1568d274",
   "metadata": {},
   "outputs": [],
   "source": [
    "spotify_albums = {}\n",
    "album_count = 0\n",
    "for i in artist_album_uris: #each album\n",
    "    album_songs(i)\n",
    "    print(str(artist_album_names[album_count]) + \" album songs has been added to spotify_albums dictionary\")\n",
    "    album_count+=1 #Updates album count once all tracks have been added"
   ]
  },
  {
   "cell_type": "code",
   "execution_count": null,
   "id": "397bd74a",
   "metadata": {},
   "outputs": [],
   "source": [
    "def audio_features(album):\n",
    "    #Add new key-values to store audio features\n",
    "    spotify_albums[album]['acousticness'] = []\n",
    "    spotify_albums[album]['danceability'] = []\n",
    "    spotify_albums[album]['energy'] = []\n",
    "    spotify_albums[album]['instrumentalness'] = []\n",
    "    spotify_albums[album]['liveness'] = []\n",
    "    spotify_albums[album]['loudness'] = []\n",
    "    spotify_albums[album]['speechiness'] = []\n",
    "    spotify_albums[album]['tempo'] = []\n",
    "    spotify_albums[album]['valence'] = []\n",
    "    spotify_albums[album]['popularity'] = []\n",
    "    \n",
    "    track_count = 0\n",
    "    for track in spotify_albums[album]['uri']:\n",
    "        #pull audio features per track\n",
    "        features = sp.audio_features(track)\n",
    "        \n",
    "        #Append to relevant key-value\n",
    "        spotify_albums[album]['acousticness'].append(features[0]['acousticness'])\n",
    "        spotify_albums[album]['danceability'].append(features[0]['danceability'])\n",
    "        spotify_albums[album]['energy'].append(features[0]['energy'])\n",
    "        spotify_albums[album]['instrumentalness'].append(features[0]['instrumentalness'])\n",
    "        spotify_albums[album]['liveness'].append(features[0]['liveness'])\n",
    "        spotify_albums[album]['loudness'].append(features[0]['loudness'])\n",
    "        spotify_albums[album]['speechiness'].append(features[0]['speechiness'])\n",
    "        spotify_albums[album]['tempo'].append(features[0]['tempo'])\n",
    "        spotify_albums[album]['valence'].append(features[0]['valence'])\n",
    "        #popularity is stored elsewhere\n",
    "        pop = sp.track(track)\n",
    "        spotify_albums[album]['popularity'].append(pop['popularity'])\n",
    "        track_count+=1"
   ]
  },
  {
   "cell_type": "code",
   "execution_count": null,
   "id": "5c985963",
   "metadata": {},
   "outputs": [],
   "source": [
    "import time\n",
    "import numpy as np\n",
    "sleep_min = 2\n",
    "sleep_max = 5\n",
    "start_time = time.time()\n",
    "request_count = 0\n",
    "for i in spotify_albums:\n",
    "    audio_features(i)\n",
    "    request_count+=1\n",
    "    if request_count % 5 == 0:\n",
    "        print(str(request_count) + \" playlists completed\")\n",
    "        time.sleep(np.random.uniform(sleep_min, sleep_max))\n",
    "        print('Loop #: {}'.format(request_count))\n",
    "        print('Elapsed Time: {} seconds'.format(time.time() - start_time))"
   ]
  },
  {
   "cell_type": "code",
   "execution_count": null,
   "id": "9d6a55c1",
   "metadata": {},
   "outputs": [],
   "source": [
    "dic_df = {}\n",
    "dic_df['album'] = []\n",
    "dic_df['track_number'] = []\n",
    "dic_df['id'] = []\n",
    "dic_df['name'] = []\n",
    "dic_df['uri'] = []\n",
    "dic_df['acousticness'] = []\n",
    "dic_df['danceability'] = []\n",
    "dic_df['energy'] = []\n",
    "dic_df['instrumentalness'] = []\n",
    "dic_df['liveness'] = []\n",
    "dic_df['loudness'] = []\n",
    "dic_df['speechiness'] = []\n",
    "dic_df['tempo'] = []\n",
    "dic_df['valence'] = []\n",
    "dic_df['popularity'] = []\n",
    "for album in spotify_albums: \n",
    "    for feature in spotify_albums[album]:\n",
    "        dic_df[feature].extend(spotify_albums[album][feature])\n",
    "        \n",
    "len(dic_df['album'])"
   ]
  },
  {
   "cell_type": "code",
   "execution_count": null,
   "id": "c8841347",
   "metadata": {},
   "outputs": [],
   "source": [
    "import pandas as pd\n",
    "df = pd.DataFrame.from_dict(dic_df)\n",
    "df[0:5]"
   ]
  },
  {
   "cell_type": "code",
   "execution_count": null,
   "id": "d74dee4d",
   "metadata": {},
   "outputs": [],
   "source": [
    "print(len(df))\n",
    "final_df = df.sort_values('popularity', ascending=False).drop_duplicates('name').sort_index()\n",
    "print(len(final_df))"
   ]
  },
  {
   "cell_type": "code",
   "execution_count": null,
   "id": "0374126f",
   "metadata": {},
   "outputs": [],
   "source": [
    "final_df.to_csv(\"theWeekndMusic.csv\")"
   ]
  },
  {
   "cell_type": "markdown",
   "id": "34053ef4",
   "metadata": {},
   "source": [
    "### Post Malone | Doja Cat | Britney Spears | Jon Bellion | Martin Garrix | Maroon 5 | The Chainsmokers | Drake | Ariana Grande | Selena Gomex | Madonna | Nicki Minaj | Cardi B | Bebe Rexha | Megan Thee Stallion | 21 Savage | The Vamps | Kygo | Kesha | Camilla Cabello | Dua Lipa | Charlie Puth | Ed Sheeran | Shawn Mendes | Demi Lovato | Travis Scott | Troye Sivan | Taylor Swift | Khalid | Kanye West | Justin Bieber | French Montana | Lil Tecca | G Eazy | Lil Nas X | Billie Eilish | Olivia Rodrigo | The Kid Laroi | Benny Blanco | Bazzi | Marshmello | Calvin Harris | DVLM | Avicci | Blackbear | Imagine Dragons | Internet Money | Tove Lo | 5SOS | Ellie Goulding | Duncan Laurence \n",
    "\n",
    "\n",
    "### Jeremy Zucker | Conan Gray | Kendrick Lamar | Tyga | Lana Del Rey | NF | One Republic | Coldplay | Bryan Adams | Childish Gambino | Metro Boomin | 6Black | A Boogie With Da Hoodie | Logic | KSI | Kodak Black | Chelsea Cutler | Bruno Mars | FUTURE | ----Tate McRae---- | Beyonce | Adele | Lady Gaga | Katy Perry | Alicia Keys | Rihanna | Mariah Carey | ---P!nk--- | Shakira | Miley Cyrus | Avril Lavigne | Tina Turner | Kelly Clarkson | Sia | Jennifer Lopez | Alesso | Alessia Cara\n",
    "\n",
    "### Lauv | Alec Benjamin | MNEK | Jax Jones | AC/DC | Beatles | Def Leppard | Dolly Parton | Charlie XCX | Galantis | Tai Verdes | Ruel | DNCE | Surfaces | Galantis | Tai Verdes | Ruel | DNCE | Surfaces | Pitbull | Enrique Igleasis | Ruth B . | David Guetta | Little Mix | Kygo |  AVB | Skrillex | Alan Walker | Akon | DJ Snake | Flo Rida | Hardwell | Afrojack | Nicki Romero | R3HAB | Zedd | Headhunterz | Alesso | --Ummet Ozcon-- | Oliver Heldens | Don Diablo | Tiesto | Becky Hill | DJ Khaled | J Balvin | T Pain | --W&W-- | Harry Styles | Gryffin | --Dylan Conrique-- | Travis Barker | Miley Cyrus | --Glass Animals-- | Maren Morris | Olivia O'Brien | Bryson Tiller | Lucky Daye | James Bay | --Normani-- | Anitta | Clean Bandit | Bad Bunny | Zayn Malik | James Young | Becky G | BTS | --lisa-- | --Why dont we-- | Swedish House Mafia | dhruv | Sam smith | Lukas Graham | Sabrina Carpenter | The Script | Anne Marie | Masked Wolf | Usher | Twenty One Pilots | Knife Party | Zomboy | --Kill the Noise-- | Swae Lee | Ludacris | "
   ]
  },
  {
   "cell_type": "code",
   "execution_count": 541,
   "id": "493fbccf",
   "metadata": {},
   "outputs": [
    {
     "data": {
      "text/plain": [
       "[{'external_urls': {'spotify': 'https://open.spotify.com/artist/1uNFoZAHBGtllmzznpCI3s'},\n",
       "  'href': 'https://api.spotify.com/v1/artists/1uNFoZAHBGtllmzznpCI3s',\n",
       "  'id': '1uNFoZAHBGtllmzznpCI3s',\n",
       "  'name': 'Justin Bieber',\n",
       "  'type': 'artist',\n",
       "  'uri': 'spotify:artist:1uNFoZAHBGtllmzznpCI3s'},\n",
       " {'external_urls': {'spotify': 'https://open.spotify.com/artist/3ipn9JLAPI5GUEo4y4jcoi'},\n",
       "  'href': 'https://api.spotify.com/v1/artists/3ipn9JLAPI5GUEo4y4jcoi',\n",
       "  'id': '3ipn9JLAPI5GUEo4y4jcoi',\n",
       "  'name': 'Ludacris',\n",
       "  'type': 'artist',\n",
       "  'uri': 'spotify:artist:3ipn9JLAPI5GUEo4y4jcoi'}]"
      ]
     },
     "execution_count": 541,
     "metadata": {},
     "output_type": "execute_result"
    }
   ],
   "source": [
    "name = \"Ludacris\"\n",
    "result = sp.search(name) \n",
    "result['tracks']['items'][0]['artists']"
   ]
  },
  {
   "cell_type": "code",
   "execution_count": 542,
   "id": "009e5ff3",
   "metadata": {},
   "outputs": [
    {
     "data": {
      "text/plain": [
       "['Ludaversal (Deluxe)',\n",
       " 'Ludaversal (Deluxe)',\n",
       " \"The Conjure Mixtape: A Hustler's Spirit\",\n",
       " 'Battle Of The Sexes (Deluxe)',\n",
       " 'Battle Of The Sexes (Deluxe)',\n",
       " 'Theater Of The Mind (Expanded Edition)',\n",
       " 'Theater Of The Mind (Expanded Edition)',\n",
       " 'Release Therapy',\n",
       " 'Release Therapy',\n",
       " 'Release Therapy',\n",
       " 'Ludacris Presents...Disturbing Tha Peace',\n",
       " 'Ludacris Presents...Disturbing Tha Peace',\n",
       " 'The Red Light District',\n",
       " 'The Red Light District',\n",
       " 'The Red Light District',\n",
       " 'Chicken - N - Beer',\n",
       " 'Chicken - N - Beer',\n",
       " 'Chicken - N - Beer',\n",
       " 'Word Of Mouf',\n",
       " 'Word Of Mouf']"
      ]
     },
     "execution_count": 542,
     "metadata": {},
     "output_type": "execute_result"
    }
   ],
   "source": [
    "#Extract Artist's uri\n",
    "artists_uris = result['tracks']['items'][0]['artists'][1]['uri']\n",
    "\n",
    "#Pull all of the artist's albums\n",
    "artist_albums = sp.artist_albums(artists_uris, album_type='album')\n",
    "\n",
    "#Store artist's albums' names' and uris in separate lists\n",
    "artist_album_names = []\n",
    "artist_album_uris = []\n",
    "for i in range(len(artist_albums['items'])):\n",
    "    artist_album_names.append(artist_albums['items'][i]['name'])\n",
    "    artist_album_uris.append(artist_albums['items'][i]['uri'])\n",
    "    \n",
    "artist_album_names\n",
    "#Keep names and uris in same order to keep track of duplicate albums"
   ]
  },
  {
   "cell_type": "code",
   "execution_count": 543,
   "id": "5f25b6c8",
   "metadata": {},
   "outputs": [
    {
     "name": "stdout",
     "output_type": "stream",
     "text": [
      "Ludaversal (Deluxe) album songs has been added to spotify_albums dictionary\n",
      "Ludaversal (Deluxe) album songs has been added to spotify_albums dictionary\n",
      "The Conjure Mixtape: A Hustler's Spirit album songs has been added to spotify_albums dictionary\n",
      "Battle Of The Sexes (Deluxe) album songs has been added to spotify_albums dictionary\n",
      "Battle Of The Sexes (Deluxe) album songs has been added to spotify_albums dictionary\n",
      "Theater Of The Mind (Expanded Edition) album songs has been added to spotify_albums dictionary\n",
      "Theater Of The Mind (Expanded Edition) album songs has been added to spotify_albums dictionary\n",
      "Release Therapy album songs has been added to spotify_albums dictionary\n",
      "Release Therapy album songs has been added to spotify_albums dictionary\n",
      "Release Therapy album songs has been added to spotify_albums dictionary\n",
      "Ludacris Presents...Disturbing Tha Peace album songs has been added to spotify_albums dictionary\n",
      "Ludacris Presents...Disturbing Tha Peace album songs has been added to spotify_albums dictionary\n",
      "The Red Light District album songs has been added to spotify_albums dictionary\n",
      "The Red Light District album songs has been added to spotify_albums dictionary\n",
      "The Red Light District album songs has been added to spotify_albums dictionary\n",
      "Chicken - N - Beer album songs has been added to spotify_albums dictionary\n",
      "Chicken - N - Beer album songs has been added to spotify_albums dictionary\n",
      "Chicken - N - Beer album songs has been added to spotify_albums dictionary\n",
      "Word Of Mouf album songs has been added to spotify_albums dictionary\n",
      "Word Of Mouf album songs has been added to spotify_albums dictionary\n"
     ]
    }
   ],
   "source": [
    "def album_songs(uri):\n",
    "    album = uri \n",
    "    spotify_albums[album] = {}\n",
    "    #Create keys-values of empty lists inside nested dictionary for album\n",
    "    spotify_albums[album]['album'] = [] \n",
    "    spotify_albums[album]['track_number'] = []\n",
    "    spotify_albums[album]['id'] = []\n",
    "    spotify_albums[album]['name'] = []\n",
    "    spotify_albums[album]['uri'] = []\n",
    "    #pull data on album tracks\n",
    "    tracks = sp.album_tracks(album) \n",
    "    for n in range(len(tracks['items'])): \n",
    "        spotify_albums[album]['album'].append(artist_album_names[album_count]) \n",
    "        spotify_albums[album]['track_number'].append(tracks['items'][n]['track_number'])\n",
    "        spotify_albums[album]['id'].append(tracks['items'][n]['id'])\n",
    "        spotify_albums[album]['name'].append(tracks['items'][n]['name'])\n",
    "        spotify_albums[album]['uri'].append(tracks['items'][n]['uri'])\n",
    "\n",
    "spotify_albums = {}\n",
    "album_count = 0\n",
    "for i in artist_album_uris: #each album\n",
    "    album_songs(i)\n",
    "    print(str(artist_album_names[album_count]) + \" album songs has been added to spotify_albums dictionary\")\n",
    "    album_count+=1 #Updates album count once all tracks have been added"
   ]
  },
  {
   "cell_type": "code",
   "execution_count": 544,
   "id": "1c0d3af9",
   "metadata": {},
   "outputs": [
    {
     "name": "stdout",
     "output_type": "stream",
     "text": [
      "5 playlists completed\n",
      "Loop #: 5\n",
      "Elapsed Time: 27.695420503616333 seconds\n",
      "10 playlists completed\n",
      "Loop #: 10\n",
      "Elapsed Time: 52.71953058242798 seconds\n",
      "15 playlists completed\n",
      "Loop #: 15\n",
      "Elapsed Time: 79.66056203842163 seconds\n",
      "20 playlists completed\n",
      "Loop #: 20\n",
      "Elapsed Time: 108.07808446884155 seconds\n"
     ]
    }
   ],
   "source": [
    "def audio_features(album):\n",
    "    #Add new key-values to store audio features\n",
    "    spotify_albums[album]['acousticness'] = []\n",
    "    spotify_albums[album]['danceability'] = []\n",
    "    spotify_albums[album]['energy'] = []\n",
    "    spotify_albums[album]['instrumentalness'] = []\n",
    "    spotify_albums[album]['liveness'] = []\n",
    "    spotify_albums[album]['loudness'] = []\n",
    "    spotify_albums[album]['speechiness'] = []\n",
    "    spotify_albums[album]['tempo'] = []\n",
    "    spotify_albums[album]['valence'] = []\n",
    "    spotify_albums[album]['popularity'] = []\n",
    "    \n",
    "    track_count = 0\n",
    "    for track in spotify_albums[album]['uri']:\n",
    "        #pull audio features per track\n",
    "        features = sp.audio_features(track)\n",
    "        \n",
    "        #Append to relevant key-value\n",
    "        spotify_albums[album]['acousticness'].append(features[0]['acousticness'])\n",
    "        spotify_albums[album]['danceability'].append(features[0]['danceability'])\n",
    "        spotify_albums[album]['energy'].append(features[0]['energy'])\n",
    "        spotify_albums[album]['instrumentalness'].append(features[0]['instrumentalness'])\n",
    "        spotify_albums[album]['liveness'].append(features[0]['liveness'])\n",
    "        spotify_albums[album]['loudness'].append(features[0]['loudness'])\n",
    "        spotify_albums[album]['speechiness'].append(features[0]['speechiness'])\n",
    "        spotify_albums[album]['tempo'].append(features[0]['tempo'])\n",
    "        spotify_albums[album]['valence'].append(features[0]['valence'])\n",
    "        #popularity is stored elsewhere\n",
    "        pop = sp.track(track)\n",
    "        spotify_albums[album]['popularity'].append(pop['popularity'])\n",
    "        track_count+=1\n",
    "\n",
    "import time\n",
    "import numpy as np\n",
    "sleep_min = 2\n",
    "sleep_max = 5\n",
    "start_time = time.time()\n",
    "request_count = 0\n",
    "for i in spotify_albums:\n",
    "    audio_features(i)\n",
    "    request_count+=1\n",
    "    if request_count % 5 == 0:\n",
    "        print(str(request_count) + \" playlists completed\")\n",
    "        time.sleep(np.random.uniform(sleep_min, sleep_max))\n",
    "        print('Loop #: {}'.format(request_count))\n",
    "        print('Elapsed Time: {} seconds'.format(time.time() - start_time))"
   ]
  },
  {
   "cell_type": "code",
   "execution_count": 545,
   "id": "5bc5925b",
   "metadata": {},
   "outputs": [
    {
     "data": {
      "text/plain": [
       "329"
      ]
     },
     "execution_count": 545,
     "metadata": {},
     "output_type": "execute_result"
    }
   ],
   "source": [
    "dic_df = {}\n",
    "dic_df['album'] = []\n",
    "dic_df['track_number'] = []\n",
    "dic_df['id'] = []\n",
    "dic_df['name'] = []\n",
    "dic_df['uri'] = []\n",
    "dic_df['acousticness'] = []\n",
    "dic_df['danceability'] = []\n",
    "dic_df['energy'] = []\n",
    "dic_df['instrumentalness'] = []\n",
    "dic_df['liveness'] = []\n",
    "dic_df['loudness'] = []\n",
    "dic_df['speechiness'] = []\n",
    "dic_df['tempo'] = []\n",
    "dic_df['valence'] = []\n",
    "dic_df['popularity'] = []\n",
    "for album in spotify_albums: \n",
    "    for feature in spotify_albums[album]:\n",
    "        dic_df[feature].extend(spotify_albums[album][feature])\n",
    "        \n",
    "len(dic_df['album'])"
   ]
  },
  {
   "cell_type": "code",
   "execution_count": 546,
   "id": "94dad95f",
   "metadata": {},
   "outputs": [
    {
     "data": {
      "text/html": [
       "<div>\n",
       "<style scoped>\n",
       "    .dataframe tbody tr th:only-of-type {\n",
       "        vertical-align: middle;\n",
       "    }\n",
       "\n",
       "    .dataframe tbody tr th {\n",
       "        vertical-align: top;\n",
       "    }\n",
       "\n",
       "    .dataframe thead th {\n",
       "        text-align: right;\n",
       "    }\n",
       "</style>\n",
       "<table border=\"1\" class=\"dataframe\">\n",
       "  <thead>\n",
       "    <tr style=\"text-align: right;\">\n",
       "      <th></th>\n",
       "      <th>album</th>\n",
       "      <th>track_number</th>\n",
       "      <th>id</th>\n",
       "      <th>name</th>\n",
       "      <th>uri</th>\n",
       "      <th>acousticness</th>\n",
       "      <th>danceability</th>\n",
       "      <th>energy</th>\n",
       "      <th>instrumentalness</th>\n",
       "      <th>liveness</th>\n",
       "      <th>loudness</th>\n",
       "      <th>speechiness</th>\n",
       "      <th>tempo</th>\n",
       "      <th>valence</th>\n",
       "      <th>popularity</th>\n",
       "    </tr>\n",
       "  </thead>\n",
       "  <tbody>\n",
       "    <tr>\n",
       "      <th>0</th>\n",
       "      <td>Ludaversal (Deluxe)</td>\n",
       "      <td>1</td>\n",
       "      <td>77zeaNi0MfXEga1W3Sozbt</td>\n",
       "      <td>Ludaversal Intro</td>\n",
       "      <td>spotify:track:77zeaNi0MfXEga1W3Sozbt</td>\n",
       "      <td>0.05960</td>\n",
       "      <td>0.768</td>\n",
       "      <td>0.823</td>\n",
       "      <td>0.0</td>\n",
       "      <td>0.339</td>\n",
       "      <td>-6.333</td>\n",
       "      <td>0.0978</td>\n",
       "      <td>135.967</td>\n",
       "      <td>0.406</td>\n",
       "      <td>37</td>\n",
       "    </tr>\n",
       "    <tr>\n",
       "      <th>1</th>\n",
       "      <td>Ludaversal (Deluxe)</td>\n",
       "      <td>2</td>\n",
       "      <td>2cyrYMg4rxY8WNct3lVBm8</td>\n",
       "      <td>Grass Is Always Greener</td>\n",
       "      <td>spotify:track:2cyrYMg4rxY8WNct3lVBm8</td>\n",
       "      <td>0.08470</td>\n",
       "      <td>0.662</td>\n",
       "      <td>0.805</td>\n",
       "      <td>0.0</td>\n",
       "      <td>0.387</td>\n",
       "      <td>-7.043</td>\n",
       "      <td>0.3260</td>\n",
       "      <td>94.929</td>\n",
       "      <td>0.614</td>\n",
       "      <td>40</td>\n",
       "    </tr>\n",
       "    <tr>\n",
       "      <th>2</th>\n",
       "      <td>Ludaversal (Deluxe)</td>\n",
       "      <td>3</td>\n",
       "      <td>1SzUjM4OtrcNMeDnL0aYDw</td>\n",
       "      <td>Call Ya Bluff</td>\n",
       "      <td>spotify:track:1SzUjM4OtrcNMeDnL0aYDw</td>\n",
       "      <td>0.02250</td>\n",
       "      <td>0.847</td>\n",
       "      <td>0.616</td>\n",
       "      <td>0.0</td>\n",
       "      <td>0.449</td>\n",
       "      <td>-8.138</td>\n",
       "      <td>0.2510</td>\n",
       "      <td>121.992</td>\n",
       "      <td>0.718</td>\n",
       "      <td>45</td>\n",
       "    </tr>\n",
       "    <tr>\n",
       "      <th>3</th>\n",
       "      <td>Ludaversal (Deluxe)</td>\n",
       "      <td>4</td>\n",
       "      <td>6QkRTkarDVgHf2WGGcmU5g</td>\n",
       "      <td>Lyrical Healing</td>\n",
       "      <td>spotify:track:6QkRTkarDVgHf2WGGcmU5g</td>\n",
       "      <td>0.12500</td>\n",
       "      <td>0.516</td>\n",
       "      <td>0.654</td>\n",
       "      <td>0.0</td>\n",
       "      <td>0.196</td>\n",
       "      <td>-9.746</td>\n",
       "      <td>0.3640</td>\n",
       "      <td>83.193</td>\n",
       "      <td>0.715</td>\n",
       "      <td>31</td>\n",
       "    </tr>\n",
       "    <tr>\n",
       "      <th>4</th>\n",
       "      <td>Ludaversal (Deluxe)</td>\n",
       "      <td>5</td>\n",
       "      <td>1bMk013HdX3XLG2RNdkswq</td>\n",
       "      <td>Beast Mode</td>\n",
       "      <td>spotify:track:1bMk013HdX3XLG2RNdkswq</td>\n",
       "      <td>0.00104</td>\n",
       "      <td>0.487</td>\n",
       "      <td>0.808</td>\n",
       "      <td>0.0</td>\n",
       "      <td>0.395</td>\n",
       "      <td>-6.559</td>\n",
       "      <td>0.3210</td>\n",
       "      <td>150.555</td>\n",
       "      <td>0.512</td>\n",
       "      <td>39</td>\n",
       "    </tr>\n",
       "  </tbody>\n",
       "</table>\n",
       "</div>"
      ],
      "text/plain": [
       "                 album  track_number                      id  \\\n",
       "0  Ludaversal (Deluxe)             1  77zeaNi0MfXEga1W3Sozbt   \n",
       "1  Ludaversal (Deluxe)             2  2cyrYMg4rxY8WNct3lVBm8   \n",
       "2  Ludaversal (Deluxe)             3  1SzUjM4OtrcNMeDnL0aYDw   \n",
       "3  Ludaversal (Deluxe)             4  6QkRTkarDVgHf2WGGcmU5g   \n",
       "4  Ludaversal (Deluxe)             5  1bMk013HdX3XLG2RNdkswq   \n",
       "\n",
       "                      name                                   uri  \\\n",
       "0         Ludaversal Intro  spotify:track:77zeaNi0MfXEga1W3Sozbt   \n",
       "1  Grass Is Always Greener  spotify:track:2cyrYMg4rxY8WNct3lVBm8   \n",
       "2            Call Ya Bluff  spotify:track:1SzUjM4OtrcNMeDnL0aYDw   \n",
       "3          Lyrical Healing  spotify:track:6QkRTkarDVgHf2WGGcmU5g   \n",
       "4               Beast Mode  spotify:track:1bMk013HdX3XLG2RNdkswq   \n",
       "\n",
       "   acousticness  danceability  energy  instrumentalness  liveness  loudness  \\\n",
       "0       0.05960         0.768   0.823               0.0     0.339    -6.333   \n",
       "1       0.08470         0.662   0.805               0.0     0.387    -7.043   \n",
       "2       0.02250         0.847   0.616               0.0     0.449    -8.138   \n",
       "3       0.12500         0.516   0.654               0.0     0.196    -9.746   \n",
       "4       0.00104         0.487   0.808               0.0     0.395    -6.559   \n",
       "\n",
       "   speechiness    tempo  valence  popularity  \n",
       "0       0.0978  135.967    0.406          37  \n",
       "1       0.3260   94.929    0.614          40  \n",
       "2       0.2510  121.992    0.718          45  \n",
       "3       0.3640   83.193    0.715          31  \n",
       "4       0.3210  150.555    0.512          39  "
      ]
     },
     "execution_count": 546,
     "metadata": {},
     "output_type": "execute_result"
    }
   ],
   "source": [
    "import pandas as pd\n",
    "df = pd.DataFrame.from_dict(dic_df)\n",
    "df[0:5]"
   ]
  },
  {
   "cell_type": "code",
   "execution_count": 547,
   "id": "4aa75bb4",
   "metadata": {},
   "outputs": [
    {
     "name": "stdout",
     "output_type": "stream",
     "text": [
      "329\n",
      "216\n"
     ]
    }
   ],
   "source": [
    "print(len(df))\n",
    "final_df = df.sort_values('popularity', ascending=False).drop_duplicates('name').sort_index()\n",
    "print(len(final_df))"
   ]
  },
  {
   "cell_type": "code",
   "execution_count": 548,
   "id": "b48541cd",
   "metadata": {},
   "outputs": [],
   "source": [
    "final_df.to_csv(\"ludacris.csv\")"
   ]
  },
  {
   "cell_type": "code",
   "execution_count": null,
   "id": "edc980a9",
   "metadata": {},
   "outputs": [],
   "source": []
  }
 ],
 "metadata": {
  "kernelspec": {
   "display_name": "Python 3 (ipykernel)",
   "language": "python",
   "name": "python3"
  },
  "language_info": {
   "codemirror_mode": {
    "name": "ipython",
    "version": 3
   },
   "file_extension": ".py",
   "mimetype": "text/x-python",
   "name": "python",
   "nbconvert_exporter": "python",
   "pygments_lexer": "ipython3",
   "version": "3.9.7"
  }
 },
 "nbformat": 4,
 "nbformat_minor": 5
}
