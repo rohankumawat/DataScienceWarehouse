{
 "cells": [
  {
   "cell_type": "markdown",
   "id": "ae7af2ca",
   "metadata": {},
   "source": [
    "https://github.com/rafaelnduarte/Spotify_K-Means_Clustering/blob/master/Retrieving_Data_from_Spotify.ipynb"
   ]
  },
  {
   "cell_type": "code",
   "execution_count": 1,
   "id": "3f86147f",
   "metadata": {},
   "outputs": [],
   "source": [
    "import spotipy \n",
    "sp = spotipy.Spotify() \n",
    "from spotipy.oauth2 import SpotifyClientCredentials \n",
    "import spotipy.util as util\n",
    "import sys"
   ]
  },
  {
   "cell_type": "code",
   "execution_count": 51,
   "id": "754dd784",
   "metadata": {},
   "outputs": [],
   "source": [
    "username = 'ray1d5u3xeb2e8c1nkpnwsnig'\n",
    "client_id = 'bbf8d106196049c7831e658b73eb7a72'\n",
    "client_secret = 'a249efe0cd3c411fa6182dfa2f4ce048'\n",
    "redirect_uri = 'http://localhost:7777/callback'\n",
    "scope = 'user-read-recently-played'\n",
    "\n",
    "# client_credentials_manager = SpotifyClientCredentials(client_id=client_id, client_secret=client_secret)\n",
    "# sp = spotipy.Spotify(client_credentials_manager=client_credentials_manager)\n",
    "\n",
    "token = util.prompt_for_user_token(username,scope,client_id=client_id,client_secret=client_secret,redirect_uri=redirect_uri)\n",
    "client_credentials_manager = SpotifyClientCredentials(client_id=client_id, client_secret=client_secret)\n",
    "sp = spotipy.Spotify(client_credentials_manager=client_credentials_manager)"
   ]
  },
  {
   "cell_type": "code",
   "execution_count": 52,
   "id": "5e29a0de",
   "metadata": {},
   "outputs": [
    {
     "name": "stdout",
     "output_type": "stream",
     "text": [
      "{'access_token': 'BQCt99CWsoJ343_F4zsAx37pVKdUmMcMlljZ-LmPC48GhEB264zWJVRAsNMgwR7rch_5XFQoFdDWiTb8ces', 'token_type': 'Bearer', 'expires_in': 3600, 'expires_at': 1648428351}\n",
      "<spotipy.client.Spotify object at 0x0000024F25D52AF0>\n"
     ]
    },
    {
     "name": "stderr",
     "output_type": "stream",
     "text": [
      "C:\\Users\\DAZZ\\AppData\\Local\\Temp/ipykernel_7064/2508113278.py:6: DeprecationWarning: You're using 'as_dict = True'.get_access_token will return the token string directly in future versions. Please adjust your code accordingly, or use get_cached_token instead.\n",
      "  token = auth.get_access_token()\n"
     ]
    }
   ],
   "source": [
    "auth = SpotifyClientCredentials(\n",
    "    client_id=client_id,\n",
    "    client_secret=client_secret\n",
    ")\n",
    "\n",
    "token = auth.get_access_token()\n",
    "spotify = spotipy.Spotify(auth=token)\n",
    "print(token)\n",
    "print(spotify)"
   ]
  },
  {
   "cell_type": "code",
   "execution_count": 45,
   "id": "75d41398",
   "metadata": {},
   "outputs": [],
   "source": [
    "token = token['access_token']"
   ]
  },
  {
   "cell_type": "code",
   "execution_count": 54,
   "id": "e8a8af19",
   "metadata": {},
   "outputs": [],
   "source": [
    "# create empty lists where the results are going to be stored\n",
    "artist_name = []\n",
    "track_name = []\n",
    "popularity = []\n",
    "track_id = []\n",
    "\n",
    "for i in range(0,1000,50):\n",
    "    track_results = sp.search(q='year:2021', type='track', limit=50,offset=i)\n",
    "    for i, t in enumerate(track_results['tracks']['items']):\n",
    "        artist_name.append(t['artists'][0]['name'])\n",
    "        track_name.append(t['name'])\n",
    "        track_id.append(t['id'])\n",
    "        popularity.append(t['popularity'])"
   ]
  },
  {
   "cell_type": "code",
   "execution_count": 55,
   "id": "bdd7bdd7",
   "metadata": {},
   "outputs": [
    {
     "name": "stdout",
     "output_type": "stream",
     "text": [
      "number of elements in the track_id list: 1000\n"
     ]
    }
   ],
   "source": [
    "print('number of elements in the track_id list:', len(track_id))"
   ]
  },
  {
   "cell_type": "code",
   "execution_count": 56,
   "id": "9ddd777b",
   "metadata": {},
   "outputs": [
    {
     "name": "stdout",
     "output_type": "stream",
     "text": [
      "(1000, 4)\n"
     ]
    },
    {
     "data": {
      "text/html": [
       "<div>\n",
       "<style scoped>\n",
       "    .dataframe tbody tr th:only-of-type {\n",
       "        vertical-align: middle;\n",
       "    }\n",
       "\n",
       "    .dataframe tbody tr th {\n",
       "        vertical-align: top;\n",
       "    }\n",
       "\n",
       "    .dataframe thead th {\n",
       "        text-align: right;\n",
       "    }\n",
       "</style>\n",
       "<table border=\"1\" class=\"dataframe\">\n",
       "  <thead>\n",
       "    <tr style=\"text-align: right;\">\n",
       "      <th></th>\n",
       "      <th>artist_name</th>\n",
       "      <th>track_name</th>\n",
       "      <th>track_id</th>\n",
       "      <th>popularity</th>\n",
       "    </tr>\n",
       "  </thead>\n",
       "  <tbody>\n",
       "    <tr>\n",
       "      <th>0</th>\n",
       "      <td>Carolina Gaitán - La Gaita</td>\n",
       "      <td>We Don't Talk About Bruno</td>\n",
       "      <td>52xJxFP6TqMuO4Yt0eOkMz</td>\n",
       "      <td>95</td>\n",
       "    </tr>\n",
       "    <tr>\n",
       "      <th>1</th>\n",
       "      <td>LYMEY</td>\n",
       "      <td>END OF YEAR 2021</td>\n",
       "      <td>6usFCFN0F69JcAaHtB55sg</td>\n",
       "      <td>28</td>\n",
       "    </tr>\n",
       "    <tr>\n",
       "      <th>2</th>\n",
       "      <td>Coldplay</td>\n",
       "      <td>My Universe</td>\n",
       "      <td>3FeVmId7tL5YN8B7R3imoM</td>\n",
       "      <td>92</td>\n",
       "    </tr>\n",
       "    <tr>\n",
       "      <th>3</th>\n",
       "      <td>Elvis Costello &amp; The Attractions</td>\n",
       "      <td>Pump It Up - 2021 Remaster</td>\n",
       "      <td>3oyc1mIdCBGaU55wX7otqM</td>\n",
       "      <td>67</td>\n",
       "    </tr>\n",
       "    <tr>\n",
       "      <th>4</th>\n",
       "      <td>Kodak Black</td>\n",
       "      <td>Super Gremlin</td>\n",
       "      <td>4A8cWXxKfIL3lAyUDzXbCF</td>\n",
       "      <td>91</td>\n",
       "    </tr>\n",
       "  </tbody>\n",
       "</table>\n",
       "</div>"
      ],
      "text/plain": [
       "                        artist_name                  track_name  \\\n",
       "0        Carolina Gaitán - La Gaita   We Don't Talk About Bruno   \n",
       "1                             LYMEY            END OF YEAR 2021   \n",
       "2                          Coldplay                 My Universe   \n",
       "3  Elvis Costello & The Attractions  Pump It Up - 2021 Remaster   \n",
       "4                       Kodak Black               Super Gremlin   \n",
       "\n",
       "                 track_id  popularity  \n",
       "0  52xJxFP6TqMuO4Yt0eOkMz          95  \n",
       "1  6usFCFN0F69JcAaHtB55sg          28  \n",
       "2  3FeVmId7tL5YN8B7R3imoM          92  \n",
       "3  3oyc1mIdCBGaU55wX7otqM          67  \n",
       "4  4A8cWXxKfIL3lAyUDzXbCF          91  "
      ]
     },
     "execution_count": 56,
     "metadata": {},
     "output_type": "execute_result"
    }
   ],
   "source": [
    "# putting the data in a dataframe\n",
    "import pandas as pd\n",
    "\n",
    "df_tracks = pd.DataFrame({'artist_name':artist_name,'track_name':track_name,'track_id':track_id,'popularity':popularity})\n",
    "print(df_tracks.shape)\n",
    "df_tracks.head()"
   ]
  },
  {
   "cell_type": "code",
   "execution_count": 57,
   "id": "89e54d5d",
   "metadata": {},
   "outputs": [
    {
     "name": "stdout",
     "output_type": "stream",
     "text": [
      "<class 'pandas.core.frame.DataFrame'>\n",
      "RangeIndex: 1000 entries, 0 to 999\n",
      "Data columns (total 4 columns):\n",
      " #   Column       Non-Null Count  Dtype \n",
      "---  ------       --------------  ----- \n",
      " 0   artist_name  1000 non-null   object\n",
      " 1   track_name   1000 non-null   object\n",
      " 2   track_id     1000 non-null   object\n",
      " 3   popularity   1000 non-null   int64 \n",
      "dtypes: int64(1), object(3)\n",
      "memory usage: 31.4+ KB\n"
     ]
    }
   ],
   "source": [
    "# info on the dataset\n",
    "df_tracks.info()"
   ]
  },
  {
   "cell_type": "code",
   "execution_count": 58,
   "id": "933afb37",
   "metadata": {},
   "outputs": [
    {
     "data": {
      "text/plain": [
       "36"
      ]
     },
     "execution_count": 58,
     "metadata": {},
     "output_type": "execute_result"
    }
   ],
   "source": [
    "# group the entries by artist_name and track_name and check for duplicates\n",
    "\n",
    "grouped = df_tracks.groupby(['artist_name','track_name'], as_index=True).size()\n",
    "grouped[grouped > 1].count()"
   ]
  },
  {
   "cell_type": "code",
   "execution_count": 59,
   "id": "a9b7f664",
   "metadata": {},
   "outputs": [],
   "source": [
    "# dropping duplicates\n",
    "df_tracks.drop_duplicates(subset=['artist_name','track_name'], inplace=True)"
   ]
  },
  {
   "cell_type": "code",
   "execution_count": 60,
   "id": "5d0a1229",
   "metadata": {},
   "outputs": [
    {
     "data": {
      "text/plain": [
       "0"
      ]
     },
     "execution_count": 60,
     "metadata": {},
     "output_type": "execute_result"
    }
   ],
   "source": [
    "# doing the same grouping as before to verify the solution\n",
    "grouped_after_dropping = df_tracks.groupby(['artist_name','track_name'], as_index=True).size()\n",
    "grouped_after_dropping[grouped_after_dropping > 1].count()"
   ]
  },
  {
   "cell_type": "code",
   "execution_count": 61,
   "id": "29847e1c",
   "metadata": {},
   "outputs": [
    {
     "data": {
      "text/plain": [
       "artist_name    0\n",
       "track_name     0\n",
       "track_id       0\n",
       "popularity     0\n",
       "dtype: int64"
      ]
     },
     "execution_count": 61,
     "metadata": {},
     "output_type": "execute_result"
    }
   ],
   "source": [
    "# dropping duplicates\n",
    "df_tracks[df_tracks.duplicated(subset=['artist_name','track_name'],keep=False)].count()"
   ]
  },
  {
   "cell_type": "code",
   "execution_count": 62,
   "id": "74bf1756",
   "metadata": {},
   "outputs": [
    {
     "data": {
      "text/plain": [
       "(964, 4)"
      ]
     },
     "execution_count": 62,
     "metadata": {},
     "output_type": "execute_result"
    }
   ],
   "source": [
    "# checking the shape of the dataframe\n",
    "df_tracks.shape"
   ]
  },
  {
   "cell_type": "code",
   "execution_count": 63,
   "id": "207bd363",
   "metadata": {},
   "outputs": [
    {
     "name": "stdout",
     "output_type": "stream",
     "text": [
      "Number of tracks where no audio features were available: 0\n",
      "Time to run this code (in seconds): 2.4899481000002197\n"
     ]
    }
   ],
   "source": [
    "# timeit library to measure the time needed to run this code\n",
    "import timeit\n",
    "# again measuring the time\n",
    "start = timeit.default_timer()\n",
    "\n",
    "# empty list, batchsize and the counter for None results\n",
    "rows = []\n",
    "batchsize = 100\n",
    "None_counter = 0\n",
    "\n",
    "for i in range(0,len(df_tracks['track_id']),batchsize):\n",
    "    batch = df_tracks['track_id'][i:i+batchsize]\n",
    "    feature_results = sp.audio_features(batch)\n",
    "    for i, t in enumerate(feature_results):\n",
    "        if t == None:\n",
    "            None_counter = None_counter + 1\n",
    "        else:\n",
    "            rows.append(t)\n",
    "            \n",
    "print('Number of tracks where no audio features were available:',None_counter)\n",
    "\n",
    "stop = timeit.default_timer()\n",
    "print ('Time to run this code (in seconds):',stop - start)"
   ]
  },
  {
   "cell_type": "code",
   "execution_count": 64,
   "id": "7d4da627",
   "metadata": {},
   "outputs": [
    {
     "name": "stdout",
     "output_type": "stream",
     "text": [
      "number of elements in the track_id list: 964\n"
     ]
    }
   ],
   "source": [
    "# checking the results\n",
    "print('number of elements in the track_id list:', len(rows))"
   ]
  },
  {
   "cell_type": "code",
   "execution_count": 65,
   "id": "edeb898e",
   "metadata": {},
   "outputs": [
    {
     "name": "stdout",
     "output_type": "stream",
     "text": [
      "Shape of the dataset: (964, 18)\n"
     ]
    },
    {
     "data": {
      "text/html": [
       "<div>\n",
       "<style scoped>\n",
       "    .dataframe tbody tr th:only-of-type {\n",
       "        vertical-align: middle;\n",
       "    }\n",
       "\n",
       "    .dataframe tbody tr th {\n",
       "        vertical-align: top;\n",
       "    }\n",
       "\n",
       "    .dataframe thead th {\n",
       "        text-align: right;\n",
       "    }\n",
       "</style>\n",
       "<table border=\"1\" class=\"dataframe\">\n",
       "  <thead>\n",
       "    <tr style=\"text-align: right;\">\n",
       "      <th></th>\n",
       "      <th>danceability</th>\n",
       "      <th>energy</th>\n",
       "      <th>key</th>\n",
       "      <th>loudness</th>\n",
       "      <th>mode</th>\n",
       "      <th>speechiness</th>\n",
       "      <th>acousticness</th>\n",
       "      <th>instrumentalness</th>\n",
       "      <th>liveness</th>\n",
       "      <th>valence</th>\n",
       "      <th>tempo</th>\n",
       "      <th>type</th>\n",
       "      <th>id</th>\n",
       "      <th>uri</th>\n",
       "      <th>track_href</th>\n",
       "      <th>analysis_url</th>\n",
       "      <th>duration_ms</th>\n",
       "      <th>time_signature</th>\n",
       "    </tr>\n",
       "  </thead>\n",
       "  <tbody>\n",
       "    <tr>\n",
       "      <th>0</th>\n",
       "      <td>0.577</td>\n",
       "      <td>0.450</td>\n",
       "      <td>0</td>\n",
       "      <td>-8.516</td>\n",
       "      <td>0</td>\n",
       "      <td>0.0834</td>\n",
       "      <td>0.35700</td>\n",
       "      <td>0.000000</td>\n",
       "      <td>0.111</td>\n",
       "      <td>0.830</td>\n",
       "      <td>205.863</td>\n",
       "      <td>audio_features</td>\n",
       "      <td>52xJxFP6TqMuO4Yt0eOkMz</td>\n",
       "      <td>spotify:track:52xJxFP6TqMuO4Yt0eOkMz</td>\n",
       "      <td>https://api.spotify.com/v1/tracks/52xJxFP6TqMu...</td>\n",
       "      <td>https://api.spotify.com/v1/audio-analysis/52xJ...</td>\n",
       "      <td>216120</td>\n",
       "      <td>4</td>\n",
       "    </tr>\n",
       "    <tr>\n",
       "      <th>1</th>\n",
       "      <td>0.429</td>\n",
       "      <td>0.829</td>\n",
       "      <td>6</td>\n",
       "      <td>-5.071</td>\n",
       "      <td>0</td>\n",
       "      <td>0.0604</td>\n",
       "      <td>0.02380</td>\n",
       "      <td>0.000174</td>\n",
       "      <td>0.673</td>\n",
       "      <td>0.278</td>\n",
       "      <td>127.083</td>\n",
       "      <td>audio_features</td>\n",
       "      <td>6usFCFN0F69JcAaHtB55sg</td>\n",
       "      <td>spotify:track:6usFCFN0F69JcAaHtB55sg</td>\n",
       "      <td>https://api.spotify.com/v1/tracks/6usFCFN0F69J...</td>\n",
       "      <td>https://api.spotify.com/v1/audio-analysis/6usF...</td>\n",
       "      <td>1472769</td>\n",
       "      <td>4</td>\n",
       "    </tr>\n",
       "    <tr>\n",
       "      <th>2</th>\n",
       "      <td>0.588</td>\n",
       "      <td>0.701</td>\n",
       "      <td>9</td>\n",
       "      <td>-6.390</td>\n",
       "      <td>1</td>\n",
       "      <td>0.0402</td>\n",
       "      <td>0.00813</td>\n",
       "      <td>0.000000</td>\n",
       "      <td>0.200</td>\n",
       "      <td>0.443</td>\n",
       "      <td>104.988</td>\n",
       "      <td>audio_features</td>\n",
       "      <td>3FeVmId7tL5YN8B7R3imoM</td>\n",
       "      <td>spotify:track:3FeVmId7tL5YN8B7R3imoM</td>\n",
       "      <td>https://api.spotify.com/v1/tracks/3FeVmId7tL5Y...</td>\n",
       "      <td>https://api.spotify.com/v1/audio-analysis/3FeV...</td>\n",
       "      <td>228000</td>\n",
       "      <td>4</td>\n",
       "    </tr>\n",
       "    <tr>\n",
       "      <th>3</th>\n",
       "      <td>0.645</td>\n",
       "      <td>0.809</td>\n",
       "      <td>11</td>\n",
       "      <td>-6.120</td>\n",
       "      <td>1</td>\n",
       "      <td>0.0385</td>\n",
       "      <td>0.00921</td>\n",
       "      <td>0.001080</td>\n",
       "      <td>0.106</td>\n",
       "      <td>0.966</td>\n",
       "      <td>138.978</td>\n",
       "      <td>audio_features</td>\n",
       "      <td>3oyc1mIdCBGaU55wX7otqM</td>\n",
       "      <td>spotify:track:3oyc1mIdCBGaU55wX7otqM</td>\n",
       "      <td>https://api.spotify.com/v1/tracks/3oyc1mIdCBGa...</td>\n",
       "      <td>https://api.spotify.com/v1/audio-analysis/3oyc...</td>\n",
       "      <td>196680</td>\n",
       "      <td>4</td>\n",
       "    </tr>\n",
       "    <tr>\n",
       "      <th>4</th>\n",
       "      <td>0.825</td>\n",
       "      <td>0.414</td>\n",
       "      <td>2</td>\n",
       "      <td>-6.634</td>\n",
       "      <td>1</td>\n",
       "      <td>0.1440</td>\n",
       "      <td>0.00265</td>\n",
       "      <td>0.000000</td>\n",
       "      <td>0.357</td>\n",
       "      <td>0.106</td>\n",
       "      <td>72.993</td>\n",
       "      <td>audio_features</td>\n",
       "      <td>4A8cWXxKfIL3lAyUDzXbCF</td>\n",
       "      <td>spotify:track:4A8cWXxKfIL3lAyUDzXbCF</td>\n",
       "      <td>https://api.spotify.com/v1/tracks/4A8cWXxKfIL3...</td>\n",
       "      <td>https://api.spotify.com/v1/audio-analysis/4A8c...</td>\n",
       "      <td>200548</td>\n",
       "      <td>4</td>\n",
       "    </tr>\n",
       "  </tbody>\n",
       "</table>\n",
       "</div>"
      ],
      "text/plain": [
       "   danceability  energy  key  loudness  mode  speechiness  acousticness  \\\n",
       "0         0.577   0.450    0    -8.516     0       0.0834       0.35700   \n",
       "1         0.429   0.829    6    -5.071     0       0.0604       0.02380   \n",
       "2         0.588   0.701    9    -6.390     1       0.0402       0.00813   \n",
       "3         0.645   0.809   11    -6.120     1       0.0385       0.00921   \n",
       "4         0.825   0.414    2    -6.634     1       0.1440       0.00265   \n",
       "\n",
       "   instrumentalness  liveness  valence    tempo            type  \\\n",
       "0          0.000000     0.111    0.830  205.863  audio_features   \n",
       "1          0.000174     0.673    0.278  127.083  audio_features   \n",
       "2          0.000000     0.200    0.443  104.988  audio_features   \n",
       "3          0.001080     0.106    0.966  138.978  audio_features   \n",
       "4          0.000000     0.357    0.106   72.993  audio_features   \n",
       "\n",
       "                       id                                   uri  \\\n",
       "0  52xJxFP6TqMuO4Yt0eOkMz  spotify:track:52xJxFP6TqMuO4Yt0eOkMz   \n",
       "1  6usFCFN0F69JcAaHtB55sg  spotify:track:6usFCFN0F69JcAaHtB55sg   \n",
       "2  3FeVmId7tL5YN8B7R3imoM  spotify:track:3FeVmId7tL5YN8B7R3imoM   \n",
       "3  3oyc1mIdCBGaU55wX7otqM  spotify:track:3oyc1mIdCBGaU55wX7otqM   \n",
       "4  4A8cWXxKfIL3lAyUDzXbCF  spotify:track:4A8cWXxKfIL3lAyUDzXbCF   \n",
       "\n",
       "                                          track_href  \\\n",
       "0  https://api.spotify.com/v1/tracks/52xJxFP6TqMu...   \n",
       "1  https://api.spotify.com/v1/tracks/6usFCFN0F69J...   \n",
       "2  https://api.spotify.com/v1/tracks/3FeVmId7tL5Y...   \n",
       "3  https://api.spotify.com/v1/tracks/3oyc1mIdCBGa...   \n",
       "4  https://api.spotify.com/v1/tracks/4A8cWXxKfIL3...   \n",
       "\n",
       "                                        analysis_url  duration_ms  \\\n",
       "0  https://api.spotify.com/v1/audio-analysis/52xJ...       216120   \n",
       "1  https://api.spotify.com/v1/audio-analysis/6usF...      1472769   \n",
       "2  https://api.spotify.com/v1/audio-analysis/3FeV...       228000   \n",
       "3  https://api.spotify.com/v1/audio-analysis/3oyc...       196680   \n",
       "4  https://api.spotify.com/v1/audio-analysis/4A8c...       200548   \n",
       "\n",
       "   time_signature  \n",
       "0               4  \n",
       "1               4  \n",
       "2               4  \n",
       "3               4  \n",
       "4               4  "
      ]
     },
     "execution_count": 65,
     "metadata": {},
     "output_type": "execute_result"
    }
   ],
   "source": [
    "# putting the data in a dataframe\n",
    "df_audio_features = pd.DataFrame.from_dict(rows,orient='columns')\n",
    "print(\"Shape of the dataset:\", df_audio_features.shape)\n",
    "df_audio_features.head()"
   ]
  },
  {
   "cell_type": "code",
   "execution_count": 66,
   "id": "71997b01",
   "metadata": {},
   "outputs": [
    {
     "name": "stdout",
     "output_type": "stream",
     "text": [
      "<class 'pandas.core.frame.DataFrame'>\n",
      "RangeIndex: 964 entries, 0 to 963\n",
      "Data columns (total 18 columns):\n",
      " #   Column            Non-Null Count  Dtype  \n",
      "---  ------            --------------  -----  \n",
      " 0   danceability      964 non-null    float64\n",
      " 1   energy            964 non-null    float64\n",
      " 2   key               964 non-null    int64  \n",
      " 3   loudness          964 non-null    float64\n",
      " 4   mode              964 non-null    int64  \n",
      " 5   speechiness       964 non-null    float64\n",
      " 6   acousticness      964 non-null    float64\n",
      " 7   instrumentalness  964 non-null    float64\n",
      " 8   liveness          964 non-null    float64\n",
      " 9   valence           964 non-null    float64\n",
      " 10  tempo             964 non-null    float64\n",
      " 11  type              964 non-null    object \n",
      " 12  id                964 non-null    object \n",
      " 13  uri               964 non-null    object \n",
      " 14  track_href        964 non-null    object \n",
      " 15  analysis_url      964 non-null    object \n",
      " 16  duration_ms       964 non-null    int64  \n",
      " 17  time_signature    964 non-null    int64  \n",
      "dtypes: float64(9), int64(4), object(5)\n",
      "memory usage: 135.7+ KB\n"
     ]
    }
   ],
   "source": [
    "# info on the dataframe\n",
    "df_audio_features.info()"
   ]
  },
  {
   "cell_type": "code",
   "execution_count": 67,
   "id": "a489f530",
   "metadata": {},
   "outputs": [
    {
     "data": {
      "text/plain": [
       "(964, 14)"
      ]
     },
     "execution_count": 67,
     "metadata": {},
     "output_type": "execute_result"
    }
   ],
   "source": [
    "# dropping unnecessary columns\n",
    "columns_to_drop = ['analysis_url','track_href','type','uri']\n",
    "df_audio_features.drop(columns_to_drop, axis=1,inplace=True)\n",
    "\n",
    "df_audio_features.rename(columns={'id': 'track_id'}, inplace=True)\n",
    "\n",
    "df_audio_features.shape"
   ]
  },
  {
   "cell_type": "code",
   "execution_count": 68,
   "id": "8e2e6ed3",
   "metadata": {},
   "outputs": [
    {
     "name": "stdout",
     "output_type": "stream",
     "text": [
      "Shape of the dataset: (964, 14)\n"
     ]
    },
    {
     "data": {
      "text/html": [
       "<div>\n",
       "<style scoped>\n",
       "    .dataframe tbody tr th:only-of-type {\n",
       "        vertical-align: middle;\n",
       "    }\n",
       "\n",
       "    .dataframe tbody tr th {\n",
       "        vertical-align: top;\n",
       "    }\n",
       "\n",
       "    .dataframe thead th {\n",
       "        text-align: right;\n",
       "    }\n",
       "</style>\n",
       "<table border=\"1\" class=\"dataframe\">\n",
       "  <thead>\n",
       "    <tr style=\"text-align: right;\">\n",
       "      <th></th>\n",
       "      <th>artist_name</th>\n",
       "      <th>track_name</th>\n",
       "      <th>track_id</th>\n",
       "      <th>popularity</th>\n",
       "      <th>danceability</th>\n",
       "      <th>energy</th>\n",
       "      <th>key</th>\n",
       "      <th>loudness</th>\n",
       "      <th>mode</th>\n",
       "      <th>speechiness</th>\n",
       "      <th>acousticness</th>\n",
       "      <th>instrumentalness</th>\n",
       "      <th>liveness</th>\n",
       "      <th>valence</th>\n",
       "      <th>tempo</th>\n",
       "      <th>duration_ms</th>\n",
       "      <th>time_signature</th>\n",
       "    </tr>\n",
       "  </thead>\n",
       "  <tbody>\n",
       "    <tr>\n",
       "      <th>0</th>\n",
       "      <td>Carolina Gaitán - La Gaita</td>\n",
       "      <td>We Don't Talk About Bruno</td>\n",
       "      <td>52xJxFP6TqMuO4Yt0eOkMz</td>\n",
       "      <td>95</td>\n",
       "      <td>0.577</td>\n",
       "      <td>0.450</td>\n",
       "      <td>0</td>\n",
       "      <td>-8.516</td>\n",
       "      <td>0</td>\n",
       "      <td>0.0834</td>\n",
       "      <td>0.35700</td>\n",
       "      <td>0.000000</td>\n",
       "      <td>0.111</td>\n",
       "      <td>0.830</td>\n",
       "      <td>205.863</td>\n",
       "      <td>216120</td>\n",
       "      <td>4</td>\n",
       "    </tr>\n",
       "    <tr>\n",
       "      <th>1</th>\n",
       "      <td>LYMEY</td>\n",
       "      <td>END OF YEAR 2021</td>\n",
       "      <td>6usFCFN0F69JcAaHtB55sg</td>\n",
       "      <td>28</td>\n",
       "      <td>0.429</td>\n",
       "      <td>0.829</td>\n",
       "      <td>6</td>\n",
       "      <td>-5.071</td>\n",
       "      <td>0</td>\n",
       "      <td>0.0604</td>\n",
       "      <td>0.02380</td>\n",
       "      <td>0.000174</td>\n",
       "      <td>0.673</td>\n",
       "      <td>0.278</td>\n",
       "      <td>127.083</td>\n",
       "      <td>1472769</td>\n",
       "      <td>4</td>\n",
       "    </tr>\n",
       "    <tr>\n",
       "      <th>2</th>\n",
       "      <td>Coldplay</td>\n",
       "      <td>My Universe</td>\n",
       "      <td>3FeVmId7tL5YN8B7R3imoM</td>\n",
       "      <td>92</td>\n",
       "      <td>0.588</td>\n",
       "      <td>0.701</td>\n",
       "      <td>9</td>\n",
       "      <td>-6.390</td>\n",
       "      <td>1</td>\n",
       "      <td>0.0402</td>\n",
       "      <td>0.00813</td>\n",
       "      <td>0.000000</td>\n",
       "      <td>0.200</td>\n",
       "      <td>0.443</td>\n",
       "      <td>104.988</td>\n",
       "      <td>228000</td>\n",
       "      <td>4</td>\n",
       "    </tr>\n",
       "    <tr>\n",
       "      <th>3</th>\n",
       "      <td>Elvis Costello &amp; The Attractions</td>\n",
       "      <td>Pump It Up - 2021 Remaster</td>\n",
       "      <td>3oyc1mIdCBGaU55wX7otqM</td>\n",
       "      <td>67</td>\n",
       "      <td>0.645</td>\n",
       "      <td>0.809</td>\n",
       "      <td>11</td>\n",
       "      <td>-6.120</td>\n",
       "      <td>1</td>\n",
       "      <td>0.0385</td>\n",
       "      <td>0.00921</td>\n",
       "      <td>0.001080</td>\n",
       "      <td>0.106</td>\n",
       "      <td>0.966</td>\n",
       "      <td>138.978</td>\n",
       "      <td>196680</td>\n",
       "      <td>4</td>\n",
       "    </tr>\n",
       "    <tr>\n",
       "      <th>4</th>\n",
       "      <td>Kodak Black</td>\n",
       "      <td>Super Gremlin</td>\n",
       "      <td>4A8cWXxKfIL3lAyUDzXbCF</td>\n",
       "      <td>91</td>\n",
       "      <td>0.825</td>\n",
       "      <td>0.414</td>\n",
       "      <td>2</td>\n",
       "      <td>-6.634</td>\n",
       "      <td>1</td>\n",
       "      <td>0.1440</td>\n",
       "      <td>0.00265</td>\n",
       "      <td>0.000000</td>\n",
       "      <td>0.357</td>\n",
       "      <td>0.106</td>\n",
       "      <td>72.993</td>\n",
       "      <td>200548</td>\n",
       "      <td>4</td>\n",
       "    </tr>\n",
       "  </tbody>\n",
       "</table>\n",
       "</div>"
      ],
      "text/plain": [
       "                        artist_name                  track_name  \\\n",
       "0        Carolina Gaitán - La Gaita   We Don't Talk About Bruno   \n",
       "1                             LYMEY            END OF YEAR 2021   \n",
       "2                          Coldplay                 My Universe   \n",
       "3  Elvis Costello & The Attractions  Pump It Up - 2021 Remaster   \n",
       "4                       Kodak Black               Super Gremlin   \n",
       "\n",
       "                 track_id  popularity  danceability  energy  key  loudness  \\\n",
       "0  52xJxFP6TqMuO4Yt0eOkMz          95         0.577   0.450    0    -8.516   \n",
       "1  6usFCFN0F69JcAaHtB55sg          28         0.429   0.829    6    -5.071   \n",
       "2  3FeVmId7tL5YN8B7R3imoM          92         0.588   0.701    9    -6.390   \n",
       "3  3oyc1mIdCBGaU55wX7otqM          67         0.645   0.809   11    -6.120   \n",
       "4  4A8cWXxKfIL3lAyUDzXbCF          91         0.825   0.414    2    -6.634   \n",
       "\n",
       "   mode  speechiness  acousticness  instrumentalness  liveness  valence  \\\n",
       "0     0       0.0834       0.35700          0.000000     0.111    0.830   \n",
       "1     0       0.0604       0.02380          0.000174     0.673    0.278   \n",
       "2     1       0.0402       0.00813          0.000000     0.200    0.443   \n",
       "3     1       0.0385       0.00921          0.001080     0.106    0.966   \n",
       "4     1       0.1440       0.00265          0.000000     0.357    0.106   \n",
       "\n",
       "     tempo  duration_ms  time_signature  \n",
       "0  205.863       216120               4  \n",
       "1  127.083      1472769               4  \n",
       "2  104.988       228000               4  \n",
       "3  138.978       196680               4  \n",
       "4   72.993       200548               4  "
      ]
     },
     "execution_count": 68,
     "metadata": {},
     "output_type": "execute_result"
    }
   ],
   "source": [
    "# merge both dataframes\n",
    "# the 'inner' method will make sure that we only keep track IDs present in both datasets\n",
    "df = pd.merge(df_tracks,df_audio_features,on='track_id',how='inner')\n",
    "print(\"Shape of the dataset:\", df_audio_features.shape)\n",
    "df.head()"
   ]
  },
  {
   "cell_type": "code",
   "execution_count": 69,
   "id": "66de2d06",
   "metadata": {},
   "outputs": [
    {
     "name": "stdout",
     "output_type": "stream",
     "text": [
      "<class 'pandas.core.frame.DataFrame'>\n",
      "Int64Index: 964 entries, 0 to 963\n",
      "Data columns (total 17 columns):\n",
      " #   Column            Non-Null Count  Dtype  \n",
      "---  ------            --------------  -----  \n",
      " 0   artist_name       964 non-null    object \n",
      " 1   track_name        964 non-null    object \n",
      " 2   track_id          964 non-null    object \n",
      " 3   popularity        964 non-null    int64  \n",
      " 4   danceability      964 non-null    float64\n",
      " 5   energy            964 non-null    float64\n",
      " 6   key               964 non-null    int64  \n",
      " 7   loudness          964 non-null    float64\n",
      " 8   mode              964 non-null    int64  \n",
      " 9   speechiness       964 non-null    float64\n",
      " 10  acousticness      964 non-null    float64\n",
      " 11  instrumentalness  964 non-null    float64\n",
      " 12  liveness          964 non-null    float64\n",
      " 13  valence           964 non-null    float64\n",
      " 14  tempo             964 non-null    float64\n",
      " 15  duration_ms       964 non-null    int64  \n",
      " 16  time_signature    964 non-null    int64  \n",
      "dtypes: float64(9), int64(5), object(3)\n",
      "memory usage: 135.6+ KB\n"
     ]
    }
   ],
   "source": [
    "# info on the merge dataframe\n",
    "df.info()"
   ]
  },
  {
   "cell_type": "code",
   "execution_count": 70,
   "id": "ed1ebb05",
   "metadata": {},
   "outputs": [
    {
     "data": {
      "text/html": [
       "<div>\n",
       "<style scoped>\n",
       "    .dataframe tbody tr th:only-of-type {\n",
       "        vertical-align: middle;\n",
       "    }\n",
       "\n",
       "    .dataframe tbody tr th {\n",
       "        vertical-align: top;\n",
       "    }\n",
       "\n",
       "    .dataframe thead th {\n",
       "        text-align: right;\n",
       "    }\n",
       "</style>\n",
       "<table border=\"1\" class=\"dataframe\">\n",
       "  <thead>\n",
       "    <tr style=\"text-align: right;\">\n",
       "      <th></th>\n",
       "      <th>artist_name</th>\n",
       "      <th>track_name</th>\n",
       "      <th>track_id</th>\n",
       "      <th>popularity</th>\n",
       "      <th>danceability</th>\n",
       "      <th>energy</th>\n",
       "      <th>key</th>\n",
       "      <th>loudness</th>\n",
       "      <th>mode</th>\n",
       "      <th>speechiness</th>\n",
       "      <th>acousticness</th>\n",
       "      <th>instrumentalness</th>\n",
       "      <th>liveness</th>\n",
       "      <th>valence</th>\n",
       "      <th>tempo</th>\n",
       "      <th>duration_ms</th>\n",
       "      <th>time_signature</th>\n",
       "    </tr>\n",
       "  </thead>\n",
       "  <tbody>\n",
       "  </tbody>\n",
       "</table>\n",
       "</div>"
      ],
      "text/plain": [
       "Empty DataFrame\n",
       "Columns: [artist_name, track_name, track_id, popularity, danceability, energy, key, loudness, mode, speechiness, acousticness, instrumentalness, liveness, valence, tempo, duration_ms, time_signature]\n",
       "Index: []"
      ]
     },
     "execution_count": 70,
     "metadata": {},
     "output_type": "execute_result"
    }
   ],
   "source": [
    "df[df.duplicated(subset=['artist_name','track_name'],keep=False)]"
   ]
  },
  {
   "cell_type": "code",
   "execution_count": 71,
   "id": "aafc66b3",
   "metadata": {},
   "outputs": [],
   "source": [
    "# creating a csv file\n",
    "df.to_csv('spotify2021_1000.csv')"
   ]
  },
  {
   "cell_type": "markdown",
   "id": "f55eae53",
   "metadata": {},
   "source": [
    "### 2022"
   ]
  },
  {
   "cell_type": "code",
   "execution_count": 72,
   "id": "f4215073",
   "metadata": {},
   "outputs": [],
   "source": [
    "# create empty lists where the results are going to be stored\n",
    "artist_name = []\n",
    "track_name = []\n",
    "popularity = []\n",
    "track_id = []\n",
    "\n",
    "for i in range(0,1000,50):\n",
    "    track_results = sp.search(q='year:2022', type='track', limit=50,offset=i)\n",
    "    for i, t in enumerate(track_results['tracks']['items']):\n",
    "        artist_name.append(t['artists'][0]['name'])\n",
    "        track_name.append(t['name'])\n",
    "        track_id.append(t['id'])\n",
    "        popularity.append(t['popularity'])"
   ]
  },
  {
   "cell_type": "code",
   "execution_count": 73,
   "id": "1d852321",
   "metadata": {},
   "outputs": [
    {
     "name": "stdout",
     "output_type": "stream",
     "text": [
      "(1000, 4)\n"
     ]
    },
    {
     "data": {
      "text/html": [
       "<div>\n",
       "<style scoped>\n",
       "    .dataframe tbody tr th:only-of-type {\n",
       "        vertical-align: middle;\n",
       "    }\n",
       "\n",
       "    .dataframe tbody tr th {\n",
       "        vertical-align: top;\n",
       "    }\n",
       "\n",
       "    .dataframe thead th {\n",
       "        text-align: right;\n",
       "    }\n",
       "</style>\n",
       "<table border=\"1\" class=\"dataframe\">\n",
       "  <thead>\n",
       "    <tr style=\"text-align: right;\">\n",
       "      <th></th>\n",
       "      <th>artist_name</th>\n",
       "      <th>track_name</th>\n",
       "      <th>track_id</th>\n",
       "      <th>popularity</th>\n",
       "    </tr>\n",
       "  </thead>\n",
       "  <tbody>\n",
       "    <tr>\n",
       "      <th>0</th>\n",
       "      <td>Gunna</td>\n",
       "      <td>pushin P (feat. Young Thug)</td>\n",
       "      <td>3XOalgusokruzA5ZBA2Qcb</td>\n",
       "      <td>93</td>\n",
       "    </tr>\n",
       "    <tr>\n",
       "      <th>1</th>\n",
       "      <td>Ish Kevin</td>\n",
       "      <td>My Year (2022)</td>\n",
       "      <td>16TeLUubmneRAhwmRAMbjM</td>\n",
       "      <td>32</td>\n",
       "    </tr>\n",
       "    <tr>\n",
       "      <th>2</th>\n",
       "      <td>DJ Snake</td>\n",
       "      <td>U Are My High</td>\n",
       "      <td>4db4crB87tyZ9ExtEoxgVc</td>\n",
       "      <td>6</td>\n",
       "    </tr>\n",
       "    <tr>\n",
       "      <th>3</th>\n",
       "      <td>Years &amp; Years</td>\n",
       "      <td>King</td>\n",
       "      <td>75flwWxBabCyZbLUo36Nvp</td>\n",
       "      <td>7</td>\n",
       "    </tr>\n",
       "    <tr>\n",
       "      <th>4</th>\n",
       "      <td>Dove Cameron</td>\n",
       "      <td>Boyfriend</td>\n",
       "      <td>59CfNbkERJ3NoTXDvoURjj</td>\n",
       "      <td>95</td>\n",
       "    </tr>\n",
       "  </tbody>\n",
       "</table>\n",
       "</div>"
      ],
      "text/plain": [
       "     artist_name                   track_name                track_id  \\\n",
       "0          Gunna  pushin P (feat. Young Thug)  3XOalgusokruzA5ZBA2Qcb   \n",
       "1      Ish Kevin               My Year (2022)  16TeLUubmneRAhwmRAMbjM   \n",
       "2       DJ Snake                U Are My High  4db4crB87tyZ9ExtEoxgVc   \n",
       "3  Years & Years                         King  75flwWxBabCyZbLUo36Nvp   \n",
       "4   Dove Cameron                    Boyfriend  59CfNbkERJ3NoTXDvoURjj   \n",
       "\n",
       "   popularity  \n",
       "0          93  \n",
       "1          32  \n",
       "2           6  \n",
       "3           7  \n",
       "4          95  "
      ]
     },
     "execution_count": 73,
     "metadata": {},
     "output_type": "execute_result"
    }
   ],
   "source": [
    "# putting the data in a dataframe\n",
    "import pandas as pd\n",
    "\n",
    "df_tracks = pd.DataFrame({'artist_name':artist_name,'track_name':track_name,'track_id':track_id,'popularity':popularity})\n",
    "print(df_tracks.shape)\n",
    "df_tracks.head()"
   ]
  },
  {
   "cell_type": "code",
   "execution_count": 74,
   "id": "2c5bcf73",
   "metadata": {},
   "outputs": [
    {
     "data": {
      "text/plain": [
       "95"
      ]
     },
     "execution_count": 74,
     "metadata": {},
     "output_type": "execute_result"
    }
   ],
   "source": [
    "# group the entries by artist_name and track_name and check for duplicates\n",
    "\n",
    "grouped = df_tracks.groupby(['artist_name','track_name'], as_index=True).size()\n",
    "grouped[grouped > 1].count()"
   ]
  },
  {
   "cell_type": "code",
   "execution_count": 75,
   "id": "8fbd7c41",
   "metadata": {},
   "outputs": [],
   "source": [
    "# dropping duplicates\n",
    "df_tracks.drop_duplicates(subset=['artist_name','track_name'], inplace=True)"
   ]
  },
  {
   "cell_type": "code",
   "execution_count": 76,
   "id": "29e09550",
   "metadata": {},
   "outputs": [
    {
     "name": "stdout",
     "output_type": "stream",
     "text": [
      "Number of tracks where no audio features were available: 1\n",
      "Time to run this code (in seconds): 2.427036600000065\n"
     ]
    }
   ],
   "source": [
    "# timeit library to measure the time needed to run this code\n",
    "import timeit\n",
    "# again measuring the time\n",
    "start = timeit.default_timer()\n",
    "\n",
    "# empty list, batchsize and the counter for None results\n",
    "rows = []\n",
    "batchsize = 100\n",
    "None_counter = 0\n",
    "\n",
    "for i in range(0,len(df_tracks['track_id']),batchsize):\n",
    "    batch = df_tracks['track_id'][i:i+batchsize]\n",
    "    feature_results = sp.audio_features(batch)\n",
    "    for i, t in enumerate(feature_results):\n",
    "        if t == None:\n",
    "            None_counter = None_counter + 1\n",
    "        else:\n",
    "            rows.append(t)\n",
    "            \n",
    "print('Number of tracks where no audio features were available:',None_counter)\n",
    "\n",
    "stop = timeit.default_timer()\n",
    "print ('Time to run this code (in seconds):',stop - start)"
   ]
  },
  {
   "cell_type": "code",
   "execution_count": 77,
   "id": "484f37d8",
   "metadata": {},
   "outputs": [
    {
     "name": "stdout",
     "output_type": "stream",
     "text": [
      "Shape of the dataset: (853, 18)\n"
     ]
    },
    {
     "data": {
      "text/html": [
       "<div>\n",
       "<style scoped>\n",
       "    .dataframe tbody tr th:only-of-type {\n",
       "        vertical-align: middle;\n",
       "    }\n",
       "\n",
       "    .dataframe tbody tr th {\n",
       "        vertical-align: top;\n",
       "    }\n",
       "\n",
       "    .dataframe thead th {\n",
       "        text-align: right;\n",
       "    }\n",
       "</style>\n",
       "<table border=\"1\" class=\"dataframe\">\n",
       "  <thead>\n",
       "    <tr style=\"text-align: right;\">\n",
       "      <th></th>\n",
       "      <th>danceability</th>\n",
       "      <th>energy</th>\n",
       "      <th>key</th>\n",
       "      <th>loudness</th>\n",
       "      <th>mode</th>\n",
       "      <th>speechiness</th>\n",
       "      <th>acousticness</th>\n",
       "      <th>instrumentalness</th>\n",
       "      <th>liveness</th>\n",
       "      <th>valence</th>\n",
       "      <th>tempo</th>\n",
       "      <th>type</th>\n",
       "      <th>id</th>\n",
       "      <th>uri</th>\n",
       "      <th>track_href</th>\n",
       "      <th>analysis_url</th>\n",
       "      <th>duration_ms</th>\n",
       "      <th>time_signature</th>\n",
       "    </tr>\n",
       "  </thead>\n",
       "  <tbody>\n",
       "    <tr>\n",
       "      <th>0</th>\n",
       "      <td>0.773</td>\n",
       "      <td>0.422</td>\n",
       "      <td>1</td>\n",
       "      <td>-4.572</td>\n",
       "      <td>0</td>\n",
       "      <td>0.1870</td>\n",
       "      <td>0.00783</td>\n",
       "      <td>0.00693</td>\n",
       "      <td>0.129</td>\n",
       "      <td>0.488</td>\n",
       "      <td>77.502</td>\n",
       "      <td>audio_features</td>\n",
       "      <td>3XOalgusokruzA5ZBA2Qcb</td>\n",
       "      <td>spotify:track:3XOalgusokruzA5ZBA2Qcb</td>\n",
       "      <td>https://api.spotify.com/v1/tracks/3XOalgusokru...</td>\n",
       "      <td>https://api.spotify.com/v1/audio-analysis/3XOa...</td>\n",
       "      <td>136267</td>\n",
       "      <td>1</td>\n",
       "    </tr>\n",
       "    <tr>\n",
       "      <th>1</th>\n",
       "      <td>0.521</td>\n",
       "      <td>0.683</td>\n",
       "      <td>5</td>\n",
       "      <td>-6.240</td>\n",
       "      <td>0</td>\n",
       "      <td>0.5010</td>\n",
       "      <td>0.15900</td>\n",
       "      <td>0.00000</td>\n",
       "      <td>0.187</td>\n",
       "      <td>0.737</td>\n",
       "      <td>139.439</td>\n",
       "      <td>audio_features</td>\n",
       "      <td>16TeLUubmneRAhwmRAMbjM</td>\n",
       "      <td>spotify:track:16TeLUubmneRAhwmRAMbjM</td>\n",
       "      <td>https://api.spotify.com/v1/tracks/16TeLUubmneR...</td>\n",
       "      <td>https://api.spotify.com/v1/audio-analysis/16Te...</td>\n",
       "      <td>161808</td>\n",
       "      <td>3</td>\n",
       "    </tr>\n",
       "    <tr>\n",
       "      <th>2</th>\n",
       "      <td>0.503</td>\n",
       "      <td>0.783</td>\n",
       "      <td>0</td>\n",
       "      <td>-4.761</td>\n",
       "      <td>0</td>\n",
       "      <td>0.0385</td>\n",
       "      <td>0.02210</td>\n",
       "      <td>0.00223</td>\n",
       "      <td>0.140</td>\n",
       "      <td>0.213</td>\n",
       "      <td>125.122</td>\n",
       "      <td>audio_features</td>\n",
       "      <td>4db4crB87tyZ9ExtEoxgVc</td>\n",
       "      <td>spotify:track:4db4crB87tyZ9ExtEoxgVc</td>\n",
       "      <td>https://api.spotify.com/v1/tracks/4db4crB87tyZ...</td>\n",
       "      <td>https://api.spotify.com/v1/audio-analysis/4db4...</td>\n",
       "      <td>180480</td>\n",
       "      <td>4</td>\n",
       "    </tr>\n",
       "    <tr>\n",
       "      <th>3</th>\n",
       "      <td>0.559</td>\n",
       "      <td>0.837</td>\n",
       "      <td>4</td>\n",
       "      <td>-4.062</td>\n",
       "      <td>0</td>\n",
       "      <td>0.0391</td>\n",
       "      <td>0.06170</td>\n",
       "      <td>0.00000</td>\n",
       "      <td>0.393</td>\n",
       "      <td>0.446</td>\n",
       "      <td>119.958</td>\n",
       "      <td>audio_features</td>\n",
       "      <td>75flwWxBabCyZbLUo36Nvp</td>\n",
       "      <td>spotify:track:75flwWxBabCyZbLUo36Nvp</td>\n",
       "      <td>https://api.spotify.com/v1/tracks/75flwWxBabCy...</td>\n",
       "      <td>https://api.spotify.com/v1/audio-analysis/75fl...</td>\n",
       "      <td>214835</td>\n",
       "      <td>4</td>\n",
       "    </tr>\n",
       "    <tr>\n",
       "      <th>4</th>\n",
       "      <td>0.345</td>\n",
       "      <td>0.612</td>\n",
       "      <td>7</td>\n",
       "      <td>-6.543</td>\n",
       "      <td>0</td>\n",
       "      <td>0.0608</td>\n",
       "      <td>0.23200</td>\n",
       "      <td>0.00000</td>\n",
       "      <td>0.194</td>\n",
       "      <td>0.232</td>\n",
       "      <td>179.773</td>\n",
       "      <td>audio_features</td>\n",
       "      <td>59CfNbkERJ3NoTXDvoURjj</td>\n",
       "      <td>spotify:track:59CfNbkERJ3NoTXDvoURjj</td>\n",
       "      <td>https://api.spotify.com/v1/tracks/59CfNbkERJ3N...</td>\n",
       "      <td>https://api.spotify.com/v1/audio-analysis/59Cf...</td>\n",
       "      <td>153000</td>\n",
       "      <td>3</td>\n",
       "    </tr>\n",
       "  </tbody>\n",
       "</table>\n",
       "</div>"
      ],
      "text/plain": [
       "   danceability  energy  key  loudness  mode  speechiness  acousticness  \\\n",
       "0         0.773   0.422    1    -4.572     0       0.1870       0.00783   \n",
       "1         0.521   0.683    5    -6.240     0       0.5010       0.15900   \n",
       "2         0.503   0.783    0    -4.761     0       0.0385       0.02210   \n",
       "3         0.559   0.837    4    -4.062     0       0.0391       0.06170   \n",
       "4         0.345   0.612    7    -6.543     0       0.0608       0.23200   \n",
       "\n",
       "   instrumentalness  liveness  valence    tempo            type  \\\n",
       "0           0.00693     0.129    0.488   77.502  audio_features   \n",
       "1           0.00000     0.187    0.737  139.439  audio_features   \n",
       "2           0.00223     0.140    0.213  125.122  audio_features   \n",
       "3           0.00000     0.393    0.446  119.958  audio_features   \n",
       "4           0.00000     0.194    0.232  179.773  audio_features   \n",
       "\n",
       "                       id                                   uri  \\\n",
       "0  3XOalgusokruzA5ZBA2Qcb  spotify:track:3XOalgusokruzA5ZBA2Qcb   \n",
       "1  16TeLUubmneRAhwmRAMbjM  spotify:track:16TeLUubmneRAhwmRAMbjM   \n",
       "2  4db4crB87tyZ9ExtEoxgVc  spotify:track:4db4crB87tyZ9ExtEoxgVc   \n",
       "3  75flwWxBabCyZbLUo36Nvp  spotify:track:75flwWxBabCyZbLUo36Nvp   \n",
       "4  59CfNbkERJ3NoTXDvoURjj  spotify:track:59CfNbkERJ3NoTXDvoURjj   \n",
       "\n",
       "                                          track_href  \\\n",
       "0  https://api.spotify.com/v1/tracks/3XOalgusokru...   \n",
       "1  https://api.spotify.com/v1/tracks/16TeLUubmneR...   \n",
       "2  https://api.spotify.com/v1/tracks/4db4crB87tyZ...   \n",
       "3  https://api.spotify.com/v1/tracks/75flwWxBabCy...   \n",
       "4  https://api.spotify.com/v1/tracks/59CfNbkERJ3N...   \n",
       "\n",
       "                                        analysis_url  duration_ms  \\\n",
       "0  https://api.spotify.com/v1/audio-analysis/3XOa...       136267   \n",
       "1  https://api.spotify.com/v1/audio-analysis/16Te...       161808   \n",
       "2  https://api.spotify.com/v1/audio-analysis/4db4...       180480   \n",
       "3  https://api.spotify.com/v1/audio-analysis/75fl...       214835   \n",
       "4  https://api.spotify.com/v1/audio-analysis/59Cf...       153000   \n",
       "\n",
       "   time_signature  \n",
       "0               1  \n",
       "1               3  \n",
       "2               4  \n",
       "3               4  \n",
       "4               3  "
      ]
     },
     "execution_count": 77,
     "metadata": {},
     "output_type": "execute_result"
    }
   ],
   "source": [
    "# putting the data in a dataframe\n",
    "df_audio_features = pd.DataFrame.from_dict(rows,orient='columns')\n",
    "print(\"Shape of the dataset:\", df_audio_features.shape)\n",
    "df_audio_features.head()"
   ]
  },
  {
   "cell_type": "code",
   "execution_count": 78,
   "id": "5392fed6",
   "metadata": {},
   "outputs": [
    {
     "name": "stdout",
     "output_type": "stream",
     "text": [
      "<class 'pandas.core.frame.DataFrame'>\n",
      "RangeIndex: 853 entries, 0 to 852\n",
      "Data columns (total 18 columns):\n",
      " #   Column            Non-Null Count  Dtype  \n",
      "---  ------            --------------  -----  \n",
      " 0   danceability      853 non-null    float64\n",
      " 1   energy            853 non-null    float64\n",
      " 2   key               853 non-null    int64  \n",
      " 3   loudness          853 non-null    float64\n",
      " 4   mode              853 non-null    int64  \n",
      " 5   speechiness       853 non-null    float64\n",
      " 6   acousticness      853 non-null    float64\n",
      " 7   instrumentalness  853 non-null    float64\n",
      " 8   liveness          853 non-null    float64\n",
      " 9   valence           853 non-null    float64\n",
      " 10  tempo             853 non-null    float64\n",
      " 11  type              853 non-null    object \n",
      " 12  id                853 non-null    object \n",
      " 13  uri               853 non-null    object \n",
      " 14  track_href        853 non-null    object \n",
      " 15  analysis_url      853 non-null    object \n",
      " 16  duration_ms       853 non-null    int64  \n",
      " 17  time_signature    853 non-null    int64  \n",
      "dtypes: float64(9), int64(4), object(5)\n",
      "memory usage: 120.1+ KB\n"
     ]
    }
   ],
   "source": [
    "# info on the dataframe\n",
    "df_audio_features.info()"
   ]
  },
  {
   "cell_type": "code",
   "execution_count": 79,
   "id": "24d6d228",
   "metadata": {},
   "outputs": [
    {
     "data": {
      "text/plain": [
       "(853, 14)"
      ]
     },
     "execution_count": 79,
     "metadata": {},
     "output_type": "execute_result"
    }
   ],
   "source": [
    "# dropping unnecessary columns\n",
    "columns_to_drop = ['analysis_url','track_href','type','uri']\n",
    "df_audio_features.drop(columns_to_drop, axis=1,inplace=True)\n",
    "\n",
    "df_audio_features.rename(columns={'id': 'track_id'}, inplace=True)\n",
    "\n",
    "df_audio_features.shape"
   ]
  },
  {
   "cell_type": "code",
   "execution_count": 80,
   "id": "05246486",
   "metadata": {},
   "outputs": [
    {
     "name": "stdout",
     "output_type": "stream",
     "text": [
      "Shape of the dataset: (853, 14)\n"
     ]
    },
    {
     "data": {
      "text/html": [
       "<div>\n",
       "<style scoped>\n",
       "    .dataframe tbody tr th:only-of-type {\n",
       "        vertical-align: middle;\n",
       "    }\n",
       "\n",
       "    .dataframe tbody tr th {\n",
       "        vertical-align: top;\n",
       "    }\n",
       "\n",
       "    .dataframe thead th {\n",
       "        text-align: right;\n",
       "    }\n",
       "</style>\n",
       "<table border=\"1\" class=\"dataframe\">\n",
       "  <thead>\n",
       "    <tr style=\"text-align: right;\">\n",
       "      <th></th>\n",
       "      <th>artist_name</th>\n",
       "      <th>track_name</th>\n",
       "      <th>track_id</th>\n",
       "      <th>popularity</th>\n",
       "      <th>danceability</th>\n",
       "      <th>energy</th>\n",
       "      <th>key</th>\n",
       "      <th>loudness</th>\n",
       "      <th>mode</th>\n",
       "      <th>speechiness</th>\n",
       "      <th>acousticness</th>\n",
       "      <th>instrumentalness</th>\n",
       "      <th>liveness</th>\n",
       "      <th>valence</th>\n",
       "      <th>tempo</th>\n",
       "      <th>duration_ms</th>\n",
       "      <th>time_signature</th>\n",
       "    </tr>\n",
       "  </thead>\n",
       "  <tbody>\n",
       "    <tr>\n",
       "      <th>0</th>\n",
       "      <td>Gunna</td>\n",
       "      <td>pushin P (feat. Young Thug)</td>\n",
       "      <td>3XOalgusokruzA5ZBA2Qcb</td>\n",
       "      <td>93</td>\n",
       "      <td>0.773</td>\n",
       "      <td>0.422</td>\n",
       "      <td>1</td>\n",
       "      <td>-4.572</td>\n",
       "      <td>0</td>\n",
       "      <td>0.1870</td>\n",
       "      <td>0.00783</td>\n",
       "      <td>0.00693</td>\n",
       "      <td>0.129</td>\n",
       "      <td>0.488</td>\n",
       "      <td>77.502</td>\n",
       "      <td>136267</td>\n",
       "      <td>1</td>\n",
       "    </tr>\n",
       "    <tr>\n",
       "      <th>1</th>\n",
       "      <td>Ish Kevin</td>\n",
       "      <td>My Year (2022)</td>\n",
       "      <td>16TeLUubmneRAhwmRAMbjM</td>\n",
       "      <td>32</td>\n",
       "      <td>0.521</td>\n",
       "      <td>0.683</td>\n",
       "      <td>5</td>\n",
       "      <td>-6.240</td>\n",
       "      <td>0</td>\n",
       "      <td>0.5010</td>\n",
       "      <td>0.15900</td>\n",
       "      <td>0.00000</td>\n",
       "      <td>0.187</td>\n",
       "      <td>0.737</td>\n",
       "      <td>139.439</td>\n",
       "      <td>161808</td>\n",
       "      <td>3</td>\n",
       "    </tr>\n",
       "    <tr>\n",
       "      <th>2</th>\n",
       "      <td>DJ Snake</td>\n",
       "      <td>U Are My High</td>\n",
       "      <td>4db4crB87tyZ9ExtEoxgVc</td>\n",
       "      <td>6</td>\n",
       "      <td>0.503</td>\n",
       "      <td>0.783</td>\n",
       "      <td>0</td>\n",
       "      <td>-4.761</td>\n",
       "      <td>0</td>\n",
       "      <td>0.0385</td>\n",
       "      <td>0.02210</td>\n",
       "      <td>0.00223</td>\n",
       "      <td>0.140</td>\n",
       "      <td>0.213</td>\n",
       "      <td>125.122</td>\n",
       "      <td>180480</td>\n",
       "      <td>4</td>\n",
       "    </tr>\n",
       "    <tr>\n",
       "      <th>3</th>\n",
       "      <td>Years &amp; Years</td>\n",
       "      <td>King</td>\n",
       "      <td>75flwWxBabCyZbLUo36Nvp</td>\n",
       "      <td>7</td>\n",
       "      <td>0.559</td>\n",
       "      <td>0.837</td>\n",
       "      <td>4</td>\n",
       "      <td>-4.062</td>\n",
       "      <td>0</td>\n",
       "      <td>0.0391</td>\n",
       "      <td>0.06170</td>\n",
       "      <td>0.00000</td>\n",
       "      <td>0.393</td>\n",
       "      <td>0.446</td>\n",
       "      <td>119.958</td>\n",
       "      <td>214835</td>\n",
       "      <td>4</td>\n",
       "    </tr>\n",
       "    <tr>\n",
       "      <th>4</th>\n",
       "      <td>Dove Cameron</td>\n",
       "      <td>Boyfriend</td>\n",
       "      <td>59CfNbkERJ3NoTXDvoURjj</td>\n",
       "      <td>95</td>\n",
       "      <td>0.345</td>\n",
       "      <td>0.612</td>\n",
       "      <td>7</td>\n",
       "      <td>-6.543</td>\n",
       "      <td>0</td>\n",
       "      <td>0.0608</td>\n",
       "      <td>0.23200</td>\n",
       "      <td>0.00000</td>\n",
       "      <td>0.194</td>\n",
       "      <td>0.232</td>\n",
       "      <td>179.773</td>\n",
       "      <td>153000</td>\n",
       "      <td>3</td>\n",
       "    </tr>\n",
       "  </tbody>\n",
       "</table>\n",
       "</div>"
      ],
      "text/plain": [
       "     artist_name                   track_name                track_id  \\\n",
       "0          Gunna  pushin P (feat. Young Thug)  3XOalgusokruzA5ZBA2Qcb   \n",
       "1      Ish Kevin               My Year (2022)  16TeLUubmneRAhwmRAMbjM   \n",
       "2       DJ Snake                U Are My High  4db4crB87tyZ9ExtEoxgVc   \n",
       "3  Years & Years                         King  75flwWxBabCyZbLUo36Nvp   \n",
       "4   Dove Cameron                    Boyfriend  59CfNbkERJ3NoTXDvoURjj   \n",
       "\n",
       "   popularity  danceability  energy  key  loudness  mode  speechiness  \\\n",
       "0          93         0.773   0.422    1    -4.572     0       0.1870   \n",
       "1          32         0.521   0.683    5    -6.240     0       0.5010   \n",
       "2           6         0.503   0.783    0    -4.761     0       0.0385   \n",
       "3           7         0.559   0.837    4    -4.062     0       0.0391   \n",
       "4          95         0.345   0.612    7    -6.543     0       0.0608   \n",
       "\n",
       "   acousticness  instrumentalness  liveness  valence    tempo  duration_ms  \\\n",
       "0       0.00783           0.00693     0.129    0.488   77.502       136267   \n",
       "1       0.15900           0.00000     0.187    0.737  139.439       161808   \n",
       "2       0.02210           0.00223     0.140    0.213  125.122       180480   \n",
       "3       0.06170           0.00000     0.393    0.446  119.958       214835   \n",
       "4       0.23200           0.00000     0.194    0.232  179.773       153000   \n",
       "\n",
       "   time_signature  \n",
       "0               1  \n",
       "1               3  \n",
       "2               4  \n",
       "3               4  \n",
       "4               3  "
      ]
     },
     "execution_count": 80,
     "metadata": {},
     "output_type": "execute_result"
    }
   ],
   "source": [
    "# merge both dataframes\n",
    "# the 'inner' method will make sure that we only keep track IDs present in both datasets\n",
    "df = pd.merge(df_tracks,df_audio_features,on='track_id',how='inner')\n",
    "print(\"Shape of the dataset:\", df_audio_features.shape)\n",
    "df.head()"
   ]
  },
  {
   "cell_type": "code",
   "execution_count": 81,
   "id": "de9db443",
   "metadata": {},
   "outputs": [
    {
     "name": "stdout",
     "output_type": "stream",
     "text": [
      "<class 'pandas.core.frame.DataFrame'>\n",
      "Int64Index: 853 entries, 0 to 852\n",
      "Data columns (total 17 columns):\n",
      " #   Column            Non-Null Count  Dtype  \n",
      "---  ------            --------------  -----  \n",
      " 0   artist_name       853 non-null    object \n",
      " 1   track_name        853 non-null    object \n",
      " 2   track_id          853 non-null    object \n",
      " 3   popularity        853 non-null    int64  \n",
      " 4   danceability      853 non-null    float64\n",
      " 5   energy            853 non-null    float64\n",
      " 6   key               853 non-null    int64  \n",
      " 7   loudness          853 non-null    float64\n",
      " 8   mode              853 non-null    int64  \n",
      " 9   speechiness       853 non-null    float64\n",
      " 10  acousticness      853 non-null    float64\n",
      " 11  instrumentalness  853 non-null    float64\n",
      " 12  liveness          853 non-null    float64\n",
      " 13  valence           853 non-null    float64\n",
      " 14  tempo             853 non-null    float64\n",
      " 15  duration_ms       853 non-null    int64  \n",
      " 16  time_signature    853 non-null    int64  \n",
      "dtypes: float64(9), int64(5), object(3)\n",
      "memory usage: 120.0+ KB\n"
     ]
    }
   ],
   "source": [
    "# info on the merge dataframe\n",
    "df.info()"
   ]
  },
  {
   "cell_type": "code",
   "execution_count": 82,
   "id": "8c55e5e4",
   "metadata": {},
   "outputs": [],
   "source": [
    "# creating a csv file\n",
    "df.to_csv('spotify2022_1000.csv')"
   ]
  },
  {
   "cell_type": "code",
   "execution_count": null,
   "id": "9f04b1be",
   "metadata": {},
   "outputs": [],
   "source": []
  }
 ],
 "metadata": {
  "kernelspec": {
   "display_name": "Python 3 (ipykernel)",
   "language": "python",
   "name": "python3"
  },
  "language_info": {
   "codemirror_mode": {
    "name": "ipython",
    "version": 3
   },
   "file_extension": ".py",
   "mimetype": "text/x-python",
   "name": "python",
   "nbconvert_exporter": "python",
   "pygments_lexer": "ipython3",
   "version": "3.9.7"
  }
 },
 "nbformat": 4,
 "nbformat_minor": 5
}
