{
 "cells": [
  {
   "cell_type": "code",
   "execution_count": 2,
   "id": "582b225a",
   "metadata": {},
   "outputs": [],
   "source": [
    "import spotipy.util as util"
   ]
  },
  {
   "cell_type": "code",
   "execution_count": 3,
   "id": "b1f04109",
   "metadata": {},
   "outputs": [],
   "source": [
    "username = 'ray1d5u3xeb2e8c1nkpnwsnig'\n",
    "client_id = 'bbf8d106196049c7831e658b73eb7a72'\n",
    "client_secret = 'a249efe0cd3c411fa6182dfa2f4ce048'\n",
    "redirect_url = 'http://localhost:7777/callback'\n",
    "scope = 'user-read-recently-played'\n",
    "\n",
    "token = util.prompt_for_user_token(username=username, \n",
    "                                   scope=scope, \n",
    "                                   client_id=client_id,   \n",
    "                                   client_secret=client_secret,     \n",
    "                                   redirect_uri=redirect_url)"
   ]
  },
  {
   "cell_type": "code",
   "execution_count": 4,
   "id": "2cb3aefe",
   "metadata": {},
   "outputs": [
    {
     "name": "stdout",
     "output_type": "stream",
     "text": [
      "BQCP0n4LBaW-brEYhmnegs1nlF7SiLhSvQEH3sNGSQDhct6_PGa1IGwV3uAbA8n3mN5i-qBpt3yivKqLE5syCkH4QvHyPDrIjSclmtuUuVyaAaW98hyGlAjE5tr5gFrcwwnm7NVMUZ2177fUetFIUyEpgZerUVDiILFoE9X3NpU\n"
     ]
    }
   ],
   "source": [
    "print(token)"
   ]
  },
  {
   "cell_type": "code",
   "execution_count": 5,
   "id": "ad3f9bbf",
   "metadata": {},
   "outputs": [],
   "source": [
    "import requests"
   ]
  },
  {
   "cell_type": "code",
   "execution_count": 15,
   "id": "2c6eb850",
   "metadata": {},
   "outputs": [],
   "source": [
    "def get_id(track_name: str,artist:str, token: str) -> str:\n",
    "    headers = {\n",
    "    'Accept': 'application/json',\n",
    "    'Content-Type': 'application/json',\n",
    "    'Authorization': f'Bearer ' + token,\n",
    "    }\n",
    "    track_artist = track_name+ \" \" + artist\n",
    "    params = [\n",
    "    ('q',track_artist ),#q is the search query parameter\n",
    "    ('type', 'track'),\n",
    "    ]\n",
    "    try:\n",
    "        response = requests.get('https://api.spotify.com/v1/search', \n",
    "                    headers = headers, params = params, timeout = 10)\n",
    "        json = response.json()\n",
    "        first_result = json['tracks']['items'][0]\n",
    "        track_id = first_result['id']\n",
    "        return track_id\n",
    "    except:\n",
    "        return None"
   ]
  },
  {
   "cell_type": "code",
   "execution_count": 19,
   "id": "c4a05abf",
   "metadata": {},
   "outputs": [
    {
     "data": {
      "text/plain": [
       "'50kpGaPAhYJ3sGmk6vplg0'"
      ]
     },
     "execution_count": 19,
     "metadata": {},
     "output_type": "execute_result"
    }
   ],
   "source": [
    "lucy_id = get_id(track_name = 'Love Yourself', artist = 'Justin Bieber', token = token)\n",
    "lucy_id"
   ]
  },
  {
   "cell_type": "code",
   "execution_count": 20,
   "id": "d5351ada",
   "metadata": {},
   "outputs": [],
   "source": [
    "def get_features(track_id: str, token: str) -> dict:\n",
    "    sp = spotipy.Spotify(auth=token)\n",
    "    try:\n",
    "        features = sp.audio_features([track_id])\n",
    "        return features[0]\n",
    "    except:\n",
    "        return None"
   ]
  },
  {
   "cell_type": "code",
   "execution_count": 21,
   "id": "d118c4ae",
   "metadata": {},
   "outputs": [
    {
     "name": "stdout",
     "output_type": "stream",
     "text": [
      "{'danceability': 0.609, 'energy': 0.378, 'key': 4, 'loudness': -9.828, 'mode': 1, 'speechiness': 0.438, 'acousticness': 0.835, 'instrumentalness': 0, 'liveness': 0.28, 'valence': 0.515, 'tempo': 100.418, 'type': 'audio_features', 'id': '50kpGaPAhYJ3sGmk6vplg0', 'uri': 'spotify:track:50kpGaPAhYJ3sGmk6vplg0', 'track_href': 'https://api.spotify.com/v1/tracks/50kpGaPAhYJ3sGmk6vplg0', 'analysis_url': 'https://api.spotify.com/v1/audio-analysis/50kpGaPAhYJ3sGmk6vplg0', 'duration_ms': 233720, 'time_signature': 4}\n"
     ]
    }
   ],
   "source": [
    "lucy_features = get_features(lucy_id, token)\n",
    "print(lucy_features)"
   ]
  },
  {
   "cell_type": "code",
   "execution_count": 22,
   "id": "c1daa413",
   "metadata": {},
   "outputs": [
    {
     "ename": "NameError",
     "evalue": "name 'get_streamings' is not defined",
     "output_type": "error",
     "traceback": [
      "\u001b[1;31m---------------------------------------------------------------------------\u001b[0m",
      "\u001b[1;31mNameError\u001b[0m                                 Traceback (most recent call last)",
      "\u001b[1;32m~\\AppData\\Local\\Temp/ipykernel_18868/2986381905.py\u001b[0m in \u001b[0;36m<module>\u001b[1;34m\u001b[0m\n\u001b[1;32m----> 1\u001b[1;33m \u001b[0mstreamings\u001b[0m \u001b[1;33m=\u001b[0m \u001b[0mget_streamings\u001b[0m\u001b[1;33m(\u001b[0m\u001b[1;33m)\u001b[0m\u001b[1;33m\u001b[0m\u001b[1;33m\u001b[0m\u001b[0m\n\u001b[0m\u001b[0;32m      2\u001b[0m unique_tracks = list(set([streaming['trackName'] \n\u001b[0;32m      3\u001b[0m                 for streaming in streamings]))\n\u001b[0;32m      4\u001b[0m \u001b[1;33m\u001b[0m\u001b[0m\n\u001b[0;32m      5\u001b[0m \u001b[0mall_features\u001b[0m \u001b[1;33m=\u001b[0m \u001b[1;33m{\u001b[0m\u001b[1;33m}\u001b[0m\u001b[1;33m\u001b[0m\u001b[1;33m\u001b[0m\u001b[0m\n",
      "\u001b[1;31mNameError\u001b[0m: name 'get_streamings' is not defined"
     ]
    }
   ],
   "source": [
    "streamings = get_streamings()\n",
    "unique_tracks = list(set([streaming['trackName'] \n",
    "                for streaming in streamings]))\n",
    "\n",
    "all_features = {}\n",
    "for track in unique_tracks:\n",
    "    track_id = get_id(track, token)\n",
    "    features = get_features(track_id, token)\n",
    "    if features:\n",
    "        all_features[track] = features\n",
    "        \n",
    "with_features = []\n",
    "for track_name, features in all_features.items():\n",
    "    with_features.append({'name': track_name, **features})"
   ]
  },
  {
   "cell_type": "code",
   "execution_count": null,
   "id": "52e4b7a3",
   "metadata": {},
   "outputs": [],
   "source": []
  }
 ],
 "metadata": {
  "kernelspec": {
   "display_name": "Python 3 (ipykernel)",
   "language": "python",
   "name": "python3"
  },
  "language_info": {
   "codemirror_mode": {
    "name": "ipython",
    "version": 3
   },
   "file_extension": ".py",
   "mimetype": "text/x-python",
   "name": "python",
   "nbconvert_exporter": "python",
   "pygments_lexer": "ipython3",
   "version": "3.9.7"
  }
 },
 "nbformat": 4,
 "nbformat_minor": 5
}
